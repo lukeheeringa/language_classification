{
 "cells": [
  {
   "cell_type": "code",
   "execution_count": 1,
   "id": "golden-russell",
   "metadata": {},
   "outputs": [],
   "source": [
    "import librosa\n",
    "import numpy as np\n",
    "import pickle\n",
    "\n",
    "from os import listdir"
   ]
  },
  {
   "cell_type": "code",
   "execution_count": 3,
   "id": "italian-defense",
   "metadata": {},
   "outputs": [],
   "source": [
    "def audio_file_listing(source, lang_abbr):\n",
    "    base_path = '../audio/' + source + '/' + lang_abbr + '/'\n",
    "    return np.array(\n",
    "        [f'{i:03}' + '___' + base_path + f for i, f in list(enumerate(listdir(base_path))) if '.mp3' in f])"
   ]
  },
  {
   "cell_type": "code",
   "execution_count": 5,
   "id": "liquid-ceiling",
   "metadata": {},
   "outputs": [],
   "source": [
    "def split_and_save(fname):\n",
    "    # input is a string of format 'n___f' where n is the sample number and f is the file path\n",
    "    n = fname.split('___')[0]\n",
    "    n = np.int(n)\n",
    "    path = '___'.join(fname.split('___')[1:])\n",
    "    \n",
    "    try:\n",
    "        # load the full sample\n",
    "        full, sr = librosa.load(path, sr=16000)\n",
    "        # trim silence\n",
    "        trim, start = librosa.effects.trim(full, sr)\n",
    "        # calculate duration in seconds\n",
    "        dur = len(trim) / sr\n",
    "    except:\n",
    "        return\n",
    "    \n",
    "    # splitting path from format '../audio/n_source/lang/sample.mp3'\n",
    "    split = path.split('/')\n",
    "    source = split[2].split('_')[0]\n",
    "    lang = split[3]\n",
    "    \n",
    "    # set index\n",
    "    i = 0\n",
    "    \n",
    "    # cut sample into 5 second clips and save\n",
    "    for x in range(0, np.floor(dur / 5).astype('int') * 5, 5):\n",
    "        try:\n",
    "            sample = trim[x * sr : (x + 5) * sr]\n",
    "            save_name = f'../data/timeseries/{lang}/{lang}{source}{n:03}{i:03}.pkl'\n",
    "            with open(save_name, 'wb') as f:\n",
    "                pickle.dump(sample, f)\n",
    "        except:\n",
    "            pass\n",
    "        i += 1"
   ]
  },
  {
   "cell_type": "code",
   "execution_count": 7,
   "id": "numerical-advocate",
   "metadata": {},
   "outputs": [],
   "source": [
    "en1 = np.array(audio_file_listing('1_audiolingua', 'en'))"
   ]
  },
  {
   "cell_type": "code",
   "execution_count": 18,
   "id": "super-compatibility",
   "metadata": {},
   "outputs": [],
   "source": [
    "zh1 = np.array(audio_file_listing('1_audiolingua', 'zh'))"
   ]
  },
  {
   "cell_type": "code",
   "execution_count": 31,
   "id": "recreational-plasma",
   "metadata": {},
   "outputs": [],
   "source": [
    "v_split_and_save = np.vectorize(split_and_save)"
   ]
  },
  {
   "cell_type": "code",
   "execution_count": 40,
   "id": "formed-arbitration",
   "metadata": {},
   "outputs": [],
   "source": [
    "# v_split_and_save(en1)"
   ]
  },
  {
   "cell_type": "code",
   "execution_count": 41,
   "id": "alien-upset",
   "metadata": {},
   "outputs": [],
   "source": [
    "# v_split_and_save(zh1)"
   ]
  }
 ],
 "metadata": {
  "kernelspec": {
   "display_name": "Python 3",
   "language": "python",
   "name": "python3"
  },
  "language_info": {
   "codemirror_mode": {
    "name": "ipython",
    "version": 3
   },
   "file_extension": ".py",
   "mimetype": "text/x-python",
   "name": "python",
   "nbconvert_exporter": "python",
   "pygments_lexer": "ipython3",
   "version": "3.8.5"
  }
 },
 "nbformat": 4,
 "nbformat_minor": 5
}
