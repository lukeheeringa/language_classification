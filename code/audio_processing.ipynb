{
 "cells": [
  {
   "cell_type": "code",
   "execution_count": 3,
   "id": "bigger-singing",
   "metadata": {},
   "outputs": [],
   "source": [
    "import warnings\n",
    "warnings.filterwarnings('ignore')"
   ]
  },
  {
   "cell_type": "code",
   "execution_count": 1,
   "id": "developed-principal",
   "metadata": {},
   "outputs": [],
   "source": [
    "import librosa\n",
    "import numpy as np\n",
    "import pickle\n",
    "\n",
    "from os import listdir"
   ]
  },
  {
   "cell_type": "code",
   "execution_count": 4,
   "id": "defined-intellectual",
   "metadata": {},
   "outputs": [],
   "source": [
    "def audio_file_listing(source, lang_abbr):\n",
    "    base_path = '../audio/' + source + '/' + lang_abbr + '/'\n",
    "    return np.array(\n",
    "        [f'{i:03}' + '___' + base_path + f for i, f in list(enumerate(listdir(base_path))) if (\n",
    "            ('.mp3' in f) or ('.wav' in f))])"
   ]
  },
  {
   "cell_type": "code",
   "execution_count": 5,
   "id": "consolidated-madison",
   "metadata": {},
   "outputs": [],
   "source": [
    "def split_and_save(fname):\n",
    "    # input is a string of format 'n___f' where n is the sample number and f is the file path\n",
    "    n = fname.split('___')[0]\n",
    "    n = np.int(n)\n",
    "    path = '___'.join(fname.split('___')[1:])\n",
    "    \n",
    "    try:\n",
    "        # load the full sample\n",
    "        full, sr = librosa.load(path, sr=16000)\n",
    "        \n",
    "        # trim silence\n",
    "        trim, start = librosa.effects.trim(full, sr)\n",
    "        \n",
    "        # everytongue samples need to have music outros removed\n",
    "        if path.split('/')[2] == '2_everytongue':\n",
    "            trim = trim[:-5 * sr]\n",
    "            \n",
    "        # calculate duration in seconds\n",
    "        dur = len(trim) / sr\n",
    "        \n",
    "    except:\n",
    "        return\n",
    "    \n",
    "    # splitting path from format '../audio/n_source/lang/sample.mp3'\n",
    "    split = path.split('/')\n",
    "    source = split[2].split('_')[0]\n",
    "    lang = split[3]\n",
    "    \n",
    "    # set index\n",
    "    i = 0\n",
    "    \n",
    "    if dur < 5:\n",
    "        try:\n",
    "            pad = ((5 * 16000) - len(trim)) / 2\n",
    "            sample = np.pad(trim, [int(np.floor(pad)), int(np.ceil(pad))])\n",
    "            save_name = f'../data/timeseries/{lang}/{lang}{source}{n:03}{i:03}.pkl'\n",
    "            with open(save_name, 'wb') as f:\n",
    "                pickle.dump(sample, f)\n",
    "        except:\n",
    "            pass\n",
    "    else:\n",
    "        # cut sample into 5 second clips and save\n",
    "        for x in range(0, np.floor(dur / 5).astype('int') * 5, 5):\n",
    "            try:\n",
    "                sample = trim[x * sr : (x + 5) * sr]\n",
    "                save_name = f'../data/timeseries/{lang}/{lang}{source}{n:03}{i:03}.pkl'\n",
    "                with open(save_name, 'wb') as f:\n",
    "                    pickle.dump(sample, f)\n",
    "            except:\n",
    "                pass\n",
    "            i += 1"
   ]
  },
  {
   "cell_type": "code",
   "execution_count": 6,
   "id": "prompt-tradition",
   "metadata": {},
   "outputs": [],
   "source": [
    "v_split_and_save = np.vectorize(split_and_save)"
   ]
  },
  {
   "cell_type": "code",
   "execution_count": 7,
   "id": "married-interaction",
   "metadata": {},
   "outputs": [],
   "source": [
    "en1 = audio_file_listing('1_audiolingua', 'en')"
   ]
  },
  {
   "cell_type": "code",
   "execution_count": 18,
   "id": "opposite-membership",
   "metadata": {},
   "outputs": [],
   "source": [
    "zh1 = audio_file_listing('1_audiolingua', 'zh')"
   ]
  },
  {
   "cell_type": "code",
   "execution_count": 40,
   "id": "sustainable-aerospace",
   "metadata": {},
   "outputs": [],
   "source": [
    "# v_split_and_save(en1)"
   ]
  },
  {
   "cell_type": "code",
   "execution_count": 41,
   "id": "informational-volunteer",
   "metadata": {},
   "outputs": [],
   "source": [
    "# v_split_and_save(zh1)"
   ]
  },
  {
   "cell_type": "code",
   "execution_count": 9,
   "id": "abandoned-senate",
   "metadata": {},
   "outputs": [],
   "source": [
    "ar3 = audio_file_listing('3_omniglot', 'ar')\n",
    "en3 = audio_file_listing('3_omniglot', 'en')\n",
    "fr3 = audio_file_listing('3_omniglot', 'fr')\n",
    "ru3 = audio_file_listing('3_omniglot', 'ru')\n",
    "es3 = audio_file_listing('3_omniglot', 'es')\n",
    "zh3 = audio_file_listing('3_omniglot', 'zh')"
   ]
  },
  {
   "cell_type": "code",
   "execution_count": 30,
   "id": "pressing-clinton",
   "metadata": {
    "collapsed": true,
    "jupyter": {
     "outputs_hidden": true
    }
   },
   "outputs": [
    {
     "data": {
      "text/plain": [
       "array([None, None, None, None, None, None, None, None, None, None, None,\n",
       "       None, None, None, None, None, None, None, None, None, None, None,\n",
       "       None, None, None, None, None, None, None, None, None, None, None,\n",
       "       None, None, None, None, None, None, None, None, None, None, None,\n",
       "       None, None, None, None, None, None, None, None, None, None, None,\n",
       "       None, None], dtype=object)"
      ]
     },
     "execution_count": 30,
     "metadata": {},
     "output_type": "execute_result"
    }
   ],
   "source": [
    "v_split_and_save(ar3)"
   ]
  },
  {
   "cell_type": "code",
   "execution_count": 31,
   "id": "advanced-machine",
   "metadata": {
    "collapsed": true,
    "jupyter": {
     "outputs_hidden": true
    }
   },
   "outputs": [
    {
     "data": {
      "text/plain": [
       "array([None, None, None, None, None, None, None, None, None, None, None,\n",
       "       None, None, None, None, None, None, None, None, None, None, None,\n",
       "       None, None, None, None, None, None, None, None, None, None, None,\n",
       "       None, None, None, None, None, None, None, None, None, None, None,\n",
       "       None, None, None, None, None, None, None, None, None, None, None,\n",
       "       None, None, None, None, None, None, None, None, None, None, None,\n",
       "       None, None, None, None, None, None, None, None, None, None, None,\n",
       "       None, None, None, None, None, None, None, None, None, None, None,\n",
       "       None, None, None, None, None, None, None, None, None, None, None,\n",
       "       None, None, None, None, None, None, None, None, None, None, None,\n",
       "       None, None, None, None, None, None, None, None, None, None, None,\n",
       "       None, None, None, None, None, None, None, None, None, None, None,\n",
       "       None, None, None, None, None, None, None, None, None, None, None,\n",
       "       None, None, None, None, None, None, None], dtype=object)"
      ]
     },
     "execution_count": 31,
     "metadata": {},
     "output_type": "execute_result"
    }
   ],
   "source": [
    "v_split_and_save(en3)"
   ]
  },
  {
   "cell_type": "code",
   "execution_count": 32,
   "id": "wound-income",
   "metadata": {
    "collapsed": true,
    "jupyter": {
     "outputs_hidden": true
    }
   },
   "outputs": [
    {
     "data": {
      "text/plain": [
       "array([None, None, None, None, None, None, None, None, None, None, None,\n",
       "       None, None, None, None, None, None, None, None, None, None, None,\n",
       "       None, None, None, None, None, None, None, None, None, None, None,\n",
       "       None, None, None, None, None, None, None, None, None, None, None,\n",
       "       None, None, None, None, None, None, None, None, None, None, None,\n",
       "       None, None, None, None, None, None, None, None, None, None, None,\n",
       "       None, None, None, None, None, None, None, None, None, None, None,\n",
       "       None, None, None, None, None, None, None, None, None, None, None,\n",
       "       None, None, None, None, None, None, None, None, None, None, None,\n",
       "       None, None, None, None, None, None, None, None, None, None, None,\n",
       "       None, None, None, None, None, None, None, None, None, None, None,\n",
       "       None, None, None, None, None, None], dtype=object)"
      ]
     },
     "execution_count": 32,
     "metadata": {},
     "output_type": "execute_result"
    }
   ],
   "source": [
    "v_split_and_save(fr3)"
   ]
  },
  {
   "cell_type": "code",
   "execution_count": 33,
   "id": "mysterious-midnight",
   "metadata": {
    "collapsed": true,
    "jupyter": {
     "outputs_hidden": true
    }
   },
   "outputs": [
    {
     "data": {
      "text/plain": [
       "array([None, None, None, None, None, None, None, None, None, None, None,\n",
       "       None, None, None, None, None, None, None, None, None, None, None,\n",
       "       None, None, None, None, None, None, None, None, None, None, None,\n",
       "       None, None, None, None, None, None, None, None, None, None, None,\n",
       "       None, None, None, None, None, None, None, None, None, None, None,\n",
       "       None, None, None, None, None, None, None, None, None, None, None,\n",
       "       None, None, None, None], dtype=object)"
      ]
     },
     "execution_count": 33,
     "metadata": {},
     "output_type": "execute_result"
    }
   ],
   "source": [
    "v_split_and_save(ru3)"
   ]
  },
  {
   "cell_type": "code",
   "execution_count": 34,
   "id": "imperial-welcome",
   "metadata": {
    "collapsed": true,
    "jupyter": {
     "outputs_hidden": true
    }
   },
   "outputs": [
    {
     "data": {
      "text/plain": [
       "array([None, None, None, None, None, None, None, None, None, None, None,\n",
       "       None, None, None, None, None, None, None, None, None, None, None,\n",
       "       None, None, None, None, None, None, None, None, None, None, None,\n",
       "       None, None, None, None, None, None, None, None, None, None, None,\n",
       "       None, None, None, None, None, None, None, None, None, None, None,\n",
       "       None, None, None, None, None, None, None, None, None, None, None,\n",
       "       None, None, None, None, None, None, None, None, None, None, None,\n",
       "       None, None, None, None, None, None, None, None, None, None, None,\n",
       "       None, None, None, None, None, None, None, None, None, None, None,\n",
       "       None, None, None, None, None, None, None, None, None, None, None,\n",
       "       None, None, None, None, None, None, None, None, None, None, None,\n",
       "       None], dtype=object)"
      ]
     },
     "execution_count": 34,
     "metadata": {},
     "output_type": "execute_result"
    }
   ],
   "source": [
    "v_split_and_save(es3)"
   ]
  },
  {
   "cell_type": "code",
   "execution_count": 35,
   "id": "wired-employer",
   "metadata": {
    "collapsed": true,
    "jupyter": {
     "outputs_hidden": true
    }
   },
   "outputs": [
    {
     "data": {
      "text/plain": [
       "array([None, None, None, None, None, None, None, None, None, None, None,\n",
       "       None, None, None, None, None, None, None, None, None, None, None,\n",
       "       None, None, None, None, None, None, None, None, None, None, None,\n",
       "       None, None, None, None, None, None, None, None, None, None, None,\n",
       "       None, None, None, None, None, None, None, None, None, None, None,\n",
       "       None, None, None, None, None, None, None, None, None, None, None,\n",
       "       None, None, None, None, None, None, None, None, None, None, None,\n",
       "       None, None, None, None, None, None, None, None, None, None, None,\n",
       "       None, None, None, None, None, None, None, None], dtype=object)"
      ]
     },
     "execution_count": 35,
     "metadata": {},
     "output_type": "execute_result"
    }
   ],
   "source": [
    "v_split_and_save(zh3)"
   ]
  },
  {
   "cell_type": "code",
   "execution_count": 8,
   "id": "gorgeous-office",
   "metadata": {},
   "outputs": [],
   "source": [
    "en4 = audio_file_listing('4_voxforge', 'en')\n",
    "fr4 = audio_file_listing('4_voxforge', 'fr')\n",
    "ru4 = audio_file_listing('4_voxforge', 'ru')\n",
    "es4 = audio_file_listing('4_voxforge', 'es')"
   ]
  },
  {
   "cell_type": "code",
   "execution_count": 9,
   "id": "invalid-commonwealth",
   "metadata": {},
   "outputs": [
    {
     "data": {
      "text/plain": [
       "array([None, None, None, ..., None, None, None], dtype=object)"
      ]
     },
     "execution_count": 9,
     "metadata": {},
     "output_type": "execute_result"
    }
   ],
   "source": [
    "v_split_and_save(en4)"
   ]
  },
  {
   "cell_type": "code",
   "execution_count": 10,
   "id": "changed-israel",
   "metadata": {},
   "outputs": [
    {
     "data": {
      "text/plain": [
       "array([None, None, None, ..., None, None, None], dtype=object)"
      ]
     },
     "execution_count": 10,
     "metadata": {},
     "output_type": "execute_result"
    }
   ],
   "source": [
    "v_split_and_save(fr4)"
   ]
  },
  {
   "cell_type": "code",
   "execution_count": 11,
   "id": "polyphonic-miami",
   "metadata": {},
   "outputs": [
    {
     "data": {
      "text/plain": [
       "array([None, None, None, ..., None, None, None], dtype=object)"
      ]
     },
     "execution_count": 11,
     "metadata": {},
     "output_type": "execute_result"
    }
   ],
   "source": [
    "v_split_and_save(ru4)"
   ]
  },
  {
   "cell_type": "code",
   "execution_count": 12,
   "id": "clean-second",
   "metadata": {},
   "outputs": [
    {
     "data": {
      "text/plain": [
       "array([None, None, None, ..., None, None, None], dtype=object)"
      ]
     },
     "execution_count": 12,
     "metadata": {},
     "output_type": "execute_result"
    }
   ],
   "source": [
    "v_split_and_save(es4)"
   ]
  },
  {
   "cell_type": "code",
   "execution_count": 9,
   "id": "young-jaguar",
   "metadata": {},
   "outputs": [],
   "source": [
    "zh2 = audio_file_listing('2_everytongue', 'zh')"
   ]
  },
  {
   "cell_type": "code",
   "execution_count": 10,
   "id": "simplified-processing",
   "metadata": {
    "collapsed": true,
    "jupyter": {
     "outputs_hidden": true
    }
   },
   "outputs": [
    {
     "data": {
      "text/plain": [
       "array(['000___../audio/2_everytongue/zh/zh000-029.mp3',\n",
       "       '001___../audio/2_everytongue/zh/zh000-015.mp3',\n",
       "       '002___../audio/2_everytongue/zh/zh010-001.mp3',\n",
       "       '003___../audio/2_everytongue/zh/zh010-015.mp3',\n",
       "       '004___../audio/2_everytongue/zh/zh000-001.mp3',\n",
       "       '005___../audio/2_everytongue/zh/zh001-038.mp3',\n",
       "       '006___../audio/2_everytongue/zh/zh011-010.mp3',\n",
       "       '007___../audio/2_everytongue/zh/zh001-004.mp3',\n",
       "       '008___../audio/2_everytongue/zh/zh001-010.mp3',\n",
       "       '009___../audio/2_everytongue/zh/zh011-004.mp3',\n",
       "       '010___../audio/2_everytongue/zh/zh014-009.mp3',\n",
       "       '011___../audio/2_everytongue/zh/zh004-009.mp3',\n",
       "       '012___../audio/2_everytongue/zh/zh004-021.mp3',\n",
       "       '013___../audio/2_everytongue/zh/zh009-016.mp3',\n",
       "       '014___../audio/2_everytongue/zh/zh014-021.mp3',\n",
       "       '015___../audio/2_everytongue/zh/zh009-002.mp3',\n",
       "       '016___../audio/2_everytongue/zh/zh004-035.mp3',\n",
       "       '017___../audio/2_everytongue/zh/zh005-018.mp3',\n",
       "       '018___../audio/2_everytongue/zh/zh008-007.mp3',\n",
       "       '019___../audio/2_everytongue/zh/zh008-006.mp3',\n",
       "       '020___../audio/2_everytongue/zh/zh005-019.mp3',\n",
       "       '021___../audio/2_everytongue/zh/zh014-020.mp3',\n",
       "       '022___../audio/2_everytongue/zh/zh009-003.mp3',\n",
       "       '023___../audio/2_everytongue/zh/zh004-034.mp3',\n",
       "       '024___../audio/2_everytongue/zh/zh004-020.mp3',\n",
       "       '025___../audio/2_everytongue/zh/zh009-017.mp3',\n",
       "       '026___../audio/2_everytongue/zh/zh004-008.mp3',\n",
       "       '027___../audio/2_everytongue/zh/zh014-008.mp3',\n",
       "       '028___../audio/2_everytongue/zh/zh001-011.mp3',\n",
       "       '029___../audio/2_everytongue/zh/zh011-005.mp3',\n",
       "       '030___../audio/2_everytongue/zh/zh011-011.mp3',\n",
       "       '031___../audio/2_everytongue/zh/zh001-005.mp3',\n",
       "       '032___../audio/2_everytongue/zh/zh001-039.mp3',\n",
       "       '033___../audio/2_everytongue/zh/zh010-014.mp3',\n",
       "       '034___../audio/2_everytongue/zh/zh000-000.mp3',\n",
       "       '035___../audio/2_everytongue/zh/zh000-014.mp3',\n",
       "       '036___../audio/2_everytongue/zh/zh010-000.mp3',\n",
       "       '037___../audio/2_everytongue/zh/zh000-028.mp3',\n",
       "       '038___../audio/2_everytongue/zh/zh000-002.mp3',\n",
       "       '039___../audio/2_everytongue/zh/zh010-016.mp3',\n",
       "       '040___../audio/2_everytongue/zh/zh010-002.mp3',\n",
       "       '041___../audio/2_everytongue/zh/zh000-016.mp3',\n",
       "       '042___../audio/2_everytongue/zh/zh011-007.mp3',\n",
       "       '043___../audio/2_everytongue/zh/zh001-013.mp3',\n",
       "       '044___../audio/2_everytongue/zh/zh001-007.mp3',\n",
       "       '045___../audio/2_everytongue/zh/zh011-013.mp3',\n",
       "       '046___../audio/2_everytongue/zh/zh009-029.mp3',\n",
       "       '047___../audio/2_everytongue/zh/zh004-036.mp3',\n",
       "       '048___../audio/2_everytongue/zh/zh009-001.mp3',\n",
       "       '049___../audio/2_everytongue/zh/zh014-022.mp3',\n",
       "       '050___../audio/2_everytongue/zh/zh009-015.mp3',\n",
       "       '051___../audio/2_everytongue/zh/zh004-022.mp3',\n",
       "       '052___../audio/2_everytongue/zh/zh008-004.mp3',\n",
       "       '053___../audio/2_everytongue/zh/zh008-005.mp3',\n",
       "       '054___../audio/2_everytongue/zh/zh009-014.mp3',\n",
       "       '055___../audio/2_everytongue/zh/zh004-023.mp3',\n",
       "       '056___../audio/2_everytongue/zh/zh004-037.mp3',\n",
       "       '057___../audio/2_everytongue/zh/zh009-000.mp3',\n",
       "       '058___../audio/2_everytongue/zh/zh014-023.mp3',\n",
       "       '059___../audio/2_everytongue/zh/zh009-028.mp3',\n",
       "       '060___../audio/2_everytongue/zh/zh001-006.mp3',\n",
       "       '061___../audio/2_everytongue/zh/zh011-012.mp3',\n",
       "       '062___../audio/2_everytongue/zh/zh011-006.mp3',\n",
       "       '063___../audio/2_everytongue/zh/zh001-012.mp3',\n",
       "       '064___../audio/2_everytongue/zh/zh010-003.mp3',\n",
       "       '065___../audio/2_everytongue/zh/zh000-017.mp3',\n",
       "       '066___../audio/2_everytongue/zh/zh000-003.mp3',\n",
       "       '067___../audio/2_everytongue/zh/zh010-017.mp3',\n",
       "       '068___../audio/2_everytongue/zh/zh010-013.mp3',\n",
       "       '069___../audio/2_everytongue/zh/zh000-007.mp3',\n",
       "       '070___../audio/2_everytongue/zh/zh000-013.mp3',\n",
       "       '071___../audio/2_everytongue/zh/zh010-007.mp3',\n",
       "       '072___../audio/2_everytongue/zh/zh001-016.mp3',\n",
       "       '073___../audio/2_everytongue/zh/zh011-002.mp3',\n",
       "       '074___../audio/2_everytongue/zh/zh011-016.mp3',\n",
       "       '075___../audio/2_everytongue/zh/zh001-002.mp3',\n",
       "       '076___../audio/2_everytongue/zh/zh009-004.mp3',\n",
       "       '077___../audio/2_everytongue/zh/zh004-033.mp3',\n",
       "       '078___../audio/2_everytongue/zh/zh004-027.mp3',\n",
       "       '079___../audio/2_everytongue/zh/zh009-010.mp3',\n",
       "       '080___../audio/2_everytongue/zh/zh009-038.mp3',\n",
       "       '081___../audio/2_everytongue/zh/zh005-022.mp3',\n",
       "       '082___../audio/2_everytongue/zh/zh008-001.mp3',\n",
       "       '083___../audio/2_everytongue/zh/zh008-000.mp3',\n",
       "       '084___../audio/2_everytongue/zh/zh005-023.mp3',\n",
       "       '085___../audio/2_everytongue/zh/zh009-039.mp3',\n",
       "       '086___../audio/2_everytongue/zh/zh004-026.mp3',\n",
       "       '087___../audio/2_everytongue/zh/zh009-011.mp3',\n",
       "       '088___../audio/2_everytongue/zh/zh009-005.mp3',\n",
       "       '089___../audio/2_everytongue/zh/zh004-032.mp3',\n",
       "       '090___../audio/2_everytongue/zh/zh011-017.mp3',\n",
       "       '091___../audio/2_everytongue/zh/zh001-003.mp3',\n",
       "       '092___../audio/2_everytongue/zh/zh001-017.mp3',\n",
       "       '093___../audio/2_everytongue/zh/zh011-003.mp3',\n",
       "       '094___../audio/2_everytongue/zh/zh000-012.mp3',\n",
       "       '095___../audio/2_everytongue/zh/zh010-006.mp3',\n",
       "       '096___../audio/2_everytongue/zh/zh010-012.mp3',\n",
       "       '097___../audio/2_everytongue/zh/zh000-006.mp3',\n",
       "       '098___../audio/2_everytongue/zh/zh010-004.mp3',\n",
       "       '099___../audio/2_everytongue/zh/zh000-010.mp3',\n",
       "       '100___../audio/2_everytongue/zh/zh000-004.mp3',\n",
       "       '101___../audio/2_everytongue/zh/zh010-010.mp3',\n",
       "       '102___../audio/2_everytongue/zh/zh000-038.mp3',\n",
       "       '103___../audio/2_everytongue/zh/zh001-001.mp3',\n",
       "       '104___../audio/2_everytongue/zh/zh011-015.mp3',\n",
       "       '105___../audio/2_everytongue/zh/zh011-001.mp3',\n",
       "       '106___../audio/2_everytongue/zh/zh001-015.mp3',\n",
       "       '107___../audio/2_everytongue/zh/zh001-029.mp3',\n",
       "       '108___../audio/2_everytongue/zh/zh009-013.mp3',\n",
       "       '109___../audio/2_everytongue/zh/zh004-024.mp3',\n",
       "       '110___../audio/2_everytongue/zh/zh004-030.mp3',\n",
       "       '111___../audio/2_everytongue/zh/zh009-007.mp3',\n",
       "       '112___../audio/2_everytongue/zh/zh004-018.mp3',\n",
       "       '113___../audio/2_everytongue/zh/zh014-018.mp3',\n",
       "       '114___../audio/2_everytongue/zh/zh008-002.mp3',\n",
       "       '115___../audio/2_everytongue/zh/zh005-021.mp3',\n",
       "       '116___../audio/2_everytongue/zh/zh005-009.mp3',\n",
       "       '117___../audio/2_everytongue/zh/zh005-008.mp3',\n",
       "       '118___../audio/2_everytongue/zh/zh005-020.mp3',\n",
       "       '119___../audio/2_everytongue/zh/zh008-003.mp3',\n",
       "       '120___../audio/2_everytongue/zh/zh014-019.mp3',\n",
       "       '121___../audio/2_everytongue/zh/zh004-019.mp3',\n",
       "       '122___../audio/2_everytongue/zh/zh004-031.mp3',\n",
       "       '123___../audio/2_everytongue/zh/zh009-006.mp3',\n",
       "       '124___../audio/2_everytongue/zh/zh009-012.mp3',\n",
       "       '125___../audio/2_everytongue/zh/zh004-025.mp3',\n",
       "       '126___../audio/2_everytongue/zh/zh001-028.mp3',\n",
       "       '127___../audio/2_everytongue/zh/zh011-000.mp3',\n",
       "       '128___../audio/2_everytongue/zh/zh001-014.mp3',\n",
       "       '129___../audio/2_everytongue/zh/zh001-000.mp3',\n",
       "       '130___../audio/2_everytongue/zh/zh011-014.mp3',\n",
       "       '131___../audio/2_everytongue/zh/zh000-039.mp3',\n",
       "       '132___../audio/2_everytongue/zh/zh000-005.mp3',\n",
       "       '133___../audio/2_everytongue/zh/zh010-011.mp3',\n",
       "       '134___../audio/2_everytongue/zh/zh010-005.mp3',\n",
       "       '135___../audio/2_everytongue/zh/zh000-011.mp3',\n",
       "       '136___../audio/2_everytongue/zh/zh001-098.mp3',\n",
       "       '137___../audio/2_everytongue/zh/zh001-067.mp3',\n",
       "       '138___../audio/2_everytongue/zh/zh001-073.mp3',\n",
       "       '139___../audio/2_everytongue/zh/zh002-013.mp3',\n",
       "       '140___../audio/2_everytongue/zh/zh012-007.mp3',\n",
       "       '141___../audio/2_everytongue/zh/zh012-013.mp3',\n",
       "       '142___../audio/2_everytongue/zh/zh002-007.mp3',\n",
       "       '143___../audio/2_everytongue/zh/zh001-113.mp3',\n",
       "       '144___../audio/2_everytongue/zh/zh001-107.mp3',\n",
       "       '145___../audio/2_everytongue/zh/zh003-002.mp3',\n",
       "       '146___../audio/2_everytongue/zh/zh003-016.mp3',\n",
       "       '147___../audio/2_everytongue/zh/zh013-002.mp3',\n",
       "       '148___../audio/2_everytongue/zh/zh003-017.mp3',\n",
       "       '149___../audio/2_everytongue/zh/zh013-003.mp3',\n",
       "       '150___../audio/2_everytongue/zh/zh003-003.mp3',\n",
       "       '151___../audio/2_everytongue/zh/zh001-106.mp3',\n",
       "       '152___../audio/2_everytongue/zh/zh001-112.mp3',\n",
       "       '153___../audio/2_everytongue/zh/zh012-012.mp3',\n",
       "       '154___../audio/2_everytongue/zh/zh002-006.mp3',\n",
       "       '155___../audio/2_everytongue/zh/zh002-012.mp3',\n",
       "       '156___../audio/2_everytongue/zh/zh012-006.mp3',\n",
       "       '157___../audio/2_everytongue/zh/zh001-072.mp3',\n",
       "       '158___../audio/2_everytongue/zh/zh001-066.mp3',\n",
       "       '159___../audio/2_everytongue/zh/zh001-099.mp3',\n",
       "       '160___../audio/2_everytongue/zh/zh001-058.mp3',\n",
       "       '161___../audio/2_everytongue/zh/zh001-070.mp3',\n",
       "       '162___../audio/2_everytongue/zh/zh001-064.mp3',\n",
       "       '163___../audio/2_everytongue/zh/zh002-004.mp3',\n",
       "       '164___../audio/2_everytongue/zh/zh012-010.mp3',\n",
       "       '165___../audio/2_everytongue/zh/zh012-004.mp3',\n",
       "       '166___../audio/2_everytongue/zh/zh002-010.mp3',\n",
       "       '167___../audio/2_everytongue/zh/zh001-104.mp3',\n",
       "       '168___../audio/2_everytongue/zh/zh001-110.mp3',\n",
       "       '169___../audio/2_everytongue/zh/zh013-001.mp3',\n",
       "       '170___../audio/2_everytongue/zh/zh003-015.mp3',\n",
       "       '171___../audio/2_everytongue/zh/zh003-001.mp3',\n",
       "       '172___../audio/2_everytongue/zh/zh003-000.mp3',\n",
       "       '173___../audio/2_everytongue/zh/zh013-000.mp3',\n",
       "       '174___../audio/2_everytongue/zh/zh003-014.mp3',\n",
       "       '175___../audio/2_everytongue/zh/zh001-111.mp3',\n",
       "       '176___../audio/2_everytongue/zh/zh001-105.mp3',\n",
       "       '177___../audio/2_everytongue/zh/zh012-005.mp3',\n",
       "       '178___../audio/2_everytongue/zh/zh002-011.mp3',\n",
       "       '179___../audio/2_everytongue/zh/zh002-005.mp3',\n",
       "       '180___../audio/2_everytongue/zh/zh012-011.mp3',\n",
       "       '181___../audio/2_everytongue/zh/zh001-065.mp3',\n",
       "       '182___../audio/2_everytongue/zh/zh001-071.mp3',\n",
       "       '183___../audio/2_everytongue/zh/zh001-059.mp3',\n",
       "       '184___../audio/2_everytongue/zh/zh006-009.mp3',\n",
       "       '185___../audio/2_everytongue/zh/zh001-075.mp3',\n",
       "       '186___../audio/2_everytongue/zh/zh001-061.mp3',\n",
       "       '187___../audio/2_everytongue/zh/zh001-049.mp3',\n",
       "       '188___../audio/2_everytongue/zh/zh012-015.mp3',\n",
       "       '189___../audio/2_everytongue/zh/zh002-001.mp3',\n",
       "       '190___../audio/2_everytongue/zh/zh002-015.mp3',\n",
       "       '191___../audio/2_everytongue/zh/zh012-001.mp3',\n",
       "       '192___../audio/2_everytongue/zh/zh001-101.mp3',\n",
       "       '193___../audio/2_everytongue/zh/zh001-115.mp3',\n",
       "       '194___../audio/2_everytongue/zh/zh003-010.mp3',\n",
       "       '195___../audio/2_everytongue/zh/zh013-004.mp3',\n",
       "       '196___../audio/2_everytongue/zh/zh003-004.mp3',\n",
       "       '197___../audio/2_everytongue/zh/zh003-005.mp3',\n",
       "       '198___../audio/2_everytongue/zh/zh003-011.mp3',\n",
       "       '199___../audio/2_everytongue/zh/zh013-005.mp3',\n",
       "       '200___../audio/2_everytongue/zh/zh001-114.mp3',\n",
       "       '201___../audio/2_everytongue/zh/zh001-100.mp3',\n",
       "       '202___../audio/2_everytongue/zh/zh002-014.mp3',\n",
       "       '203___../audio/2_everytongue/zh/zh012-000.mp3',\n",
       "       '204___../audio/2_everytongue/zh/zh012-014.mp3',\n",
       "       '205___../audio/2_everytongue/zh/zh002-000.mp3',\n",
       "       '206___../audio/2_everytongue/zh/zh001-048.mp3',\n",
       "       '207___../audio/2_everytongue/zh/zh001-060.mp3',\n",
       "       '208___../audio/2_everytongue/zh/zh001-074.mp3',\n",
       "       '209___../audio/2_everytongue/zh/zh006-008.mp3',\n",
       "       '210___../audio/2_everytongue/zh/zh001-089.mp3',\n",
       "       '211___../audio/2_everytongue/zh/zh001-062.mp3',\n",
       "       '212___../audio/2_everytongue/zh/zh001-076.mp3',\n",
       "       '213___../audio/2_everytongue/zh/zh012-002.mp3',\n",
       "       '214___../audio/2_everytongue/zh/zh002-016.mp3',\n",
       "       '215___../audio/2_everytongue/zh/zh002-002.mp3',\n",
       "       '216___../audio/2_everytongue/zh/zh012-016.mp3',\n",
       "       '217___../audio/2_everytongue/zh/zh001-116.mp3',\n",
       "       '218___../audio/2_everytongue/zh/zh001-102.mp3',\n",
       "       '219___../audio/2_everytongue/zh/zh003-007.mp3',\n",
       "       '220___../audio/2_everytongue/zh/zh013-007.mp3',\n",
       "       '221___../audio/2_everytongue/zh/zh003-013.mp3',\n",
       "       '222___../audio/2_everytongue/zh/zh013-006.mp3',\n",
       "       '223___../audio/2_everytongue/zh/zh003-012.mp3',\n",
       "       '224___../audio/2_everytongue/zh/zh003-006.mp3',\n",
       "       '225___../audio/2_everytongue/zh/zh001-103.mp3',\n",
       "       '226___../audio/2_everytongue/zh/zh001-117.mp3',\n",
       "       '227___../audio/2_everytongue/zh/zh002-003.mp3',\n",
       "       '228___../audio/2_everytongue/zh/zh012-017.mp3',\n",
       "       '229___../audio/2_everytongue/zh/zh012-003.mp3',\n",
       "       '230___../audio/2_everytongue/zh/zh002-017.mp3',\n",
       "       '231___../audio/2_everytongue/zh/zh001-077.mp3',\n",
       "       '232___../audio/2_everytongue/zh/zh001-063.mp3',\n",
       "       '233___../audio/2_everytongue/zh/zh001-088.mp3',\n",
       "       '234___../audio/2_everytongue/zh/zh006-006.mp3',\n",
       "       '235___../audio/2_everytongue/zh/zh001-085.mp3',\n",
       "       '236___../audio/2_everytongue/zh/zh007-003.mp3',\n",
       "       '237___../audio/2_everytongue/zh/zh001-091.mp3',\n",
       "       '238___../audio/2_everytongue/zh/zh001-046.mp3',\n",
       "       '239___../audio/2_everytongue/zh/zh001-052.mp3',\n",
       "       '240___../audio/2_everytongue/zh/zh003-023.mp3',\n",
       "       '241___../audio/2_everytongue/zh/zh003-022.mp3',\n",
       "       '242___../audio/2_everytongue/zh/zh001-053.mp3',\n",
       "       '243___../audio/2_everytongue/zh/zh001-047.mp3',\n",
       "       '244___../audio/2_everytongue/zh/zh007-002.mp3',\n",
       "       '245___../audio/2_everytongue/zh/zh001-090.mp3',\n",
       "       '246___../audio/2_everytongue/zh/zh001-084.mp3',\n",
       "       '247___../audio/2_everytongue/zh/zh006-007.mp3',\n",
       "       '248___../audio/2_everytongue/zh/zh006-005.mp3',\n",
       "       '249___../audio/2_everytongue/zh/zh001-092.mp3',\n",
       "       '250___../audio/2_everytongue/zh/zh007-000.mp3',\n",
       "       '251___../audio/2_everytongue/zh/zh001-086.mp3',\n",
       "       '252___../audio/2_everytongue/zh/zh001-079.mp3',\n",
       "       '253___../audio/2_everytongue/zh/zh001-051.mp3',\n",
       "       '254___../audio/2_everytongue/zh/zh001-045.mp3',\n",
       "       '255___../audio/2_everytongue/zh/zh002-019.mp3',\n",
       "       '256___../audio/2_everytongue/zh/zh012-019.mp3',\n",
       "       '257___../audio/2_everytongue/zh/zh001-119.mp3',\n",
       "       '258___../audio/2_everytongue/zh/zh003-008.mp3',\n",
       "       '259___../audio/2_everytongue/zh/zh013-008.mp3',\n",
       "       '260___../audio/2_everytongue/zh/zh003-020.mp3',\n",
       "       '261___../audio/2_everytongue/zh/zh003-021.mp3',\n",
       "       '262___../audio/2_everytongue/zh/zh003-009.mp3',\n",
       "       '263___../audio/2_everytongue/zh/zh001-118.mp3',\n",
       "       '264___../audio/2_everytongue/zh/zh012-018.mp3',\n",
       "       '265___../audio/2_everytongue/zh/zh002-018.mp3',\n",
       "       '266___../audio/2_everytongue/zh/zh001-044.mp3',\n",
       "       '267___../audio/2_everytongue/zh/zh001-050.mp3',\n",
       "       '268___../audio/2_everytongue/zh/zh001-078.mp3',\n",
       "       '269___../audio/2_everytongue/zh/zh001-087.mp3',\n",
       "       '270___../audio/2_everytongue/zh/zh001-093.mp3',\n",
       "       '271___../audio/2_everytongue/zh/zh007-001.mp3',\n",
       "       '272___../audio/2_everytongue/zh/zh006-004.mp3',\n",
       "       '273___../audio/2_everytongue/zh/zh006-010.mp3',\n",
       "       '274___../audio/2_everytongue/zh/zh006-000.mp3',\n",
       "       '275___../audio/2_everytongue/zh/zh007-005.mp3',\n",
       "       '276___../audio/2_everytongue/zh/zh001-097.mp3',\n",
       "       '277___../audio/2_everytongue/zh/zh001-083.mp3',\n",
       "       '278___../audio/2_everytongue/zh/zh001-054.mp3',\n",
       "       '279___../audio/2_everytongue/zh/zh001-040.mp3',\n",
       "       '280___../audio/2_everytongue/zh/zh001-068.mp3',\n",
       "       '281___../audio/2_everytongue/zh/zh002-020.mp3',\n",
       "       '282___../audio/2_everytongue/zh/zh012-020.mp3',\n",
       "       '283___../audio/2_everytongue/zh/zh012-008.mp3',\n",
       "       '284___../audio/2_everytongue/zh/zh002-008.mp3',\n",
       "       '285___../audio/2_everytongue/zh/zh001-120.mp3',\n",
       "       '286___../audio/2_everytongue/zh/zh001-108.mp3',\n",
       "       '287___../audio/2_everytongue/zh/zh003-019.mp3',\n",
       "       '288___../audio/2_everytongue/zh/zh003-018.mp3',\n",
       "       '289___../audio/2_everytongue/zh/zh001-109.mp3',\n",
       "       '290___../audio/2_everytongue/zh/zh002-009.mp3',\n",
       "       '291___../audio/2_everytongue/zh/zh012-009.mp3',\n",
       "       '292___../audio/2_everytongue/zh/zh002-021.mp3',\n",
       "       '293___../audio/2_everytongue/zh/zh001-069.mp3',\n",
       "       '294___../audio/2_everytongue/zh/zh001-041.mp3',\n",
       "       '295___../audio/2_everytongue/zh/zh001-055.mp3',\n",
       "       '296___../audio/2_everytongue/zh/zh001-082.mp3',\n",
       "       '297___../audio/2_everytongue/zh/zh007-004.mp3',\n",
       "       '298___../audio/2_everytongue/zh/zh001-096.mp3',\n",
       "       '299___../audio/2_everytongue/zh/zh006-001.mp3',\n",
       "       '300___../audio/2_everytongue/zh/zh006-003.mp3',\n",
       "       '301___../audio/2_everytongue/zh/zh001-080.mp3',\n",
       "       '302___../audio/2_everytongue/zh/zh001-094.mp3',\n",
       "       '303___../audio/2_everytongue/zh/zh007-006.mp3',\n",
       "       '304___../audio/2_everytongue/zh/zh001-043.mp3',\n",
       "       '305___../audio/2_everytongue/zh/zh001-057.mp3',\n",
       "       '306___../audio/2_everytongue/zh/zh002-023.mp3',\n",
       "       '307___../audio/2_everytongue/zh/zh002-022.mp3',\n",
       "       '308___../audio/2_everytongue/zh/zh001-056.mp3',\n",
       "       '309___../audio/2_everytongue/zh/zh001-042.mp3',\n",
       "       '310___../audio/2_everytongue/zh/zh001-095.mp3',\n",
       "       '311___../audio/2_everytongue/zh/zh001-081.mp3',\n",
       "       '312___../audio/2_everytongue/zh/zh006-002.mp3',\n",
       "       '313___../audio/2_everytongue/zh/zh000-008.mp3',\n",
       "       '314___../audio/2_everytongue/zh/zh010-008.mp3',\n",
       "       '315___../audio/2_everytongue/zh/zh000-034.mp3',\n",
       "       '316___../audio/2_everytongue/zh/zh010-020.mp3',\n",
       "       '317___../audio/2_everytongue/zh/zh000-020.mp3',\n",
       "       '318___../audio/2_everytongue/zh/zh001-019.mp3',\n",
       "       '319___../audio/2_everytongue/zh/zh011-019.mp3',\n",
       "       '320___../audio/2_everytongue/zh/zh001-025.mp3',\n",
       "       '321___../audio/2_everytongue/zh/zh001-031.mp3',\n",
       "       '322___../audio/2_everytongue/zh/zh004-028.mp3',\n",
       "       '323___../audio/2_everytongue/zh/zh004-000.mp3',\n",
       "       '324___../audio/2_everytongue/zh/zh014-014.mp3',\n",
       "       '325___../audio/2_everytongue/zh/zh009-037.mp3',\n",
       "       '326___../audio/2_everytongue/zh/zh009-023.mp3',\n",
       "       '327___../audio/2_everytongue/zh/zh014-000.mp3',\n",
       "       '328___../audio/2_everytongue/zh/zh004-014.mp3',\n",
       "       '329___../audio/2_everytongue/zh/zh005-011.mp3',\n",
       "       '330___../audio/2_everytongue/zh/zh005-005.mp3',\n",
       "       '331___../audio/2_everytongue/zh/zh005-004.mp3',\n",
       "       '332___../audio/2_everytongue/zh/zh005-010.mp3',\n",
       "       '333___../audio/2_everytongue/zh/zh009-022.mp3',\n",
       "       '334___../audio/2_everytongue/zh/zh014-001.mp3',\n",
       "       '335___../audio/2_everytongue/zh/zh004-015.mp3',\n",
       "       '336___../audio/2_everytongue/zh/zh004-001.mp3',\n",
       "       '337___../audio/2_everytongue/zh/zh014-015.mp3',\n",
       "       '338___../audio/2_everytongue/zh/zh009-036.mp3',\n",
       "       '339___../audio/2_everytongue/zh/zh004-029.mp3',\n",
       "       '340___../audio/2_everytongue/zh/zh001-030.mp3',\n",
       "       '341___../audio/2_everytongue/zh/zh001-024.mp3',\n",
       "       '342___../audio/2_everytongue/zh/zh011-018.mp3',\n",
       "       '343___../audio/2_everytongue/zh/zh001-018.mp3',\n",
       "       '344___../audio/2_everytongue/zh/zh000-021.mp3',\n",
       "       '345___../audio/2_everytongue/zh/zh000-035.mp3',\n",
       "       '346___../audio/2_everytongue/zh/zh010-021.mp3',\n",
       "       '347___../audio/2_everytongue/zh/zh010-009.mp3',\n",
       "       '348___../audio/2_everytongue/zh/zh000-009.mp3',\n",
       "       '349___../audio/2_everytongue/zh/zh000-023.mp3',\n",
       "       '350___../audio/2_everytongue/zh/zh010-023.mp3',\n",
       "       '351___../audio/2_everytongue/zh/zh000-037.mp3',\n",
       "       '352___../audio/2_everytongue/zh/zh001-032.mp3',\n",
       "       '353___../audio/2_everytongue/zh/zh001-026.mp3',\n",
       "       '354___../audio/2_everytongue/zh/zh009-008.mp3',\n",
       "       '355___../audio/2_everytongue/zh/zh004-017.mp3',\n",
       "       '356___../audio/2_everytongue/zh/zh014-003.mp3',\n",
       "       '357___../audio/2_everytongue/zh/zh009-020.mp3',\n",
       "       '358___../audio/2_everytongue/zh/zh009-034.mp3',\n",
       "       '359___../audio/2_everytongue/zh/zh014-017.mp3',\n",
       "       '360___../audio/2_everytongue/zh/zh004-003.mp3',\n",
       "       '361___../audio/2_everytongue/zh/zh005-006.mp3',\n",
       "       '362___../audio/2_everytongue/zh/zh005-012.mp3',\n",
       "       '363___../audio/2_everytongue/zh/zh005-013.mp3',\n",
       "       '364___../audio/2_everytongue/zh/zh005-007.mp3',\n",
       "       '365___../audio/2_everytongue/zh/zh009-035.mp3',\n",
       "       '366___../audio/2_everytongue/zh/zh014-016.mp3',\n",
       "       '367___../audio/2_everytongue/zh/zh004-002.mp3',\n",
       "       '368___../audio/2_everytongue/zh/zh004-016.mp3',\n",
       "       '369___../audio/2_everytongue/zh/zh014-002.mp3',\n",
       "       '370___../audio/2_everytongue/zh/zh009-021.mp3',\n",
       "       '371___../audio/2_everytongue/zh/zh009-009.mp3',\n",
       "       '372___../audio/2_everytongue/zh/zh001-027.mp3',\n",
       "       '373___../audio/2_everytongue/zh/zh001-033.mp3',\n",
       "       '374___../audio/2_everytongue/zh/zh010-022.mp3',\n",
       "       '375___../audio/2_everytongue/zh/zh000-036.mp3',\n",
       "       '376___../audio/2_everytongue/zh/zh000-022.mp3',\n",
       "       '377___../audio/2_everytongue/zh/zh000-026.mp3',\n",
       "       '378___../audio/2_everytongue/zh/zh000-032.mp3',\n",
       "       '379___../audio/2_everytongue/zh/zh001-037.mp3',\n",
       "       '380___../audio/2_everytongue/zh/zh011-023.mp3',\n",
       "       '381___../audio/2_everytongue/zh/zh001-023.mp3',\n",
       "       '382___../audio/2_everytongue/zh/zh009-025.mp3',\n",
       "       '383___../audio/2_everytongue/zh/zh014-006.mp3',\n",
       "       '384___../audio/2_everytongue/zh/zh004-012.mp3',\n",
       "       '385___../audio/2_everytongue/zh/zh004-006.mp3',\n",
       "       '386___../audio/2_everytongue/zh/zh014-012.mp3',\n",
       "       '387___../audio/2_everytongue/zh/zh009-031.mp3',\n",
       "       '388___../audio/2_everytongue/zh/zh009-019.mp3',\n",
       "       '389___../audio/2_everytongue/zh/zh005-003.mp3',\n",
       "       '390___../audio/2_everytongue/zh/zh005-017.mp3',\n",
       "       '391___../audio/2_everytongue/zh/zh005-016.mp3',\n",
       "       '392___../audio/2_everytongue/zh/zh005-002.mp3',\n",
       "       '393___../audio/2_everytongue/zh/zh009-018.mp3',\n",
       "       '394___../audio/2_everytongue/zh/zh004-007.mp3',\n",
       "       '395___../audio/2_everytongue/zh/zh014-013.mp3',\n",
       "       '396___../audio/2_everytongue/zh/zh009-030.mp3',\n",
       "       '397___../audio/2_everytongue/zh/zh009-024.mp3',\n",
       "       '398___../audio/2_everytongue/zh/zh014-007.mp3',\n",
       "       '399___../audio/2_everytongue/zh/zh004-013.mp3',\n",
       "       '400___../audio/2_everytongue/zh/zh001-022.mp3',\n",
       "       '401___../audio/2_everytongue/zh/zh001-036.mp3',\n",
       "       '402___../audio/2_everytongue/zh/zh011-022.mp3',\n",
       "       '403___../audio/2_everytongue/zh/zh000-033.mp3',\n",
       "       '404___../audio/2_everytongue/zh/zh000-027.mp3',\n",
       "       '405___../audio/2_everytongue/zh/zh000-031.mp3',\n",
       "       '406___../audio/2_everytongue/zh/zh000-025.mp3',\n",
       "       '407___../audio/2_everytongue/zh/zh010-019.mp3',\n",
       "       '408___../audio/2_everytongue/zh/zh000-019.mp3',\n",
       "       '409___../audio/2_everytongue/zh/zh001-020.mp3',\n",
       "       '410___../audio/2_everytongue/zh/zh011-020.mp3',\n",
       "       '411___../audio/2_everytongue/zh/zh001-034.mp3',\n",
       "       '412___../audio/2_everytongue/zh/zh011-008.mp3',\n",
       "       '413___../audio/2_everytongue/zh/zh001-008.mp3',\n",
       "       '414___../audio/2_everytongue/zh/zh009-032.mp3',\n",
       "       '415___../audio/2_everytongue/zh/zh014-011.mp3',\n",
       "       '416___../audio/2_everytongue/zh/zh004-005.mp3',\n",
       "       '417___../audio/2_everytongue/zh/zh004-011.mp3',\n",
       "       '418___../audio/2_everytongue/zh/zh014-005.mp3',\n",
       "       '419___../audio/2_everytongue/zh/zh009-026.mp3',\n",
       "       '420___../audio/2_everytongue/zh/zh004-039.mp3',\n",
       "       '421___../audio/2_everytongue/zh/zh005-014.mp3',\n",
       "       '422___../audio/2_everytongue/zh/zh005-000.mp3',\n",
       "       '423___../audio/2_everytongue/zh/zh005-001.mp3',\n",
       "       '424___../audio/2_everytongue/zh/zh005-015.mp3',\n",
       "       '425___../audio/2_everytongue/zh/zh004-038.mp3',\n",
       "       '426___../audio/2_everytongue/zh/zh004-010.mp3',\n",
       "       '427___../audio/2_everytongue/zh/zh014-004.mp3',\n",
       "       '428___../audio/2_everytongue/zh/zh009-027.mp3',\n",
       "       '429___../audio/2_everytongue/zh/zh009-033.mp3',\n",
       "       '430___../audio/2_everytongue/zh/zh014-010.mp3',\n",
       "       '431___../audio/2_everytongue/zh/zh004-004.mp3',\n",
       "       '432___../audio/2_everytongue/zh/zh001-009.mp3',\n",
       "       '433___../audio/2_everytongue/zh/zh011-009.mp3',\n",
       "       '434___../audio/2_everytongue/zh/zh011-021.mp3',\n",
       "       '435___../audio/2_everytongue/zh/zh001-035.mp3',\n",
       "       '436___../audio/2_everytongue/zh/zh001-021.mp3',\n",
       "       '437___../audio/2_everytongue/zh/zh000-018.mp3',\n",
       "       '438___../audio/2_everytongue/zh/zh010-018.mp3',\n",
       "       '439___../audio/2_everytongue/zh/zh000-024.mp3',\n",
       "       '440___../audio/2_everytongue/zh/zh000-030.mp3'], dtype='<U45')"
      ]
     },
     "execution_count": 10,
     "metadata": {},
     "output_type": "execute_result"
    }
   ],
   "source": [
    "zh2"
   ]
  },
  {
   "cell_type": "code",
   "execution_count": 11,
   "id": "employed-visitor",
   "metadata": {
    "collapsed": true,
    "jupyter": {
     "outputs_hidden": true
    }
   },
   "outputs": [
    {
     "data": {
      "text/plain": [
       "array([None, None, None, None, None, None, None, None, None, None, None,\n",
       "       None, None, None, None, None, None, None, None, None, None, None,\n",
       "       None, None, None, None, None, None, None, None, None, None, None,\n",
       "       None, None, None, None, None, None, None, None, None, None, None,\n",
       "       None, None, None, None, None, None, None, None, None, None, None,\n",
       "       None, None, None, None, None, None, None, None, None, None, None,\n",
       "       None, None, None, None, None, None, None, None, None, None, None,\n",
       "       None, None, None, None, None, None, None, None, None, None, None,\n",
       "       None, None, None, None, None, None, None, None, None, None, None,\n",
       "       None, None, None, None, None, None, None, None, None, None, None,\n",
       "       None, None, None, None, None, None, None, None, None, None, None,\n",
       "       None, None, None, None, None, None, None, None, None, None, None,\n",
       "       None, None, None, None, None, None, None, None, None, None, None,\n",
       "       None, None, None, None, None, None, None, None, None, None, None,\n",
       "       None, None, None, None, None, None, None, None, None, None, None,\n",
       "       None, None, None, None, None, None, None, None, None, None, None,\n",
       "       None, None, None, None, None, None, None, None, None, None, None,\n",
       "       None, None, None, None, None, None, None, None, None, None, None,\n",
       "       None, None, None, None, None, None, None, None, None, None, None,\n",
       "       None, None, None, None, None, None, None, None, None, None, None,\n",
       "       None, None, None, None, None, None, None, None, None, None, None,\n",
       "       None, None, None, None, None, None, None, None, None, None, None,\n",
       "       None, None, None, None, None, None, None, None, None, None, None,\n",
       "       None, None, None, None, None, None, None, None, None, None, None,\n",
       "       None, None, None, None, None, None, None, None, None, None, None,\n",
       "       None, None, None, None, None, None, None, None, None, None, None,\n",
       "       None, None, None, None, None, None, None, None, None, None, None,\n",
       "       None, None, None, None, None, None, None, None, None, None, None,\n",
       "       None, None, None, None, None, None, None, None, None, None, None,\n",
       "       None, None, None, None, None, None, None, None, None, None, None,\n",
       "       None, None, None, None, None, None, None, None, None, None, None,\n",
       "       None, None, None, None, None, None, None, None, None, None, None,\n",
       "       None, None, None, None, None, None, None, None, None, None, None,\n",
       "       None, None, None, None, None, None, None, None, None, None, None,\n",
       "       None, None, None, None, None, None, None, None, None, None, None,\n",
       "       None, None, None, None, None, None, None, None, None, None, None,\n",
       "       None, None, None, None, None, None, None, None, None, None, None,\n",
       "       None, None, None, None, None, None, None, None, None, None, None,\n",
       "       None, None, None, None, None, None, None, None, None, None, None,\n",
       "       None, None, None, None, None, None, None, None, None, None, None,\n",
       "       None], dtype=object)"
      ]
     },
     "execution_count": 11,
     "metadata": {},
     "output_type": "execute_result"
    }
   ],
   "source": [
    "v_split_and_save(zh2)"
   ]
  },
  {
   "cell_type": "code",
   "execution_count": null,
   "id": "animal-public",
   "metadata": {},
   "outputs": [],
   "source": []
  }
 ],
 "metadata": {
  "kernelspec": {
   "display_name": "Python 3",
   "language": "python",
   "name": "python3"
  },
  "language_info": {
   "codemirror_mode": {
    "name": "ipython",
    "version": 3
   },
   "file_extension": ".py",
   "mimetype": "text/x-python",
   "name": "python",
   "nbconvert_exporter": "python",
   "pygments_lexer": "ipython3",
   "version": "3.8.5"
  }
 },
 "nbformat": 4,
 "nbformat_minor": 5
}
