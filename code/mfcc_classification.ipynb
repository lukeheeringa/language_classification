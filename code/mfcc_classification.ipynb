{
 "cells": [
  {
   "cell_type": "code",
   "execution_count": 1,
   "id": "approved-burning",
   "metadata": {},
   "outputs": [],
   "source": [
    "import warnings\n",
    "warnings.filterwarnings('ignore')"
   ]
  },
  {
   "cell_type": "code",
   "execution_count": 1,
   "id": "polished-mitchell",
   "metadata": {},
   "outputs": [],
   "source": [
    "import numpy as np\n",
    "import pandas as pd\n",
    "import matplotlib.pyplot as plt\n",
    "import pickle\n",
    "import pandas as pd\n",
    "from skimage.io import imsave\n",
    "\n",
    "from os import listdir\n",
    "from sklearn.model_selection import train_test_split\n",
    "\n",
    "from tensorflow.keras.models import Sequential\n",
    "from tensorflow.keras.layers import Dense, Flatten, MaxPool2D, Conv2D, Dropout, BatchNormalization\n",
    "from tensorflow.keras.callbacks import EarlyStopping\n",
    "\n",
    "from tensorflow.keras.preprocessing.image import ImageDataGenerator"
   ]
  },
  {
   "cell_type": "code",
   "execution_count": 9,
   "id": "excessive-catering",
   "metadata": {},
   "outputs": [],
   "source": [
    "with open('../data/mfcc/mfcc_df.pkl', 'rb') as f:\n",
    "    df = pickle.load(f)"
   ]
  },
  {
   "cell_type": "code",
   "execution_count": 17,
   "id": "manufactured-tracker",
   "metadata": {},
   "outputs": [
    {
     "data": {
      "text/html": [
       "<div>\n",
       "<style scoped>\n",
       "    .dataframe tbody tr th:only-of-type {\n",
       "        vertical-align: middle;\n",
       "    }\n",
       "\n",
       "    .dataframe tbody tr th {\n",
       "        vertical-align: top;\n",
       "    }\n",
       "\n",
       "    .dataframe thead th {\n",
       "        text-align: right;\n",
       "    }\n",
       "</style>\n",
       "<table border=\"1\" class=\"dataframe\">\n",
       "  <thead>\n",
       "    <tr style=\"text-align: right;\">\n",
       "      <th></th>\n",
       "      <th>mfcc</th>\n",
       "      <th>lang</th>\n",
       "    </tr>\n",
       "  </thead>\n",
       "  <tbody>\n",
       "    <tr>\n",
       "      <th>0</th>\n",
       "      <td>[[-218.45549, -218.13553, -225.98561, -238.920...</td>\n",
       "      <td>en</td>\n",
       "    </tr>\n",
       "    <tr>\n",
       "      <th>1</th>\n",
       "      <td>[[-160.82382, -184.89398, -213.44357, -215.361...</td>\n",
       "      <td>en</td>\n",
       "    </tr>\n",
       "    <tr>\n",
       "      <th>2</th>\n",
       "      <td>[[-363.65494, -332.7844, -322.0551, -325.19055...</td>\n",
       "      <td>en</td>\n",
       "    </tr>\n",
       "    <tr>\n",
       "      <th>3</th>\n",
       "      <td>[[-299.08017, -295.36636, -324.92734, -368.853...</td>\n",
       "      <td>en</td>\n",
       "    </tr>\n",
       "    <tr>\n",
       "      <th>4</th>\n",
       "      <td>[[-225.17198, -250.00174, -283.49326, -277.666...</td>\n",
       "      <td>en</td>\n",
       "    </tr>\n",
       "    <tr>\n",
       "      <th>...</th>\n",
       "      <td>...</td>\n",
       "      <td>...</td>\n",
       "    </tr>\n",
       "    <tr>\n",
       "      <th>3443</th>\n",
       "      <td>[[-521.1058, -513.96063, -512.47095, -513.9727...</td>\n",
       "      <td>zh</td>\n",
       "    </tr>\n",
       "    <tr>\n",
       "      <th>3444</th>\n",
       "      <td>[[-444.64468, -367.61206, -310.60666, -317.932...</td>\n",
       "      <td>zh</td>\n",
       "    </tr>\n",
       "    <tr>\n",
       "      <th>3445</th>\n",
       "      <td>[[-252.55998, -282.72787, -329.2826, -325.5801...</td>\n",
       "      <td>zh</td>\n",
       "    </tr>\n",
       "    <tr>\n",
       "      <th>3446</th>\n",
       "      <td>[[-312.48975, -355.90347, -434.3935, -386.7475...</td>\n",
       "      <td>zh</td>\n",
       "    </tr>\n",
       "    <tr>\n",
       "      <th>3447</th>\n",
       "      <td>[[-201.25839, -189.41978, -156.35239, -113.015...</td>\n",
       "      <td>zh</td>\n",
       "    </tr>\n",
       "  </tbody>\n",
       "</table>\n",
       "<p>9509 rows × 2 columns</p>\n",
       "</div>"
      ],
      "text/plain": [
       "                                                   mfcc lang\n",
       "0     [[-218.45549, -218.13553, -225.98561, -238.920...   en\n",
       "1     [[-160.82382, -184.89398, -213.44357, -215.361...   en\n",
       "2     [[-363.65494, -332.7844, -322.0551, -325.19055...   en\n",
       "3     [[-299.08017, -295.36636, -324.92734, -368.853...   en\n",
       "4     [[-225.17198, -250.00174, -283.49326, -277.666...   en\n",
       "...                                                 ...  ...\n",
       "3443  [[-521.1058, -513.96063, -512.47095, -513.9727...   zh\n",
       "3444  [[-444.64468, -367.61206, -310.60666, -317.932...   zh\n",
       "3445  [[-252.55998, -282.72787, -329.2826, -325.5801...   zh\n",
       "3446  [[-312.48975, -355.90347, -434.3935, -386.7475...   zh\n",
       "3447  [[-201.25839, -189.41978, -156.35239, -113.015...   zh\n",
       "\n",
       "[9509 rows x 2 columns]"
      ]
     },
     "execution_count": 17,
     "metadata": {},
     "output_type": "execute_result"
    }
   ],
   "source": [
    "df"
   ]
  },
  {
   "cell_type": "code",
   "execution_count": 23,
   "id": "alternative-hello",
   "metadata": {},
   "outputs": [
    {
     "data": {
      "text/plain": [
       "(20, 157)"
      ]
     },
     "execution_count": 23,
     "metadata": {},
     "output_type": "execute_result"
    }
   ],
   "source": [
    "df.iloc[0, 0].shape"
   ]
  },
  {
   "cell_type": "code",
   "execution_count": 25,
   "id": "assigned-copying",
   "metadata": {},
   "outputs": [],
   "source": [
    "X = df['mfcc']"
   ]
  },
  {
   "cell_type": "code",
   "execution_count": 28,
   "id": "coastal-enhancement",
   "metadata": {},
   "outputs": [],
   "source": [
    "X = np.stack(X)"
   ]
  },
  {
   "cell_type": "code",
   "execution_count": 38,
   "id": "outdoor-function",
   "metadata": {},
   "outputs": [],
   "source": [
    "X = X.reshape(9509, 20, 157, 1)"
   ]
  },
  {
   "cell_type": "code",
   "execution_count": 30,
   "id": "balanced-recipient",
   "metadata": {},
   "outputs": [],
   "source": [
    "y = np.where(df['lang'] == 'en', 0, 1)"
   ]
  },
  {
   "cell_type": "code",
   "execution_count": 39,
   "id": "convinced-northern",
   "metadata": {},
   "outputs": [],
   "source": [
    "X_train, X_test, y_train, y_test = train_test_split(X, y)"
   ]
  },
  {
   "cell_type": "code",
   "execution_count": 40,
   "id": "meaning-replication",
   "metadata": {},
   "outputs": [
    {
     "data": {
      "text/plain": [
       "(7131, 20, 157, 1)"
      ]
     },
     "execution_count": 40,
     "metadata": {},
     "output_type": "execute_result"
    }
   ],
   "source": [
    "X_train.shape"
   ]
  },
  {
   "cell_type": "code",
   "execution_count": 41,
   "id": "wicked-tomorrow",
   "metadata": {},
   "outputs": [
    {
     "data": {
      "text/plain": [
       "(2378, 20, 157, 1)"
      ]
     },
     "execution_count": 41,
     "metadata": {},
     "output_type": "execute_result"
    }
   ],
   "source": [
    "X_test.shape"
   ]
  },
  {
   "cell_type": "code",
   "execution_count": 42,
   "id": "loved-poland",
   "metadata": {},
   "outputs": [
    {
     "data": {
      "text/plain": [
       "(7131,)"
      ]
     },
     "execution_count": 42,
     "metadata": {},
     "output_type": "execute_result"
    }
   ],
   "source": [
    "y_train.shape"
   ]
  },
  {
   "cell_type": "code",
   "execution_count": 43,
   "id": "composed-aurora",
   "metadata": {},
   "outputs": [
    {
     "data": {
      "text/plain": [
       "(2378,)"
      ]
     },
     "execution_count": 43,
     "metadata": {},
     "output_type": "execute_result"
    }
   ],
   "source": [
    "y_test.shape"
   ]
  },
  {
   "cell_type": "code",
   "execution_count": 52,
   "id": "arctic-segment",
   "metadata": {},
   "outputs": [],
   "source": [
    "model = Sequential()\n",
    "model.add(BatchNormalization())\n",
    "model.add(Conv2D(filters = 10, kernel_size = 3, activation = 'relu', input_shape = (20, 157, 1)))\n",
    "model.add(Conv2D(filters = 10, kernel_size = 10, activation = 'relu', input_shape = (20, 157, 1)))\n",
    "model.add(Flatten())\n",
    "model.add(Dropout(.2))\n",
    "model.add(Dense(64, activation = 'relu'))\n",
    "model.add(Dropout(.2))\n",
    "model.add(Dense(64, activation = 'relu'))\n",
    "model.add(Dropout(.2))\n",
    "model.add(Dense(64, activation = 'relu'))\n",
    "model.add(Dense(1, activation = 'sigmoid'))\n",
    "model.compile(optimizer = 'adam', loss = 'binary_crossentropy', metrics = ['acc'])"
   ]
  },
  {
   "cell_type": "code",
   "execution_count": 49,
   "id": "blessed-logistics",
   "metadata": {},
   "outputs": [],
   "source": [
    "earlystop = EarlyStopping(patience=5)"
   ]
  },
  {
   "cell_type": "code",
   "execution_count": 50,
   "id": "banner-charger",
   "metadata": {},
   "outputs": [
    {
     "name": "stdout",
     "output_type": "stream",
     "text": [
      "Epoch 1/25\n",
      "223/223 [==============================] - 10s 36ms/step - loss: 0.5754 - acc: 0.6987 - val_loss: 0.4040 - val_acc: 0.8082\n",
      "Epoch 2/25\n",
      "223/223 [==============================] - 8s 34ms/step - loss: 0.4006 - acc: 0.8209 - val_loss: 0.3873 - val_acc: 0.8175\n",
      "Epoch 3/25\n",
      "223/223 [==============================] - 8s 35ms/step - loss: 0.3094 - acc: 0.8666 - val_loss: 0.3396 - val_acc: 0.8650\n",
      "Epoch 4/25\n",
      "223/223 [==============================] - 8s 35ms/step - loss: 0.2246 - acc: 0.9062 - val_loss: 0.2708 - val_acc: 0.8923\n",
      "Epoch 5/25\n",
      "223/223 [==============================] - 8s 36ms/step - loss: 0.1757 - acc: 0.9277 - val_loss: 0.2944 - val_acc: 0.8919\n",
      "Epoch 6/25\n",
      "223/223 [==============================] - 9s 39ms/step - loss: 0.1312 - acc: 0.9479 - val_loss: 0.2925 - val_acc: 0.8940\n",
      "Epoch 7/25\n",
      "223/223 [==============================] - 8s 36ms/step - loss: 0.1546 - acc: 0.9336 - val_loss: 0.3239 - val_acc: 0.8978\n",
      "Epoch 8/25\n",
      "223/223 [==============================] - 8s 36ms/step - loss: 0.1186 - acc: 0.9470 - val_loss: 0.3654 - val_acc: 0.8810\n",
      "Epoch 9/25\n",
      "223/223 [==============================] - 8s 36ms/step - loss: 0.1099 - acc: 0.9560 - val_loss: 0.3484 - val_acc: 0.8865\n"
     ]
    }
   ],
   "source": [
    "# model = Sequential()\n",
    "# model.add(BatchNormalization())\n",
    "# model.add(Conv2D(filters = 10, kernel_size = 3, activation = 'relu', input_shape = (20, 157, 1)))\n",
    "# model.add(Flatten())\n",
    "# model.add(Dropout(.2))\n",
    "# model.add(Dense(64, activation = 'relu'))\n",
    "# model.add(Dropout(.2))\n",
    "# model.add(Dense(64, activation = 'relu'))\n",
    "# model.add(Dropout(.2))\n",
    "# model.add(Dense(64, activation = 'relu'))\n",
    "# model.add(Dense(1, activation = 'sigmoid'))\n",
    "# model.compile(optimizer = 'adam', loss = 'binary_crossentropy', metrics = ['acc'])\n",
    "\n",
    "history = model.fit(\n",
    "    x=X_train,\n",
    "    y=y_train,\n",
    "    validation_data=(X_test, y_test), \n",
    "    callbacks=[earlystop], \n",
    "    epochs=25\n",
    ")"
   ]
  },
  {
   "cell_type": "code",
   "execution_count": 53,
   "id": "anticipated-thanksgiving",
   "metadata": {},
   "outputs": [
    {
     "name": "stdout",
     "output_type": "stream",
     "text": [
      "Epoch 1/25\n",
      "223/223 [==============================] - 2s 7ms/step - loss: 0.6368 - acc: 0.6586 - val_loss: 0.4741 - val_acc: 0.7771\n",
      "Epoch 2/25\n",
      "223/223 [==============================] - 1s 6ms/step - loss: 0.5115 - acc: 0.7453 - val_loss: 0.4330 - val_acc: 0.7868\n",
      "Epoch 3/25\n",
      "223/223 [==============================] - 1s 6ms/step - loss: 0.4589 - acc: 0.7771 - val_loss: 0.4139 - val_acc: 0.8066\n",
      "Epoch 4/25\n",
      "223/223 [==============================] - 1s 6ms/step - loss: 0.4256 - acc: 0.7862 - val_loss: 0.4077 - val_acc: 0.7906\n",
      "Epoch 5/25\n",
      "223/223 [==============================] - 1s 6ms/step - loss: 0.4080 - acc: 0.7902 - val_loss: 0.3778 - val_acc: 0.8171\n",
      "Epoch 6/25\n",
      "223/223 [==============================] - 1s 6ms/step - loss: 0.3806 - acc: 0.8071 - val_loss: 0.3880 - val_acc: 0.8146\n",
      "Epoch 7/25\n",
      "223/223 [==============================] - 1s 6ms/step - loss: 0.3699 - acc: 0.8127 - val_loss: 0.3655 - val_acc: 0.8217\n",
      "Epoch 8/25\n",
      "223/223 [==============================] - 2s 7ms/step - loss: 0.3453 - acc: 0.8198 - val_loss: 0.3839 - val_acc: 0.7965\n",
      "Epoch 9/25\n",
      "223/223 [==============================] - 1s 6ms/step - loss: 0.3407 - acc: 0.8281 - val_loss: 0.3718 - val_acc: 0.8209\n",
      "Epoch 10/25\n",
      "223/223 [==============================] - 1s 6ms/step - loss: 0.3370 - acc: 0.8303 - val_loss: 0.3558 - val_acc: 0.8301\n",
      "Epoch 11/25\n",
      "223/223 [==============================] - 1s 6ms/step - loss: 0.3243 - acc: 0.8281 - val_loss: 0.3544 - val_acc: 0.8339\n",
      "Epoch 12/25\n",
      "223/223 [==============================] - 1s 6ms/step - loss: 0.3116 - acc: 0.8355 - val_loss: 0.3551 - val_acc: 0.8352\n",
      "Epoch 13/25\n",
      "223/223 [==============================] - 1s 6ms/step - loss: 0.3080 - acc: 0.8432 - val_loss: 0.3542 - val_acc: 0.8381\n",
      "Epoch 14/25\n",
      "223/223 [==============================] - 1s 6ms/step - loss: 0.2859 - acc: 0.8531 - val_loss: 0.3494 - val_acc: 0.8310\n",
      "Epoch 15/25\n",
      "223/223 [==============================] - 1s 6ms/step - loss: 0.2954 - acc: 0.8476 - val_loss: 0.3573 - val_acc: 0.8276\n",
      "Epoch 16/25\n",
      "223/223 [==============================] - 1s 6ms/step - loss: 0.2861 - acc: 0.8479 - val_loss: 0.3599 - val_acc: 0.8293\n",
      "Epoch 17/25\n",
      "223/223 [==============================] - 1s 6ms/step - loss: 0.2838 - acc: 0.8531 - val_loss: 0.3680 - val_acc: 0.8251\n",
      "Epoch 18/25\n",
      "223/223 [==============================] - 1s 6ms/step - loss: 0.2747 - acc: 0.8512 - val_loss: 0.3755 - val_acc: 0.8293\n",
      "Epoch 19/25\n",
      "223/223 [==============================] - 1s 6ms/step - loss: 0.2857 - acc: 0.8401 - val_loss: 0.3620 - val_acc: 0.8394\n"
     ]
    }
   ],
   "source": [
    "# model = Sequential()\n",
    "# model.add(BatchNormalization())\n",
    "# model.add(Flatten())\n",
    "# model.add(Dropout(.2))\n",
    "# model.add(Dense(64, activation = 'relu'))\n",
    "# model.add(Dropout(.2))\n",
    "# model.add(Dense(64, activation = 'relu'))\n",
    "# model.add(Dropout(.2))\n",
    "# model.add(Dense(64, activation = 'relu'))\n",
    "# model.add(Dense(1, activation = 'sigmoid'))\n",
    "# model.compile(optimizer = 'adam', loss = 'binary_crossentropy', metrics = ['acc'])\n",
    "\n",
    "history = model.fit(\n",
    "    x=X_train,\n",
    "    y=y_train,\n",
    "    validation_data=(X_test, y_test), \n",
    "    callbacks=[earlystop], \n",
    "    epochs=25\n",
    ")"
   ]
  },
  {
   "cell_type": "code",
   "execution_count": 55,
   "id": "described-merchandise",
   "metadata": {},
   "outputs": [
    {
     "name": "stdout",
     "output_type": "stream",
     "text": [
      "Epoch 1/25\n",
      "223/223 [==============================] - 37s 157ms/step - loss: 0.5778 - acc: 0.6921 - val_loss: 0.3523 - val_acc: 0.8520\n",
      "Epoch 2/25\n",
      "223/223 [==============================] - 34s 151ms/step - loss: 0.3334 - acc: 0.8591 - val_loss: 0.3267 - val_acc: 0.8629\n",
      "Epoch 3/25\n",
      "223/223 [==============================] - 30s 135ms/step - loss: 0.2550 - acc: 0.8972 - val_loss: 0.2125 - val_acc: 0.9218\n",
      "Epoch 4/25\n",
      "223/223 [==============================] - 29s 130ms/step - loss: 0.1724 - acc: 0.9344 - val_loss: 0.2521 - val_acc: 0.8915\n",
      "Epoch 5/25\n",
      "223/223 [==============================] - 29s 128ms/step - loss: 0.1366 - acc: 0.9512 - val_loss: 0.1965 - val_acc: 0.9298\n",
      "Epoch 6/25\n",
      "223/223 [==============================] - 29s 129ms/step - loss: 0.0996 - acc: 0.9622 - val_loss: 0.1902 - val_acc: 0.9348\n",
      "Epoch 7/25\n",
      "223/223 [==============================] - 29s 131ms/step - loss: 0.0790 - acc: 0.9722 - val_loss: 0.2441 - val_acc: 0.9260\n",
      "Epoch 8/25\n",
      "223/223 [==============================] - 30s 136ms/step - loss: 0.0653 - acc: 0.9766 - val_loss: 0.2181 - val_acc: 0.9331\n",
      "Epoch 9/25\n",
      "223/223 [==============================] - 32s 143ms/step - loss: 0.0472 - acc: 0.9810 - val_loss: 0.2107 - val_acc: 0.9373\n",
      "Epoch 10/25\n",
      "223/223 [==============================] - 30s 136ms/step - loss: 0.0455 - acc: 0.9843 - val_loss: 0.2562 - val_acc: 0.9315\n",
      "Epoch 11/25\n",
      "223/223 [==============================] - 26s 118ms/step - loss: 0.0419 - acc: 0.9846 - val_loss: 0.2548 - val_acc: 0.9272\n"
     ]
    }
   ],
   "source": [
    "model = Sequential()\n",
    "model.add(BatchNormalization())\n",
    "model.add(Conv2D(filters = 10, kernel_size = 3, activation = 'relu', input_shape = (20, 157, 1)))\n",
    "model.add(Conv2D(filters = 10, kernel_size = 10, activation = 'relu', input_shape = (20, 157, 1)))\n",
    "model.add(Flatten())\n",
    "model.add(Dropout(.2))\n",
    "model.add(Dense(64, activation = 'relu'))\n",
    "model.add(Dropout(.2))\n",
    "model.add(Dense(64, activation = 'relu'))\n",
    "model.add(Dropout(.2))\n",
    "model.add(Dense(64, activation = 'relu'))\n",
    "model.add(Dense(1, activation = 'sigmoid'))\n",
    "model.compile(optimizer = 'adam', loss = 'binary_crossentropy', metrics = ['acc'])\n",
    "\n",
    "history = model.fit(\n",
    "    x=X_train,\n",
    "    y=y_train,\n",
    "    validation_data=(X_test, y_test), \n",
    "    callbacks=[earlystop], \n",
    "    epochs=25\n",
    ")"
   ]
  },
  {
   "cell_type": "code",
   "execution_count": 58,
   "id": "adaptive-paper",
   "metadata": {},
   "outputs": [],
   "source": [
    "# Epoch 11/25\n",
    "# 223/223 [==============================] - 26s 118ms/step - loss: 0.0419 - acc: 0.9846 - val_loss: 0.2548 - val_acc: 0.9272\n",
    "model.save('../models/cnn02242021.h5', save_format='h5')"
   ]
  },
  {
   "cell_type": "code",
   "execution_count": 56,
   "id": "comprehensive-timing",
   "metadata": {},
   "outputs": [
    {
     "data": {
      "text/plain": [
       "Text(0.5, 1.0, 'Results')"
      ]
     },
     "execution_count": 56,
     "metadata": {},
     "output_type": "execute_result"
    },
    {
     "data": {
      "image/png": "[encoded data removed]",
      "text/plain": [
       "<Figure size 432x288 with 1 Axes>"
      ]
     },
     "metadata": {
      "needs_background": "light"
     },
     "output_type": "display_data"
    }
   ],
   "source": [
    "# plot\n",
    "plt.plot(history.history['val_acc'], label = 'val acc')\n",
    "plt.plot(history.history['acc'], label = 'acc')\n",
    "plt.legend()\n",
    "plt.title('Results')"
   ]
  },
  {
   "cell_type": "code",
   "execution_count": null,
   "id": "collected-census",
   "metadata": {},
   "outputs": [],
   "source": []
  }
 ],
 "metadata": {
  "kernelspec": {
   "display_name": "Python 3",
   "language": "python",
   "name": "python3"
  },
  "language_info": {
   "codemirror_mode": {
    "name": "ipython",
    "version": 3
   },
   "file_extension": ".py",
   "mimetype": "text/x-python",
   "name": "python",
   "nbconvert_exporter": "python",
   "pygments_lexer": "ipython3",
   "version": "3.8.5"
  }
 },
 "nbformat": 4,
 "nbformat_minor": 5
}
