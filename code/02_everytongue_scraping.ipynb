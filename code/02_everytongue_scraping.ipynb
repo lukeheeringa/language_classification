{
 "cells": [
  {
   "cell_type": "markdown",
   "id": "parliamentary-disabled",
   "metadata": {},
   "source": [
    "#### Data Collection: Part 2"
   ]
  },
  {
   "cell_type": "markdown",
   "id": "thrown-victor",
   "metadata": {},
   "source": [
    "This notebook contains code that was used to filter and move downloads from EveryTongue.com into the project's audio folders. The download structure and naming conventions varied among the languages, so the process was not abstracted into functions."
   ]
  },
  {
   "cell_type": "code",
   "execution_count": null,
   "id": "smoking-wiring",
   "metadata": {},
   "outputs": [],
   "source": [
    "import numpy as np\n",
    "import os"
   ]
  },
  {
   "cell_type": "markdown",
   "id": "pleasant-bulletin",
   "metadata": {},
   "source": [
    "#### Mandarin"
   ]
  },
  {
   "cell_type": "code",
   "execution_count": null,
   "id": "regional-howard",
   "metadata": {},
   "outputs": [],
   "source": [
    "# list of folders in the Mandarin download\n",
    "folders = [f for f in os.listdir('../downloads/Mandarin/') if f[0] != '.']\n",
    "\n",
    "# move all mp3 files from the Mandarin folders to the audio folder\n",
    "for i, folder in enumerate(folders):\n",
    "    mp3s = [f for f in os.listdir('../downloads/Mandarin/' + folder + '/') if '.mp3' in f]\n",
    "    for j, file in enumerate(mp3s):\n",
    "        os.renames('../downloads/Mandarin/' + folder + '/' + file, f'../audio/2_everytongue/zh/zh{i:03}-{j:03}.mp3')"
   ]
  },
  {
   "cell_type": "markdown",
   "id": "standard-brisbane",
   "metadata": {},
   "source": [
    "#### Spanish"
   ]
  },
  {
   "cell_type": "code",
   "execution_count": null,
   "id": "following-knife",
   "metadata": {},
   "outputs": [],
   "source": [
    "# list of folders in the Spanish download\n",
    "top_folders = [f for f in os.listdir('../downloads/') if f[0] != '.']\n",
    "# second level of folders in the Spanish download\n",
    "sub_folders = ['../downloads/' + f + '/' + os.listdir('../downloads/' + f)[0] + '/' for f in top_folders]\n",
    "\n",
    "# move all mp3 files from the Spanish folder to the audio folder\n",
    "# exclude introduction and music-only files, as they cannot easily be split into speech-only sections\n",
    "for i, folder in enumerate(sub_folders):\n",
    "    mp3s = [folder + f for f in os.listdir(folder) if ('.mp3' in f and not 'Music' in f and not 'Introduction' in f)]\n",
    "    for j, file in enumerate(mp3s):\n",
    "        os.renames(file, f'../audio/2_everytongue/es/es{i:03}-{j:03}.mp3')"
   ]
  },
  {
   "cell_type": "markdown",
   "id": "failing-termination",
   "metadata": {},
   "source": [
    "#### French"
   ]
  },
  {
   "cell_type": "code",
   "execution_count": null,
   "id": "center-shanghai",
   "metadata": {},
   "outputs": [],
   "source": [
    "# list of folders in the French download\n",
    "folders = ['../downloads/French/' + f + '/' for f in os.listdir('../downloads/French/') if f[0] != '.']\n",
    "\n",
    "# move all mp3 files from the French folder to the audio folder\n",
    "# exclude introduction and music-only files, as they cannot easily be split into speech-only sections\n",
    "for i, folder in enumerate(folders):\n",
    "    mp3s = [folder + f for f in os.listdir(folder) if ('.mp3' in f and not 'Music' in f and not 'Introduction' in f)]\n",
    "    for j, file in enumerate(mp3s):\n",
    "        os.renames(file, f'../audio/2_everytongue/fr/fr{i:03}-{j:03}.mp3')"
   ]
  },
  {
   "cell_type": "markdown",
   "id": "elect-jersey",
   "metadata": {},
   "source": [
    "#### Russian"
   ]
  },
  {
   "cell_type": "code",
   "execution_count": null,
   "id": "naval-homeless",
   "metadata": {},
   "outputs": [],
   "source": [
    "# list of folders in the Russian download\n",
    "folders = ['../downloads/Russian/' + f + '/' for f in os.listdir('../downloads/Russian/') if f[0] != '.']\n",
    "\n",
    "# move all mp3 files from the Russian folder to the audio folder\n",
    "# only include the files corresponding to a picture, as non-picture files are majority music\n",
    "for i, folder in enumerate(folders):\n",
    "    mp3s = [folder + f for f in os.listdir(folder) if ('.mp3' in f and 'Picture' in f)]\n",
    "    for j, file in enumerate(mp3s):\n",
    "        os.renames(file, f'../audio/2_everytongue/ru/ru{i:03}-{j:03}.mp3')"
   ]
  }
 ],
 "metadata": {
  "kernelspec": {
   "display_name": "Python 3",
   "language": "python",
   "name": "python3"
  },
  "language_info": {
   "codemirror_mode": {
    "name": "ipython",
    "version": 3
   },
   "file_extension": ".py",
   "mimetype": "text/x-python",
   "name": "python",
   "nbconvert_exporter": "python",
   "pygments_lexer": "ipython3",
   "version": "3.8.5"
  }
 },
 "nbformat": 4,
 "nbformat_minor": 5
}
