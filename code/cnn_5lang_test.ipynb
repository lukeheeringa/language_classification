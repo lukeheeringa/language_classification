{
 "cells": [
  {
   "cell_type": "code",
   "execution_count": 2,
   "id": "joined-newton",
   "metadata": {},
   "outputs": [],
   "source": [
    "import warnings\n",
    "warnings.filterwarnings('ignore')"
   ]
  },
  {
   "cell_type": "code",
   "execution_count": 3,
   "id": "burning-retirement",
   "metadata": {},
   "outputs": [],
   "source": [
    "import numpy as np\n",
    "import matplotlib.pyplot as plt\n",
    "import pickle\n",
    "\n",
    "from os import listdir\n",
    "from sklearn.model_selection import train_test_split\n",
    "\n",
    "import tensorflow.keras\n",
    "from tensorflow.keras.models import Sequential\n",
    "from tensorflow.keras.layers import Dense, Flatten, MaxPool2D, Conv2D, Dropout, BatchNormalization\n",
    "from tensorflow.keras.callbacks import EarlyStopping\n",
    "from keras.utils import np_utils\n",
    "\n",
    "from sklearn.preprocessing import LabelEncoder"
   ]
  },
  {
   "cell_type": "code",
   "execution_count": 8,
   "id": "adjacent-camping",
   "metadata": {},
   "outputs": [],
   "source": [
    "mfcc_files = ['../data/mfcc/' + f for f in listdir('../data/mfcc/') if '_mfcc.pkl' in f]\n",
    "target_files = ['../data/target/' + f for f in listdir('../data/target/') if '_target.pkl' in f]\n",
    "\n",
    "mfcc_files.sort()\n",
    "target_files.sort()"
   ]
  },
  {
   "cell_type": "code",
   "execution_count": 9,
   "id": "local-uncle",
   "metadata": {},
   "outputs": [],
   "source": [
    "def reload(path):\n",
    "    with open(path, 'rb') as f:\n",
    "        return pickle.load(f)"
   ]
  },
  {
   "cell_type": "code",
   "execution_count": 10,
   "id": "joint-graphics",
   "metadata": {},
   "outputs": [],
   "source": [
    "mfcc_reloaded = [reload(f) for f in mfcc_files]\n",
    "target_reloaded = [reload(f) for f in target_files]"
   ]
  },
  {
   "cell_type": "code",
   "execution_count": 11,
   "id": "dependent-sucking",
   "metadata": {},
   "outputs": [
    {
     "data": {
      "text/plain": [
       "['../data/mfcc/en12280_mfcc.pkl',\n",
       " '../data/mfcc/es8171_mfcc.pkl',\n",
       " '../data/mfcc/fr6175_mfcc.pkl',\n",
       " '../data/mfcc/ru8081_mfcc.pkl',\n",
       " '../data/mfcc/zh3544_mfcc.pkl']"
      ]
     },
     "execution_count": 11,
     "metadata": {},
     "output_type": "execute_result"
    }
   ],
   "source": [
    "mfcc_files"
   ]
  },
  {
   "cell_type": "code",
   "execution_count": 12,
   "id": "announced-bulletin",
   "metadata": {},
   "outputs": [
    {
     "data": {
      "text/plain": [
       "['../data/target/en12280_target.pkl',\n",
       " '../data/target/es8171_target.pkl',\n",
       " '../data/target/fr6175_target.pkl',\n",
       " '../data/target/ru8081_target.pkl',\n",
       " '../data/target/zh3544_target.pkl']"
      ]
     },
     "execution_count": 12,
     "metadata": {},
     "output_type": "execute_result"
    }
   ],
   "source": [
    "target_files"
   ]
  },
  {
   "cell_type": "code",
   "execution_count": 13,
   "id": "painful-clinton",
   "metadata": {},
   "outputs": [],
   "source": [
    "X = np.concatenate(mfcc_reloaded)"
   ]
  },
  {
   "cell_type": "code",
   "execution_count": 14,
   "id": "chinese-confusion",
   "metadata": {},
   "outputs": [],
   "source": [
    "y = np.concatenate(target_reloaded)"
   ]
  },
  {
   "cell_type": "code",
   "execution_count": 15,
   "id": "challenging-prague",
   "metadata": {},
   "outputs": [],
   "source": [
    "# https://machinelearningmastery.com/multi-class-classification-tutorial-keras-deep-learning-library/\n",
    "# encode class values as integers\n",
    "encoder = LabelEncoder()\n",
    "encoder.fit(y)\n",
    "encoded_y = encoder.transform(y)\n",
    "# convert integers to dummy variables (i.e. one hot encoded)\n",
    "dummy_y = np_utils.to_categorical(encoded_y)"
   ]
  },
  {
   "cell_type": "code",
   "execution_count": 16,
   "id": "engaging-friday",
   "metadata": {},
   "outputs": [],
   "source": [
    "X = X.reshape(X.shape[0], X.shape[1], X.shape[2], 1)"
   ]
  },
  {
   "cell_type": "code",
   "execution_count": 17,
   "id": "eleven-parks",
   "metadata": {},
   "outputs": [],
   "source": [
    "X_train, X_test, y_train, y_test = train_test_split(X, dummy_y)"
   ]
  },
  {
   "cell_type": "code",
   "execution_count": 17,
   "id": "completed-copper",
   "metadata": {},
   "outputs": [],
   "source": [
    "model = Sequential()\n",
    "model.add(BatchNormalization())\n",
    "model.add(Conv2D(filters = 10, kernel_size = 3, activation = 'relu', input_shape = (20, 157, 1)))\n",
    "model.add(Conv2D(filters = 10, kernel_size = 10, activation = 'relu', input_shape = (20, 157, 1)))\n",
    "model.add(Flatten())\n",
    "model.add(Dropout(.2))\n",
    "model.add(Dense(64, activation = 'relu'))\n",
    "model.add(Dropout(.2))\n",
    "model.add(Dense(64, activation = 'relu'))\n",
    "model.add(Dropout(.2))\n",
    "model.add(Dense(64, activation = 'relu'))\n",
    "model.add(Dense(5, activation = 'softmax'))\n",
    "model.compile(optimizer = 'adam', loss = 'categorical_crossentropy', metrics = ['acc'])"
   ]
  },
  {
   "cell_type": "code",
   "execution_count": 18,
   "id": "early-excerpt",
   "metadata": {},
   "outputs": [],
   "source": [
    "earlystop = EarlyStopping(patience=5)"
   ]
  },
  {
   "cell_type": "code",
   "execution_count": 19,
   "id": "korean-polls",
   "metadata": {},
   "outputs": [
    {
     "name": "stdout",
     "output_type": "stream",
     "text": [
      "Epoch 1/25\n",
      "897/897 [==============================] - 98s 108ms/step - loss: 1.2865 - acc: 0.4428 - val_loss: 0.8963 - val_acc: 0.6605\n",
      "Epoch 2/25\n",
      "897/897 [==============================] - 98s 109ms/step - loss: 0.9052 - acc: 0.6474 - val_loss: 0.7980 - val_acc: 0.6885\n",
      "Epoch 3/25\n",
      "897/897 [==============================] - 93s 104ms/step - loss: 0.7810 - acc: 0.7024 - val_loss: 0.7191 - val_acc: 0.7290\n",
      "Epoch 4/25\n",
      "897/897 [==============================] - 94s 105ms/step - loss: 0.6969 - acc: 0.7352 - val_loss: 0.7218 - val_acc: 0.7222\n",
      "Epoch 5/25\n",
      "897/897 [==============================] - 94s 105ms/step - loss: 0.6380 - acc: 0.7533 - val_loss: 0.6564 - val_acc: 0.7552\n",
      "Epoch 6/25\n",
      "897/897 [==============================] - 93s 104ms/step - loss: 0.5784 - acc: 0.7775 - val_loss: 0.6355 - val_acc: 0.7641\n",
      "Epoch 7/25\n",
      "897/897 [==============================] - 93s 104ms/step - loss: 0.5338 - acc: 0.7966 - val_loss: 0.6330 - val_acc: 0.7693\n",
      "Epoch 8/25\n",
      "897/897 [==============================] - 98s 109ms/step - loss: 0.4834 - acc: 0.8150 - val_loss: 0.6514 - val_acc: 0.7655\n",
      "Epoch 9/25\n",
      "897/897 [==============================] - 129s 144ms/step - loss: 0.4531 - acc: 0.8287 - val_loss: 0.6288 - val_acc: 0.7735\n",
      "Epoch 10/25\n",
      "897/897 [==============================] - 118s 132ms/step - loss: 0.4216 - acc: 0.8420 - val_loss: 0.6179 - val_acc: 0.7753\n",
      "Epoch 11/25\n",
      "897/897 [==============================] - 100s 112ms/step - loss: 0.4059 - acc: 0.8495 - val_loss: 0.6352 - val_acc: 0.7795\n",
      "Epoch 12/25\n",
      "897/897 [==============================] - 94s 105ms/step - loss: 0.3695 - acc: 0.8603 - val_loss: 0.6509 - val_acc: 0.7766\n",
      "Epoch 13/25\n",
      "897/897 [==============================] - 95s 106ms/step - loss: 0.3496 - acc: 0.8685 - val_loss: 0.6506 - val_acc: 0.7773\n",
      "Epoch 14/25\n",
      "897/897 [==============================] - 107s 119ms/step - loss: 0.3326 - acc: 0.8775 - val_loss: 0.6957 - val_acc: 0.7775\n",
      "Epoch 15/25\n",
      "897/897 [==============================] - 116s 129ms/step - loss: 0.3186 - acc: 0.8790 - val_loss: 0.6528 - val_acc: 0.7878\n"
     ]
    }
   ],
   "source": [
    "history = model.fit(\n",
    "    x=X_train,\n",
    "    y=y_train,\n",
    "    validation_data=(X_test, y_test),\n",
    "    callbacks=[earlystop],\n",
    "    epochs=25\n",
    ")"
   ]
  },
  {
   "cell_type": "code",
   "execution_count": 20,
   "id": "narrative-moisture",
   "metadata": {},
   "outputs": [
    {
     "data": {
      "image/png": "[encoded data removed]",
      "text/plain": [
       "<Figure size 432x288 with 1 Axes>"
      ]
     },
     "metadata": {
      "needs_background": "light"
     },
     "output_type": "display_data"
    }
   ],
   "source": [
    "# plot\n",
    "plt.plot(history.history['val_acc'], label = 'val acc')\n",
    "plt.plot(history.history['acc'], label = 'acc')\n",
    "plt.legend()\n",
    "plt.title('Results');"
   ]
  },
  {
   "cell_type": "code",
   "execution_count": 51,
   "id": "impaired-tuition",
   "metadata": {},
   "outputs": [],
   "source": [
    "model.save('../models/cnn02252021.h5', save_format='h5')"
   ]
  },
  {
   "cell_type": "code",
   "execution_count": 19,
   "id": "medieval-cowboy",
   "metadata": {},
   "outputs": [],
   "source": [
    "from sklearn.metrics import confusion_matrix"
   ]
  },
  {
   "cell_type": "code",
   "execution_count": 17,
   "id": "fifth-excitement",
   "metadata": {},
   "outputs": [],
   "source": [
    "reloaded_model = tensorflow.keras.models.load_model('../models/cnn02252021.h5')"
   ]
  },
  {
   "cell_type": "code",
   "execution_count": 18,
   "id": "genetic-spyware",
   "metadata": {},
   "outputs": [],
   "source": [
    "y_out = np.apply_along_axis(np.argmax, axis=1, arr=y_test)"
   ]
  },
  {
   "cell_type": "code",
   "execution_count": 20,
   "id": "patent-knock",
   "metadata": {},
   "outputs": [],
   "source": [
    "cm = confusion_matrix(y_out, reloaded_model.predict_classes(X_test))"
   ]
  },
  {
   "cell_type": "code",
   "execution_count": 21,
   "id": "subject-cloud",
   "metadata": {},
   "outputs": [
    {
     "data": {
      "text/plain": [
       "array([[2895,   55,   25,   59,   26],\n",
       "       [  90, 1805,    9,  121,    3],\n",
       "       [  29,   25, 1424,   60,    5],\n",
       "       [  91,  128,   31, 1767,   20],\n",
       "       [  78,    6,    2,    6,  803]])"
      ]
     },
     "execution_count": 21,
     "metadata": {},
     "output_type": "execute_result"
    }
   ],
   "source": [
    "cm"
   ]
  },
  {
   "cell_type": "code",
   "execution_count": 31,
   "id": "educated-vienna",
   "metadata": {},
   "outputs": [],
   "source": [
    "x = np.true_divide(cm, cm.sum(axis=1, keepdims=True))"
   ]
  },
  {
   "cell_type": "code",
   "execution_count": 25,
   "id": "continued-latex",
   "metadata": {},
   "outputs": [],
   "source": [
    "import seaborn as sns\n",
    "import matplotlib.pyplot as plt"
   ]
  },
  {
   "cell_type": "code",
   "execution_count": 34,
   "id": "leading-fields",
   "metadata": {},
   "outputs": [
    {
     "data": {
      "text/plain": [
       "Text(69.0, 0.5, 'Predicted')"
      ]
     },
     "execution_count": 34,
     "metadata": {},
     "output_type": "execute_result"
    },
    {
     "data": {
      "image/png": "[encoded data removed]",
      "text/plain": [
       "<Figure size 720x576 with 2 Axes>"
      ]
     },
     "metadata": {
      "needs_background": "light"
     },
     "output_type": "display_data"
    }
   ],
   "source": [
    "plt.figure(figsize=(10, 8))\n",
    "sns.heatmap(x, annot=True, fmt='g', xticklabels=['en', 'es', 'fr', 'ru', 'zh'], yticklabels=['en', 'es', 'fr', 'ru', 'zh'])\n",
    "plt.xlabel(\"Actual\")\n",
    "plt.ylabel(\"Predicted\")"
   ]
  },
  {
   "cell_type": "code",
   "execution_count": null,
   "id": "copyrighted-picking",
   "metadata": {},
   "outputs": [],
   "source": []
  }
 ],
 "metadata": {
  "kernelspec": {
   "display_name": "Python 3",
   "language": "python",
   "name": "python3"
  },
  "language_info": {
   "codemirror_mode": {
    "name": "ipython",
    "version": 3
   },
   "file_extension": ".py",
   "mimetype": "text/x-python",
   "name": "python",
   "nbconvert_exporter": "python",
   "pygments_lexer": "ipython3",
   "version": "3.8.5"
  }
 },
 "nbformat": 4,
 "nbformat_minor": 5
}
