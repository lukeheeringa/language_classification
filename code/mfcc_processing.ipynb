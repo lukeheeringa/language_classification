{
 "cells": [
  {
   "cell_type": "code",
   "execution_count": 2,
   "id": "informative-examination",
   "metadata": {},
   "outputs": [],
   "source": [
    "import librosa\n",
    "import numpy as np\n",
    "import pickle\n",
    "from os import listdir"
   ]
  },
  {
   "cell_type": "code",
   "execution_count": 21,
   "id": "pointed-geometry",
   "metadata": {},
   "outputs": [],
   "source": [
    "def timeseries_file_listing(lang_abbr, folder=None):\n",
    "    if folder == None:\n",
    "        base_path = '../data/timeseries/' + lang_abbr + '/'\n",
    "    else: \n",
    "        base_path = '../data/timeseries/' + lang_abbr + '/' + folder + '/' \n",
    "    return np.array([base_path + f for f in listdir(base_path) if '.pkl' in f])"
   ]
  },
  {
   "cell_type": "code",
   "execution_count": 22,
   "id": "potential-category",
   "metadata": {},
   "outputs": [],
   "source": [
    "def timeseries_to_mfcc(path, array, index, n_mfcc=20):\n",
    "    with open(path, 'rb') as f:\n",
    "        reloaded = pickle.load(f)\n",
    "    array[index] = librosa.effects.feature.mfcc(reloaded, sr=16000, n_mfcc=n_mfcc)"
   ]
  },
  {
   "cell_type": "code",
   "execution_count": 23,
   "id": "patient-midwest",
   "metadata": {},
   "outputs": [],
   "source": [
    "# input is language abbreviation, (optional n_mfcc)\n",
    "\n",
    "def batch_mfcc_save(abbr, n_mfcc=20, folder=None):\n",
    "    # timeseries_file_listing creates array of path names\n",
    "    path_arr = timeseries_file_listing(abbr, folder)\n",
    "    \n",
    "    # use length of array (and n_mfcc) to create array of zeros\n",
    "    size = len(path_arr)\n",
    "    mfcc_arr = np.zeros((size, n_mfcc, 157))\n",
    "    n_arr = np.array(range(size))\n",
    "    \n",
    "    # vectorize setting elements with timeseries_to_mfcc function\n",
    "    func = np.vectorize(lambda x: timeseries_to_mfcc(path_arr[x], mfcc_arr, x, n_mfcc=n_mfcc))\n",
    "    func(n_arr)\n",
    "    \n",
    "    # use length of array and lang abbr to create target array\n",
    "    target_arr = np.full(size, abbr)\n",
    "    \n",
    "    # save both using language name and number of elements (+ mfcc or + target)\n",
    "    if folder == None:\n",
    "        mfcc_file_name = '../data/mfcc/' + abbr + '_' + str(size) + 'n_' + str(n_mfcc) + 'mfcc.pkl'\n",
    "    else:\n",
    "        mfcc_file_name = '../data/mfcc/' + folder + '/' + abbr + '_' + str(size) + 'n_' + str(n_mfcc) + 'mfcc.pkl'\n",
    "    with open(mfcc_file_name, 'wb') as f:\n",
    "        pickle.dump(mfcc_arr, f)\n",
    "    \n",
    "    if folder == None:\n",
    "        mfcc_file_name = '../data/target/' + abbr + '_' + str(size) + 'n_target.pkl'\n",
    "    else:\n",
    "        target_file_name = '../data/target/' + folder + '/' + abbr + '_' + str(size) + 'n_target.pkl'\n",
    "    with open(target_file_name, 'wb') as g:\n",
    "        pickle.dump(target_arr, g)\n",
    "    \n",
    "    # will be able to load those, concat alphabetically to preserve matches\n",
    "    return mfcc_file_name, target_file_name"
   ]
  },
  {
   "cell_type": "code",
   "execution_count": 24,
   "id": "following-update",
   "metadata": {},
   "outputs": [],
   "source": [
    "def save_all(abbr_arr, n_mfcc=20, folder=None):\n",
    "    func = np.vectorize(lambda x: batch_mfcc_save(x, n_mfcc, folder))\n",
    "    func(abbr_arr)"
   ]
  },
  {
   "cell_type": "code",
   "execution_count": 7,
   "id": "environmental-address",
   "metadata": {},
   "outputs": [
    {
     "name": "stdout",
     "output_type": "stream",
     "text": [
      "CPU times: user 2min 57s, sys: 6.23 s, total: 3min 3s\n",
      "Wall time: 1min 52s\n"
     ]
    },
    {
     "data": {
      "text/plain": [
       "('../data/mfcc/en_12130n_20mfcc.pkl', '../data/target/en_12130n_target.pkl')"
      ]
     },
     "execution_count": 7,
     "metadata": {},
     "output_type": "execute_result"
    }
   ],
   "source": [
    "%%time\n",
    "batch_mfcc_save('en')"
   ]
  },
  {
   "cell_type": "code",
   "execution_count": 8,
   "id": "found-adoption",
   "metadata": {},
   "outputs": [
    {
     "name": "stdout",
     "output_type": "stream",
     "text": [
      "CPU times: user 2min 43s, sys: 5.83 s, total: 2min 48s\n",
      "Wall time: 1min 45s\n"
     ]
    },
    {
     "data": {
      "text/plain": [
       "('../data/mfcc/zh_11067n_20mfcc.pkl', '../data/target/zh_11067n_target.pkl')"
      ]
     },
     "execution_count": 8,
     "metadata": {},
     "output_type": "execute_result"
    }
   ],
   "source": [
    "%%time\n",
    "batch_mfcc_save('zh')"
   ]
  },
  {
   "cell_type": "code",
   "execution_count": 9,
   "id": "connected-fellowship",
   "metadata": {},
   "outputs": [
    {
     "name": "stdout",
     "output_type": "stream",
     "text": [
      "CPU times: user 2min 48s, sys: 6.03 s, total: 2min 54s\n",
      "Wall time: 1min 50s\n"
     ]
    },
    {
     "data": {
      "text/plain": [
       "('../data/mfcc/fr_10894n_20mfcc.pkl', '../data/target/fr_10894n_target.pkl')"
      ]
     },
     "execution_count": 9,
     "metadata": {},
     "output_type": "execute_result"
    }
   ],
   "source": [
    "%%time\n",
    "batch_mfcc_save('fr')"
   ]
  },
  {
   "cell_type": "code",
   "execution_count": 10,
   "id": "compressed-server",
   "metadata": {},
   "outputs": [
    {
     "name": "stdout",
     "output_type": "stream",
     "text": [
      "CPU times: user 2min 44s, sys: 5.78 s, total: 2min 50s\n",
      "Wall time: 1min 41s\n"
     ]
    },
    {
     "data": {
      "text/plain": [
       "('../data/mfcc/es_11763n_20mfcc.pkl', '../data/target/es_11763n_target.pkl')"
      ]
     },
     "execution_count": 10,
     "metadata": {},
     "output_type": "execute_result"
    }
   ],
   "source": [
    "%%time\n",
    "batch_mfcc_save('es')"
   ]
  },
  {
   "cell_type": "code",
   "execution_count": 11,
   "id": "cardiovascular-senior",
   "metadata": {},
   "outputs": [
    {
     "name": "stdout",
     "output_type": "stream",
     "text": [
      "CPU times: user 2min 45s, sys: 5.69 s, total: 2min 50s\n",
      "Wall time: 1min 41s\n"
     ]
    },
    {
     "data": {
      "text/plain": [
       "('../data/mfcc/ru_11848n_20mfcc.pkl', '../data/target/ru_11848n_target.pkl')"
      ]
     },
     "execution_count": 11,
     "metadata": {},
     "output_type": "execute_result"
    }
   ],
   "source": [
    "%%time\n",
    "batch_mfcc_save('ru')"
   ]
  },
  {
   "cell_type": "code",
   "execution_count": 7,
   "id": "enhanced-chambers",
   "metadata": {},
   "outputs": [
    {
     "data": {
      "text/plain": [
       "('../data/mfcc/ru_11848n_5mfcc.pkl', '../data/target/ru_11848n_target.pkl')"
      ]
     },
     "execution_count": 7,
     "metadata": {},
     "output_type": "execute_result"
    }
   ],
   "source": [
    "batch_mfcc_save('en', 5)\n",
    "batch_mfcc_save('zh', 5)\n",
    "batch_mfcc_save('fr', 5)\n",
    "batch_mfcc_save('es', 5)\n",
    "batch_mfcc_save('ru', 5)"
   ]
  },
  {
   "cell_type": "code",
   "execution_count": 25,
   "id": "scenic-marking",
   "metadata": {},
   "outputs": [],
   "source": [
    "save_all(np.array(['en', 'es', 'fr', 'ru', 'zh']), 10, 'validation')"
   ]
  },
  {
   "cell_type": "code",
   "execution_count": null,
   "id": "innovative-cannon",
   "metadata": {},
   "outputs": [],
   "source": []
  }
 ],
 "metadata": {
  "kernelspec": {
   "display_name": "Python 3",
   "language": "python",
   "name": "python3"
  },
  "language_info": {
   "codemirror_mode": {
    "name": "ipython",
    "version": 3
   },
   "file_extension": ".py",
   "mimetype": "text/x-python",
   "name": "python",
   "nbconvert_exporter": "python",
   "pygments_lexer": "ipython3",
   "version": "3.8.5"
  }
 },
 "nbformat": 4,
 "nbformat_minor": 5
}
