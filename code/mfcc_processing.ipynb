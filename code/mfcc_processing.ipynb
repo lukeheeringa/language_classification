{
 "cells": [
  {
   "cell_type": "code",
   "execution_count": 3,
   "id": "outer-criminal",
   "metadata": {},
   "outputs": [],
   "source": [
    "import librosa\n",
    "import numpy as np\n",
    "import pickle\n",
    "from os import listdir"
   ]
  },
  {
   "cell_type": "code",
   "execution_count": 5,
   "id": "brown-equity",
   "metadata": {},
   "outputs": [],
   "source": [
    "def timeseries_file_listing(lang_abbr):\n",
    "    base_path = '../data/timeseries/' + lang_abbr + '/'\n",
    "    return np.array([base_path + f for f in listdir(base_path) if '.pkl' in f])"
   ]
  },
  {
   "cell_type": "code",
   "execution_count": 6,
   "id": "turned-patrick",
   "metadata": {},
   "outputs": [],
   "source": [
    "def timeseries_to_mfcc(path, array, index, n_mfcc=20):\n",
    "    with open(path, 'rb') as f:\n",
    "        reloaded = pickle.load(f)\n",
    "    array[index] = librosa.effects.feature.mfcc(reloaded, sr=16000, n_mfcc=n_mfcc)"
   ]
  },
  {
   "cell_type": "code",
   "execution_count": 12,
   "id": "swiss-creator",
   "metadata": {},
   "outputs": [],
   "source": [
    "# input is language abbreviation, (optional n_mfcc)\n",
    "\n",
    "def batch_mfcc_save(abbr, n_mfcc=20):\n",
    "    # timeseries_file_listing creates array of path names\n",
    "    path_arr = timeseries_file_listing(abbr)\n",
    "    \n",
    "    # use length of array (and n_mfcc) to create array of zeros\n",
    "    size = len(path_arr)\n",
    "    mfcc_arr = np.zeros((size, n_mfcc, 157))\n",
    "    n_arr = np.array(range(size))\n",
    "    \n",
    "    # vectorize setting elements with timeseries_to_mfcc function\n",
    "    func = np.vectorize(lambda x: timeseries_to_mfcc(path_arr[x], mfcc_arr, x, n_mfcc=n_mfcc))\n",
    "    func(n_arr)\n",
    "    \n",
    "    # use length of array and lang abbr to create target array\n",
    "    target_arr = np.full(size, abbr)\n",
    "    \n",
    "    # save both using language name and number of elements (+ mfcc or + target)\n",
    "    mfcc_file_name = '../data/mfcc/' + abbr + str(size) + '_mfcc.pkl'\n",
    "    with open(mfcc_file_name, 'wb') as f:\n",
    "        pickle.dump(mfcc_arr, f)\n",
    "    \n",
    "    target_file_name = '../data/target/' + abbr + str(size) + '_mfcc.pkl'\n",
    "    with open(target_file_name, 'wb') as g:\n",
    "        pickle.dump(target_arr, g)\n",
    "    \n",
    "    # will be able to load those, concat alphabetically to preserve matches\n",
    "    return mfcc_file_name, target_file_name"
   ]
  }
 ],
 "metadata": {
  "kernelspec": {
   "display_name": "Python 3",
   "language": "python",
   "name": "python3"
  },
  "language_info": {
   "codemirror_mode": {
    "name": "ipython",
    "version": 3
   },
   "file_extension": ".py",
   "mimetype": "text/x-python",
   "name": "python",
   "nbconvert_exporter": "python",
   "pygments_lexer": "ipython3",
   "version": "3.8.5"
  }
 },
 "nbformat": 4,
 "nbformat_minor": 5
}
