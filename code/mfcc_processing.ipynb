{
 "cells": [
  {
   "cell_type": "code",
   "execution_count": 1,
   "id": "opening-cliff",
   "metadata": {},
   "outputs": [],
   "source": [
    "import librosa\n",
    "import numpy as np\n",
    "import pickle\n",
    "from os import listdir\n"
   ]
  },
  {
   "cell_type": "code",
   "execution_count": 2,
   "id": "peripheral-fault",
   "metadata": {},
   "outputs": [],
   "source": [
    "def timeseries_file_listing(lang_abbr):\n",
    "    base_path = '../data/timeseries/' + lang_abbr + '/'\n",
    "    return np.array([base_path + f for f in listdir(base_path) if '.pkl' in f])"
   ]
  },
  {
   "cell_type": "code",
   "execution_count": 7,
   "id": "waiting-short",
   "metadata": {},
   "outputs": [],
   "source": [
    "def timeseries_to_mfcc(path, array, index, n_mfcc=20):\n",
    "    with open(path, 'rb') as f:\n",
    "        reloaded = pickle.load(f)\n",
    "    array[index] = librosa.effects.feature.mfcc(reloaded, sr=16000, n_mfcc=n_mfcc)"
   ]
  },
  {
   "cell_type": "code",
   "execution_count": 4,
   "id": "western-shuttle",
   "metadata": {},
   "outputs": [],
   "source": [
    "# input is language abbreviation, (optional n_mfcc)\n",
    "\n",
    "def batch_mfcc_save(abbr, n_mfcc=20):\n",
    "    # timeseries_file_listing creates array of path names\n",
    "    path_arr = timeseries_file_listing(abbr)\n",
    "    \n",
    "    # use length of array (and n_mfcc) to create array of zeros\n",
    "    size = len(path_arr)\n",
    "    mfcc_arr = np.zeros((size, n_mfcc, 157))\n",
    "    n_arr = np.array(range(size))\n",
    "    \n",
    "    # vectorize setting elements with timeseries_to_mfcc function\n",
    "    func = np.vectorize(lambda x: timeseries_to_mfcc(path_arr[x], mfcc_arr, x, n_mfcc=n_mfcc))\n",
    "    func(n_arr)\n",
    "    \n",
    "    # use length of array and lang abbr to create target array\n",
    "    target_arr = np.full(size, abbr)\n",
    "    \n",
    "    # save both using language name and number of elements (+ mfcc or + target)\n",
    "    mfcc_file_name = '../data/mfcc/' + abbr + str(size) + '_mfcc.pkl'\n",
    "    with open(mfcc_file_name, 'wb') as f:\n",
    "        pickle.dump(mfcc_arr, f)\n",
    "    \n",
    "    target_file_name = '../data/target/' + abbr + str(size) + '_target.pkl'\n",
    "    with open(target_file_name, 'wb') as g:\n",
    "        pickle.dump(target_arr, g)\n",
    "    \n",
    "    # will be able to load those, concat alphabetically to preserve matches\n",
    "    return mfcc_file_name, target_file_name"
   ]
  },
  {
   "cell_type": "code",
   "execution_count": 5,
   "id": "norman-region",
   "metadata": {},
   "outputs": [
    {
     "name": "stdout",
     "output_type": "stream",
     "text": [
      "CPU times: user 3min 15s, sys: 5.83 s, total: 3min 21s\n",
      "Wall time: 2min 5s\n"
     ]
    },
    {
     "data": {
      "text/plain": [
       "('../data/mfcc/en12280_mfcc.pkl', '../data/target/en12280_target.pkl')"
      ]
     },
     "execution_count": 5,
     "metadata": {},
     "output_type": "execute_result"
    }
   ],
   "source": [
    "%%time\n",
    "batch_mfcc_save('en')"
   ]
  },
  {
   "cell_type": "code",
   "execution_count": 6,
   "id": "sticky-virtue",
   "metadata": {},
   "outputs": [
    {
     "name": "stdout",
     "output_type": "stream",
     "text": [
      "CPU times: user 1min 5s, sys: 1.99 s, total: 1min 7s\n",
      "Wall time: 45.1 s\n"
     ]
    },
    {
     "data": {
      "text/plain": [
       "('../data/mfcc/zh3544_mfcc.pkl', '../data/target/zh3544_target.pkl')"
      ]
     },
     "execution_count": 6,
     "metadata": {},
     "output_type": "execute_result"
    }
   ],
   "source": [
    "%%time\n",
    "batch_mfcc_save('zh')"
   ]
  },
  {
   "cell_type": "code",
   "execution_count": 7,
   "id": "continental-gilbert",
   "metadata": {},
   "outputs": [
    {
     "name": "stdout",
     "output_type": "stream",
     "text": [
      "CPU times: user 1min 46s, sys: 3.06 s, total: 1min 50s\n",
      "Wall time: 1min 11s\n"
     ]
    },
    {
     "data": {
      "text/plain": [
       "('../data/mfcc/fr6175_mfcc.pkl', '../data/target/fr6175_target.pkl')"
      ]
     },
     "execution_count": 7,
     "metadata": {},
     "output_type": "execute_result"
    }
   ],
   "source": [
    "%%time\n",
    "batch_mfcc_save('fr')"
   ]
  },
  {
   "cell_type": "code",
   "execution_count": 10,
   "id": "false-ceiling",
   "metadata": {},
   "outputs": [
    {
     "data": {
      "text/plain": [
       "('../data/mfcc/ar57_mfcc.pkl', '../data/target/ar57_target.pkl')"
      ]
     },
     "execution_count": 10,
     "metadata": {},
     "output_type": "execute_result"
    }
   ],
   "source": [
    "# batch_mfcc_save('ar')"
   ]
  },
  {
   "cell_type": "code",
   "execution_count": 8,
   "id": "embedded-making",
   "metadata": {},
   "outputs": [
    {
     "name": "stdout",
     "output_type": "stream",
     "text": [
      "CPU times: user 1min 54s, sys: 3.88 s, total: 1min 58s\n",
      "Wall time: 1min 7s\n"
     ]
    },
    {
     "data": {
      "text/plain": [
       "('../data/mfcc/es8171_mfcc.pkl', '../data/target/es8171_target.pkl')"
      ]
     },
     "execution_count": 8,
     "metadata": {},
     "output_type": "execute_result"
    }
   ],
   "source": [
    "%%time\n",
    "batch_mfcc_save('es')"
   ]
  },
  {
   "cell_type": "code",
   "execution_count": 9,
   "id": "brazilian-graham",
   "metadata": {},
   "outputs": [
    {
     "name": "stdout",
     "output_type": "stream",
     "text": [
      "CPU times: user 2min 3s, sys: 3.85 s, total: 2min 7s\n",
      "Wall time: 1min 17s\n"
     ]
    },
    {
     "data": {
      "text/plain": [
       "('../data/mfcc/ru8081_mfcc.pkl', '../data/target/ru8081_target.pkl')"
      ]
     },
     "execution_count": 9,
     "metadata": {},
     "output_type": "execute_result"
    }
   ],
   "source": [
    "%%time\n",
    "batch_mfcc_save('ru')"
   ]
  }
 ],
 "metadata": {
  "kernelspec": {
   "display_name": "Python 3",
   "language": "python",
   "name": "python3"
  },
  "language_info": {
   "codemirror_mode": {
    "name": "ipython",
    "version": 3
   },
   "file_extension": ".py",
   "mimetype": "text/x-python",
   "name": "python",
   "nbconvert_exporter": "python",
   "pygments_lexer": "ipython3",
   "version": "3.8.5"
  }
 },
 "nbformat": 4,
 "nbformat_minor": 5
}
