{
 "cells": [
  {
   "cell_type": "code",
   "execution_count": 1,
   "id": "certain-teens",
   "metadata": {},
   "outputs": [],
   "source": [
    "import warnings\n",
    "warnings.filterwarnings('ignore')"
   ]
  },
  {
   "cell_type": "code",
   "execution_count": 1,
   "id": "inclusive-concern",
   "metadata": {},
   "outputs": [],
   "source": [
    "import numpy as np\n",
    "import matplotlib.pyplot as plt\n",
    "import pickle\n",
    "\n",
    "from os import listdir\n",
    "from sklearn.model_selection import train_test_split\n",
    "\n",
    "from tensorflow.keras.models import Sequential\n",
    "from tensorflow.keras.layers import Dense, Flatten, MaxPool2D, Conv2D, Dropout, BatchNormalization\n",
    "from tensorflow.keras.callbacks import EarlyStopping"
   ]
  },
  {
   "cell_type": "code",
   "execution_count": 27,
   "id": "backed-resistance",
   "metadata": {},
   "outputs": [],
   "source": [
    "mfcc_files = ['../data/mfcc/' + f for f in listdir('../data/mfcc/') if '_mfcc.pkl' in f]\n",
    "target_files = ['../data/target/' + f for f in listdir('../data/target/') if '_target.pkl' in f]\n",
    "\n",
    "mfcc_files.sort()\n",
    "target_files.sort()"
   ]
  },
  {
   "cell_type": "code",
   "execution_count": 28,
   "id": "laughing-insured",
   "metadata": {},
   "outputs": [],
   "source": [
    "def reload(path):\n",
    "    with open(path, 'rb') as f:\n",
    "        return pickle.load(f)"
   ]
  },
  {
   "cell_type": "code",
   "execution_count": 29,
   "id": "ethical-money",
   "metadata": {},
   "outputs": [],
   "source": [
    "mfcc_reloaded = [reload(f) for f in mfcc_files]\n",
    "target_reloaded = [reload(f) for f in target_files]"
   ]
  },
  {
   "cell_type": "code",
   "execution_count": 30,
   "id": "portable-dodge",
   "metadata": {},
   "outputs": [],
   "source": [
    "X = np.concatenate(mfcc_reloaded)"
   ]
  },
  {
   "cell_type": "code",
   "execution_count": 31,
   "id": "previous-patient",
   "metadata": {},
   "outputs": [],
   "source": [
    "y = np.concatenate(target_reloaded)"
   ]
  },
  {
   "cell_type": "code",
   "execution_count": 34,
   "id": "entire-blind",
   "metadata": {},
   "outputs": [],
   "source": [
    "X = X.reshape(X.shape[0], X.shape[1], X.shape[2], 1)"
   ]
  },
  {
   "cell_type": "code",
   "execution_count": 36,
   "id": "physical-processor",
   "metadata": {},
   "outputs": [],
   "source": [
    "y = np.where(y == 'en', 0, 1)"
   ]
  },
  {
   "cell_type": "code",
   "execution_count": 37,
   "id": "demographic-planning",
   "metadata": {},
   "outputs": [],
   "source": [
    "X_train, X_test, y_train, y_test = train_test_split(X, y)"
   ]
  },
  {
   "cell_type": "code",
   "execution_count": 40,
   "id": "comprehensive-offset",
   "metadata": {},
   "outputs": [],
   "source": [
    "model = Sequential()\n",
    "model.add(BatchNormalization())\n",
    "model.add(Conv2D(filters = 10, kernel_size = 3, activation = 'relu', input_shape = (20, 157, 1)))\n",
    "model.add(Conv2D(filters = 10, kernel_size = 10, activation = 'relu', input_shape = (20, 157, 1)))\n",
    "model.add(Flatten())\n",
    "model.add(Dropout(.2))\n",
    "model.add(Dense(64, activation = 'relu'))\n",
    "model.add(Dropout(.2))\n",
    "model.add(Dense(64, activation = 'relu'))\n",
    "model.add(Dropout(.2))\n",
    "model.add(Dense(64, activation = 'relu'))\n",
    "model.add(Dense(1, activation = 'sigmoid'))\n",
    "model.compile(optimizer = 'adam', loss = 'binary_crossentropy', metrics = ['acc'])"
   ]
  },
  {
   "cell_type": "code",
   "execution_count": 41,
   "id": "enabling-portable",
   "metadata": {},
   "outputs": [],
   "source": [
    "earlystop = EarlyStopping(patience=5)"
   ]
  },
  {
   "cell_type": "code",
   "execution_count": 43,
   "id": "french-express",
   "metadata": {},
   "outputs": [
    {
     "name": "stdout",
     "output_type": "stream",
     "text": [
      "Epoch 1/25\n",
      "223/223 [==============================] - 31s 134ms/step - loss: 0.5509 - acc: 0.7087 - val_loss: 0.3467 - val_acc: 0.8511\n",
      "Epoch 2/25\n",
      "223/223 [==============================] - 30s 133ms/step - loss: 0.3411 - acc: 0.8637 - val_loss: 0.2747 - val_acc: 0.8944\n",
      "Epoch 3/25\n",
      "223/223 [==============================] - 30s 132ms/step - loss: 0.2280 - acc: 0.9184 - val_loss: 0.2012 - val_acc: 0.9163\n",
      "Epoch 4/25\n",
      "223/223 [==============================] - 29s 131ms/step - loss: 0.1530 - acc: 0.9412 - val_loss: 0.2021 - val_acc: 0.9197\n",
      "Epoch 5/25\n",
      "223/223 [==============================] - 30s 133ms/step - loss: 0.1203 - acc: 0.9569 - val_loss: 0.1893 - val_acc: 0.9260\n",
      "Epoch 6/25\n",
      "223/223 [==============================] - 34s 151ms/step - loss: 0.0920 - acc: 0.9645 - val_loss: 0.1929 - val_acc: 0.9298\n",
      "Epoch 7/25\n",
      "223/223 [==============================] - 32s 142ms/step - loss: 0.0643 - acc: 0.9770 - val_loss: 0.2768 - val_acc: 0.9117\n",
      "Epoch 8/25\n",
      "223/223 [==============================] - 31s 140ms/step - loss: 0.0676 - acc: 0.9768 - val_loss: 0.2161 - val_acc: 0.9403\n",
      "Epoch 9/25\n",
      "223/223 [==============================] - 30s 134ms/step - loss: 0.0375 - acc: 0.9869 - val_loss: 0.2002 - val_acc: 0.9411\n",
      "Epoch 10/25\n",
      "223/223 [==============================] - 30s 136ms/step - loss: 0.0447 - acc: 0.9847 - val_loss: 0.1961 - val_acc: 0.9394\n"
     ]
    }
   ],
   "source": [
    "history = model.fit(\n",
    "    x=X_train,\n",
    "    y=y_train,\n",
    "    validation_data=(X_test, y_test),\n",
    "    callbacks=[earlystop],\n",
    "    epochs=25\n",
    ")"
   ]
  },
  {
   "cell_type": "code",
   "execution_count": 44,
   "id": "intermediate-silver",
   "metadata": {},
   "outputs": [
    {
     "data": {
      "text/plain": [
       "Text(0.5, 1.0, 'Results')"
      ]
     },
     "execution_count": 44,
     "metadata": {},
     "output_type": "execute_result"
    },
    {
     "data": {
      "image/png": "[encoded data removed]",
      "text/plain": [
       "<Figure size 432x288 with 1 Axes>"
      ]
     },
     "metadata": {
      "needs_background": "light"
     },
     "output_type": "display_data"
    }
   ],
   "source": [
    "# plot\n",
    "plt.plot(history.history['val_acc'], label = 'val acc')\n",
    "plt.plot(history.history['acc'], label = 'acc')\n",
    "plt.legend()\n",
    "plt.title('Results')"
   ]
  }
 ],
 "metadata": {
  "kernelspec": {
   "display_name": "Python 3",
   "language": "python",
   "name": "python3"
  },
  "language_info": {
   "codemirror_mode": {
    "name": "ipython",
    "version": 3
   },
   "file_extension": ".py",
   "mimetype": "text/x-python",
   "name": "python",
   "nbconvert_exporter": "python",
   "pygments_lexer": "ipython3",
   "version": "3.8.5"
  }
 },
 "nbformat": 4,
 "nbformat_minor": 5
}
