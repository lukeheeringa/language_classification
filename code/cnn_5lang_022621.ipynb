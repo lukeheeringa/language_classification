{
 "cells": [
  {
   "cell_type": "code",
   "execution_count": 1,
   "id": "female-field",
   "metadata": {},
   "outputs": [],
   "source": [
    "import warnings\n",
    "warnings.filterwarnings('ignore')"
   ]
  },
  {
   "cell_type": "code",
   "execution_count": 29,
   "id": "surrounded-steal",
   "metadata": {},
   "outputs": [],
   "source": [
    "import numpy as np\n",
    "import matplotlib.pyplot as plt\n",
    "import pickle\n",
    "\n",
    "from os import listdir\n",
    "from sklearn.model_selection import train_test_split\n",
    "\n",
    "import tensorflow.keras\n",
    "from tensorflow.keras.models import Sequential\n",
    "from tensorflow.keras.layers import Dense, Flatten, MaxPool2D, Conv1D, Conv2D, Dropout, BatchNormalization\n",
    "from tensorflow.keras.callbacks import EarlyStopping\n",
    "from keras.utils import np_utils\n",
    "\n",
    "from sklearn.preprocessing import LabelEncoder\n",
    "from sklearn.metrics import confusion_matrix\n",
    "import seaborn as sns\n",
    "import matplotlib.pyplot as plt"
   ]
  },
  {
   "cell_type": "code",
   "execution_count": 3,
   "id": "inside-canada",
   "metadata": {},
   "outputs": [],
   "source": [
    "mfcc_files = ['../data/mfcc/' + f for f in listdir('../data/mfcc/') if 'mfcc.pkl' in f]\n",
    "target_files = ['../data/target/' + f for f in listdir('../data/target/') if 'target.pkl' in f]\n",
    "\n",
    "mfcc_files.sort()\n",
    "target_files.sort()"
   ]
  },
  {
   "cell_type": "code",
   "execution_count": 4,
   "id": "least-engagement",
   "metadata": {},
   "outputs": [],
   "source": [
    "def reload(path):\n",
    "    with open(path, 'rb') as f:\n",
    "        return pickle.load(f)"
   ]
  },
  {
   "cell_type": "code",
   "execution_count": 5,
   "id": "common-creature",
   "metadata": {},
   "outputs": [],
   "source": [
    "mfcc_reloaded = [reload(f) for f in mfcc_files]\n",
    "target_reloaded = [reload(f) for f in target_files]"
   ]
  },
  {
   "cell_type": "code",
   "execution_count": 6,
   "id": "negative-fifty",
   "metadata": {},
   "outputs": [
    {
     "data": {
      "text/plain": [
       "['../data/mfcc/en_12130n_20mfcc.pkl',\n",
       " '../data/mfcc/es_11763n_20mfcc.pkl',\n",
       " '../data/mfcc/fr_10894n_20mfcc.pkl',\n",
       " '../data/mfcc/ru_11848n_20mfcc.pkl',\n",
       " '../data/mfcc/zh_11067n_20mfcc.pkl']"
      ]
     },
     "execution_count": 6,
     "metadata": {},
     "output_type": "execute_result"
    }
   ],
   "source": [
    "mfcc_files"
   ]
  },
  {
   "cell_type": "code",
   "execution_count": 7,
   "id": "german-apple",
   "metadata": {},
   "outputs": [
    {
     "data": {
      "text/plain": [
       "['../data/target/en_12130n_target.pkl',\n",
       " '../data/target/es_11763n_target.pkl',\n",
       " '../data/target/fr_10894n_target.pkl',\n",
       " '../data/target/ru_11848n_target.pkl',\n",
       " '../data/target/zh_11067n_target.pkl']"
      ]
     },
     "execution_count": 7,
     "metadata": {},
     "output_type": "execute_result"
    }
   ],
   "source": [
    "target_files"
   ]
  },
  {
   "cell_type": "code",
   "execution_count": 8,
   "id": "scientific-reserve",
   "metadata": {},
   "outputs": [],
   "source": [
    "X = np.concatenate(mfcc_reloaded)"
   ]
  },
  {
   "cell_type": "code",
   "execution_count": 9,
   "id": "positive-journal",
   "metadata": {},
   "outputs": [],
   "source": [
    "y = np.concatenate(target_reloaded)"
   ]
  },
  {
   "cell_type": "code",
   "execution_count": 10,
   "id": "treated-calendar",
   "metadata": {},
   "outputs": [],
   "source": [
    "# https://machinelearningmastery.com/multi-class-classification-tutorial-keras-deep-learning-library/\n",
    "# encode class values as integers\n",
    "encoder = LabelEncoder()\n",
    "encoder.fit(y)\n",
    "encoded_y = encoder.transform(y)\n",
    "# convert integers to dummy variables (i.e. one hot encoded)\n",
    "dummy_y = np_utils.to_categorical(encoded_y)"
   ]
  },
  {
   "cell_type": "code",
   "execution_count": 11,
   "id": "restricted-tennis",
   "metadata": {},
   "outputs": [],
   "source": [
    "X = X.reshape(X.shape[0], X.shape[1], X.shape[2], 1)"
   ]
  },
  {
   "cell_type": "code",
   "execution_count": 12,
   "id": "applied-tomorrow",
   "metadata": {},
   "outputs": [],
   "source": [
    "X_train, X_test, y_train, y_test = train_test_split(X, dummy_y)"
   ]
  },
  {
   "cell_type": "code",
   "execution_count": 38,
   "id": "cultural-arabic",
   "metadata": {},
   "outputs": [],
   "source": [
    "model = Sequential()\n",
    "model.add(BatchNormalization())\n",
    "model.add(Conv2D(filters = 10, kernel_size = 3, activation = 'relu', input_shape = (20, 157, 1)))\n",
    "model.add(Conv2D(filters = 10, kernel_size = 10, activation = 'relu', input_shape = (20, 157, 1)))\n",
    "# model.add(Conv1D(filters = 10, kernel_size = 3, activation = 'relu', input_shape = (20, 157, 1)))\n",
    "model.add(Flatten())\n",
    "model.add(Dropout(.2))\n",
    "model.add(Dense(64, activation = 'relu'))\n",
    "model.add(Dropout(.2))\n",
    "model.add(Dense(64, activation = 'relu'))\n",
    "model.add(Dropout(.2))\n",
    "model.add(Dense(64, activation = 'relu'))\n",
    "model.add(Dense(5, activation = 'softmax'))\n",
    "model.compile(optimizer = 'adam', loss = 'categorical_crossentropy', metrics = ['acc'])"
   ]
  },
  {
   "cell_type": "code",
   "execution_count": 39,
   "id": "essential-democracy",
   "metadata": {},
   "outputs": [],
   "source": [
    "earlystop = EarlyStopping(patience=3)"
   ]
  },
  {
   "cell_type": "code",
   "execution_count": 40,
   "id": "computational-atlas",
   "metadata": {},
   "outputs": [
    {
     "name": "stdout",
     "output_type": "stream",
     "text": [
      "Epoch 1/25\n",
      "1353/1353 [==============================] - 144s 106ms/step - loss: 1.2295 - acc: 0.4933 - val_loss: 0.7641 - val_acc: 0.7133\n",
      "Epoch 2/25\n",
      "1353/1353 [==============================] - 143s 106ms/step - loss: 0.7956 - acc: 0.7033 - val_loss: 0.6849 - val_acc: 0.7488\n",
      "Epoch 3/25\n",
      "1353/1353 [==============================] - 145s 107ms/step - loss: 0.6573 - acc: 0.7568 - val_loss: 0.6243 - val_acc: 0.7715\n",
      "Epoch 4/25\n",
      "1353/1353 [==============================] - 143s 106ms/step - loss: 0.5778 - acc: 0.7874 - val_loss: 0.5690 - val_acc: 0.7921\n",
      "Epoch 5/25\n",
      "1353/1353 [==============================] - 144s 107ms/step - loss: 0.5167 - acc: 0.8109 - val_loss: 0.5425 - val_acc: 0.8004\n",
      "Epoch 6/25\n",
      "1353/1353 [==============================] - 143s 105ms/step - loss: 0.4715 - acc: 0.8276 - val_loss: 0.5570 - val_acc: 0.8042\n",
      "Epoch 7/25\n",
      "1353/1353 [==============================] - 141s 104ms/step - loss: 0.4231 - acc: 0.8419 - val_loss: 0.5363 - val_acc: 0.8045\n",
      "Epoch 8/25\n",
      "1353/1353 [==============================] - 135s 100ms/step - loss: 0.3939 - acc: 0.8545 - val_loss: 0.5472 - val_acc: 0.8061\n",
      "Epoch 9/25\n",
      "1353/1353 [==============================] - 137s 101ms/step - loss: 0.3617 - acc: 0.8675 - val_loss: 0.6036 - val_acc: 0.7941\n",
      "Epoch 10/25\n",
      "1353/1353 [==============================] - 138s 102ms/step - loss: 0.3309 - acc: 0.8787 - val_loss: 0.5569 - val_acc: 0.8045\n"
     ]
    }
   ],
   "source": [
    "history = model.fit(\n",
    "    x=X_train,\n",
    "    y=y_train,\n",
    "    validation_data=(X_test, y_test),\n",
    "    callbacks=[earlystop],\n",
    "    epochs=25\n",
    ")"
   ]
  },
  {
   "cell_type": "code",
   "execution_count": 41,
   "id": "hispanic-breast",
   "metadata": {},
   "outputs": [
    {
     "data": {
      "image/png": "[encoded data removed]",
      "text/plain": [
       "<Figure size 432x288 with 1 Axes>"
      ]
     },
     "metadata": {
      "needs_background": "light"
     },
     "output_type": "display_data"
    }
   ],
   "source": [
    "# plot\n",
    "plt.plot(history.history['val_acc'], label = 'val acc')\n",
    "plt.plot(history.history['acc'], label = 'acc')\n",
    "plt.legend()\n",
    "plt.title('Results');"
   ]
  },
  {
   "cell_type": "code",
   "execution_count": 47,
   "id": "ambient-minute",
   "metadata": {},
   "outputs": [],
   "source": [
    "model.save('../models/cnn5l20mfcc_02262021.h5', save_format='h5')"
   ]
  },
  {
   "cell_type": "code",
   "execution_count": 17,
   "id": "together-wrist",
   "metadata": {},
   "outputs": [],
   "source": [
    "# reloaded_model = tensorflow.keras.models.load_model('../models/cnn02252021.h5')"
   ]
  },
  {
   "cell_type": "code",
   "execution_count": 42,
   "id": "pharmaceutical-money",
   "metadata": {},
   "outputs": [],
   "source": [
    "y_out = np.apply_along_axis(np.argmax, axis=1, arr=y_test)"
   ]
  },
  {
   "cell_type": "code",
   "execution_count": 43,
   "id": "documented-wilderness",
   "metadata": {},
   "outputs": [],
   "source": [
    "cm = confusion_matrix(y_out, model.predict_classes(X_test))"
   ]
  },
  {
   "cell_type": "code",
   "execution_count": 44,
   "id": "bizarre-broadcasting",
   "metadata": {},
   "outputs": [
    {
     "data": {
      "text/plain": [
       "array([[2484,  104,  158,  209,   88],\n",
       "       [ 173, 2199,  135,  352,   46],\n",
       "       [  87,   52, 2216,  247,   68],\n",
       "       [ 214,  221,  261, 2241,   67],\n",
       "       [ 198,   20,   50,   70, 2466]])"
      ]
     },
     "execution_count": 44,
     "metadata": {},
     "output_type": "execute_result"
    }
   ],
   "source": [
    "cm"
   ]
  },
  {
   "cell_type": "code",
   "execution_count": 45,
   "id": "expressed-ratio",
   "metadata": {},
   "outputs": [],
   "source": [
    "x = np.true_divide(cm, cm.sum(axis=0, keepdims=True))"
   ]
  },
  {
   "cell_type": "code",
   "execution_count": 46,
   "id": "naughty-honduras",
   "metadata": {},
   "outputs": [
    {
     "data": {
      "text/plain": [
       "Text(69.0, 0.5, 'Predicted')"
      ]
     },
     "execution_count": 46,
     "metadata": {},
     "output_type": "execute_result"
    },
    {
     "data": {
      "image/png": "[encoded data removed]",
      "text/plain": [
       "<Figure size 720x576 with 2 Axes>"
      ]
     },
     "metadata": {
      "needs_background": "light"
     },
     "output_type": "display_data"
    }
   ],
   "source": [
    "plt.figure(figsize=(10, 8))\n",
    "sns.heatmap(x, annot=True, vmin=0, vmax=1, fmt='g', xticklabels=['en', 'es', 'fr', 'ru', 'zh'], yticklabels=['en', 'es', 'fr', 'ru', 'zh'])\n",
    "plt.xlabel(\"Actual\")\n",
    "plt.ylabel(\"Predicted\")"
   ]
  }
 ],
 "metadata": {
  "kernelspec": {
   "display_name": "Python 3",
   "language": "python",
   "name": "python3"
  },
  "language_info": {
   "codemirror_mode": {
    "name": "ipython",
    "version": 3
   },
   "file_extension": ".py",
   "mimetype": "text/x-python",
   "name": "python",
   "nbconvert_exporter": "python",
   "pygments_lexer": "ipython3",
   "version": "3.8.5"
  }
 },
 "nbformat": 4,
 "nbformat_minor": 5
}
