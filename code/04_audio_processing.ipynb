{
 "cells": [
  {
   "cell_type": "markdown",
   "id": "digital-emission",
   "metadata": {},
   "source": [
    "#### Data Processing: Part 1"
   ]
  },
  {
   "cell_type": "markdown",
   "id": "challenging-boston",
   "metadata": {},
   "source": [
    "This notebook contains the functions used to transform the audio files for the first four sources into timeseries and save for further processing. "
   ]
  },
  {
   "cell_type": "code",
   "execution_count": null,
   "id": "mounted-poker",
   "metadata": {},
   "outputs": [],
   "source": [
    "# ignoring of warnings to surpress librosa's notification about using audioreader\n",
    "import warnings\n",
    "warnings.filterwarnings('ignore')"
   ]
  },
  {
   "cell_type": "code",
   "execution_count": null,
   "id": "thermal-saying",
   "metadata": {},
   "outputs": [],
   "source": [
    "import librosa\n",
    "import numpy as np\n",
    "import pickle\n",
    "\n",
    "from os import listdir"
   ]
  },
  {
   "cell_type": "code",
   "execution_count": null,
   "id": "mexican-spokesman",
   "metadata": {},
   "outputs": [],
   "source": [
    "def audio_file_listing(source, lang_abbr):\n",
    "    \"\"\"\n",
    "    Lists the path names for all the audio files for a given source and language.\n",
    "    \n",
    "    Parameters:\n",
    "        source (str) : the folder name where a source's audio is saved\n",
    "        lang_abbr (str) : the two letter abbreviation of the language to list audio samples of\n",
    "    \n",
    "    Returns:\n",
    "        file_listing (numpy array) : the path names for all the source's audio files of the specified language\n",
    "    \"\"\"\n",
    "    base_path = '../audio/' + source + '/' + lang_abbr + '/'\n",
    "    return np.array(\n",
    "        [f'{i:03}' + '___' + base_path + f for i, f in list(enumerate(listdir(base_path))) if (\n",
    "            ('.mp3' in f) or ('.wav' in f))])"
   ]
  },
  {
   "cell_type": "code",
   "execution_count": null,
   "id": "final-closure",
   "metadata": {},
   "outputs": [],
   "source": [
    "def split_and_save(fname):\n",
    "    \"\"\"\n",
    "    Saves a given audio sample into timeseries format by either segmenting it into 5 sec pieces or padding it to reach 5 sec\n",
    "    \n",
    "    Parameters:\n",
    "        fname (str) : the file path of the audio file to save\n",
    "    \n",
    "    Returns:\n",
    "        None\n",
    "    \"\"\"\n",
    "    # input is a string of format 'n___f' where n is the sample number and f is the file path\n",
    "    n = fname.split('___')[0]\n",
    "    n = np.int(n)\n",
    "    path = '___'.join(fname.split('___')[1:])\n",
    "    \n",
    "    try:\n",
    "        # load the full sample\n",
    "        full, sr = librosa.load(path, sr=16000)\n",
    "        \n",
    "        # trim silence\n",
    "        trim, start = librosa.effects.trim(full, sr)\n",
    "        \n",
    "        # everytongue samples need to have music intros/outros removed\n",
    "        if path.split('/')[2] == '2_everytongue':\n",
    "            trim = trim[5 * sr : -5 * sr]\n",
    "            \n",
    "        # calculate duration in seconds\n",
    "        dur = len(trim) / sr\n",
    "        \n",
    "    except:\n",
    "        return\n",
    "    \n",
    "    # splitting path from format '../audio/n_source/lang/sample.mp3'\n",
    "    split = path.split('/')\n",
    "    source = split[2].split('_')[0]\n",
    "    lang = split[3]\n",
    "    \n",
    "    # set index\n",
    "    i = 0\n",
    "    \n",
    "    if dur < 5:\n",
    "        try:\n",
    "            pad = ((5 * 16000) - len(trim)) / 2\n",
    "            sample = np.pad(trim, [int(np.floor(pad)), int(np.ceil(pad))])\n",
    "            save_name = f'../data/timeseries/{lang}/{lang}{source}{n:03}{i:03}.pkl'\n",
    "            with open(save_name, 'wb') as f:\n",
    "                pickle.dump(sample, f)\n",
    "        except:\n",
    "            pass\n",
    "    else:\n",
    "        # cut sample into 5 second clips and save\n",
    "        for x in range(0, np.floor(dur / 5).astype('int') * 5, 5):\n",
    "            try:\n",
    "                sample = trim[x * sr : (x + 5) * sr]\n",
    "                save_name = f'../data/timeseries/{lang}/{lang}{source}{n:03}{i:03}.pkl'\n",
    "                with open(save_name, 'wb') as f:\n",
    "                    pickle.dump(sample, f)\n",
    "            except:\n",
    "                pass\n",
    "            i += 1"
   ]
  },
  {
   "cell_type": "code",
   "execution_count": null,
   "id": "marine-mixer",
   "metadata": {},
   "outputs": [],
   "source": [
    "v_split_and_save = np.vectorize(split_and_save)"
   ]
  },
  {
   "cell_type": "code",
   "execution_count": null,
   "id": "short-consultation",
   "metadata": {},
   "outputs": [],
   "source": [
    "en1 = audio_file_listing('1_audiolingua', 'en')\n",
    "zh1 = audio_file_listing('1_audiolingua', 'zh')"
   ]
  },
  {
   "cell_type": "code",
   "execution_count": null,
   "id": "legitimate-joseph",
   "metadata": {},
   "outputs": [],
   "source": [
    "v_split_and_save(en1)\n",
    "v_split_and_save(zh1)"
   ]
  },
  {
   "cell_type": "code",
   "execution_count": null,
   "id": "regulation-trailer",
   "metadata": {},
   "outputs": [],
   "source": [
    "en3 = audio_file_listing('3_omniglot', 'en')\n",
    "fr3 = audio_file_listing('3_omniglot', 'fr')\n",
    "ru3 = audio_file_listing('3_omniglot', 'ru')\n",
    "es3 = audio_file_listing('3_omniglot', 'es')\n",
    "zh3 = audio_file_listing('3_omniglot', 'zh')"
   ]
  },
  {
   "cell_type": "code",
   "execution_count": null,
   "id": "close-hotel",
   "metadata": {},
   "outputs": [],
   "source": [
    "v_split_and_save(en3)\n",
    "v_split_and_save(fr3)\n",
    "v_split_and_save(ru3)\n",
    "v_split_and_save(es3)\n",
    "v_split_and_save(zh3)"
   ]
  },
  {
   "cell_type": "code",
   "execution_count": null,
   "id": "sublime-glass",
   "metadata": {},
   "outputs": [],
   "source": [
    "en4 = audio_file_listing('4_voxforge', 'en')\n",
    "fr4 = audio_file_listing('4_voxforge', 'fr')\n",
    "ru4 = audio_file_listing('4_voxforge', 'ru')\n",
    "es4 = audio_file_listing('4_voxforge', 'es')"
   ]
  },
  {
   "cell_type": "code",
   "execution_count": null,
   "id": "valid-jersey",
   "metadata": {},
   "outputs": [],
   "source": [
    "v_split_and_save(en4)\n",
    "v_split_and_save(fr4)\n",
    "v_split_and_save(ru4)\n",
    "v_split_and_save(es4)"
   ]
  },
  {
   "cell_type": "code",
   "execution_count": null,
   "id": "dressed-replication",
   "metadata": {},
   "outputs": [],
   "source": [
    "zh2 = audio_file_listing('2_everytongue', 'zh')\n",
    "es2 = audio_file_listing('2_everytongue', 'es')\n",
    "fr2 = audio_file_listing('2_everytongue', 'fr')\n",
    "ru2 = audio_file_listing('2_everytongue', 'ru')"
   ]
  },
  {
   "cell_type": "code",
   "execution_count": null,
   "id": "sexual-setting",
   "metadata": {},
   "outputs": [],
   "source": [
    "v_split_and_save(zh2)\n",
    "v_split_and_save(es2)\n",
    "v_split_and_save(fr2)\n",
    "v_split_and_save(ru2)"
   ]
  }
 ],
 "metadata": {
  "kernelspec": {
   "display_name": "Python 3",
   "language": "python",
   "name": "python3"
  },
  "language_info": {
   "codemirror_mode": {
    "name": "ipython",
    "version": 3
   },
   "file_extension": ".py",
   "mimetype": "text/x-python",
   "name": "python",
   "nbconvert_exporter": "python",
   "pygments_lexer": "ipython3",
   "version": "3.8.5"
  }
 },
 "nbformat": 4,
 "nbformat_minor": 5
}
