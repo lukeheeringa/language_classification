{
 "cells": [
  {
   "cell_type": "code",
   "execution_count": 1,
   "id": "sporting-bruce",
   "metadata": {},
   "outputs": [],
   "source": [
    "import numpy as np\n",
    "import os"
   ]
  },
  {
   "cell_type": "markdown",
   "id": "configured-passport",
   "metadata": {},
   "source": [
    "### Mandarin"
   ]
  },
  {
   "cell_type": "code",
   "execution_count": 21,
   "id": "reliable-vacation",
   "metadata": {},
   "outputs": [],
   "source": [
    "folders = [f for f in os.listdir('../downloads/Mandarin/') if f[0] != '.']\n",
    "\n",
    "for i, folder in enumerate(folders):\n",
    "    mp3s = [f for f in os.listdir('../downloads/Mandarin/' + folder + '/') if '.mp3' in f]\n",
    "    for j, file in enumerate(mp3s):\n",
    "        os.renames('../downloads/Mandarin/' + folder + '/' + file, f'../audio/2_everytongue/zh/zh{i:03}-{j:03}.mp3')"
   ]
  },
  {
   "cell_type": "markdown",
   "id": "scientific-portland",
   "metadata": {},
   "source": [
    "### Spanish"
   ]
  },
  {
   "cell_type": "code",
   "execution_count": 30,
   "id": "fantastic-jungle",
   "metadata": {},
   "outputs": [],
   "source": [
    "top_folders = [f for f in os.listdir('../downloads/') if f[0] != '.']\n",
    "sub_folders = ['../downloads/' + f + '/' + os.listdir('../downloads/' + f)[0] + '/' for f in top_folders]\n",
    "\n",
    "for i, folder in enumerate(sub_folders):\n",
    "    mp3s = [folder + f for f in os.listdir(folder) if ('.mp3' in f and not 'Music' in f and not 'Introduction' in f)]\n",
    "    for j, file in enumerate(mp3s):\n",
    "        os.renames(file, f'../audio/2_everytongue/es/es{i:03}-{j:03}.mp3')"
   ]
  },
  {
   "cell_type": "markdown",
   "id": "cleared-retro",
   "metadata": {},
   "source": [
    "### French"
   ]
  },
  {
   "cell_type": "code",
   "execution_count": 4,
   "id": "floral-confidentiality",
   "metadata": {},
   "outputs": [],
   "source": [
    "folders = ['../downloads/French/' + f + '/' for f in os.listdir('../downloads/French/') if f[0] != '.']\n",
    "\n",
    "for i, folder in enumerate(folders):\n",
    "    mp3s = [folder + f for f in os.listdir(folder) if ('.mp3' in f and not 'Music' in f and not 'Introduction' in f)]\n",
    "    for j, file in enumerate(mp3s):\n",
    "        os.renames(file, f'../audio/2_everytongue/fr/fr{i:03}-{j:03}.mp3')"
   ]
  },
  {
   "cell_type": "markdown",
   "id": "indie-mission",
   "metadata": {},
   "source": [
    "### Russian"
   ]
  },
  {
   "cell_type": "code",
   "execution_count": 5,
   "id": "every-queensland",
   "metadata": {},
   "outputs": [],
   "source": [
    "folders = ['../downloads/Russian/' + f + '/' for f in os.listdir('../downloads/Russian/') if f[0] != '.']\n",
    "\n",
    "for i, folder in enumerate(folders):\n",
    "    mp3s = [folder + f for f in os.listdir(folder) if ('.mp3' in f and 'Picture' in f)]\n",
    "    for j, file in enumerate(mp3s):\n",
    "        os.renames(file, f'../audio/2_everytongue/ru/ru{i:03}-{j:03}.mp3')"
   ]
  }
 ],
 "metadata": {
  "kernelspec": {
   "display_name": "Python 3",
   "language": "python",
   "name": "python3"
  },
  "language_info": {
   "codemirror_mode": {
    "name": "ipython",
    "version": 3
   },
   "file_extension": ".py",
   "mimetype": "text/x-python",
   "name": "python",
   "nbconvert_exporter": "python",
   "pygments_lexer": "ipython3",
   "version": "3.8.5"
  }
 },
 "nbformat": 4,
 "nbformat_minor": 5
}
