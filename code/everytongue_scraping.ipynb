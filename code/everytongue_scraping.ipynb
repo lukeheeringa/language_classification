{
 "cells": [
  {
   "cell_type": "code",
   "execution_count": 2,
   "id": "animated-spread",
   "metadata": {},
   "outputs": [],
   "source": [
    "import numpy as np\n",
    "import os"
   ]
  },
  {
   "cell_type": "code",
   "execution_count": 21,
   "id": "united-completion",
   "metadata": {},
   "outputs": [],
   "source": [
    "folders = [f for f in os.listdir('../downloads/Mandarin/') if f[0] != '.']\n",
    "\n",
    "for i, folder in enumerate(folders):\n",
    "    mp3s = [f for f in os.listdir('../downloads/Mandarin/' + folder + '/') if '.mp3' in f]\n",
    "    for j, file in enumerate(mp3s):\n",
    "        os.renames('../downloads/Mandarin/' + folder + '/' + file, f'../audio/2_everytongue/zh/zh{i:03}-{j:03}.mp3')"
   ]
  },
  {
   "cell_type": "code",
   "execution_count": 25,
   "id": "behind-venezuela",
   "metadata": {},
   "outputs": [],
   "source": [
    "mp3s = ['../audio/2_everytongue/zh/' + f for f in os.listdir('../audio/2_everytongue/zh/') if 'zh' in f]"
   ]
  }
 ],
 "metadata": {
  "kernelspec": {
   "display_name": "Python 3",
   "language": "python",
   "name": "python3"
  },
  "language_info": {
   "codemirror_mode": {
    "name": "ipython",
    "version": 3
   },
   "file_extension": ".py",
   "mimetype": "text/x-python",
   "name": "python",
   "nbconvert_exporter": "python",
   "pygments_lexer": "ipython3",
   "version": "3.8.5"
  }
 },
 "nbformat": 4,
 "nbformat_minor": 5
}
