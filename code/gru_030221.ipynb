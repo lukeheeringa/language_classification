{
 "cells": [
  {
   "cell_type": "code",
   "execution_count": 1,
   "id": "empty-estonia",
   "metadata": {},
   "outputs": [],
   "source": [
    "import warnings\n",
    "warnings.filterwarnings('ignore')"
   ]
  },
  {
   "cell_type": "code",
   "execution_count": 2,
   "id": "careful-separation",
   "metadata": {},
   "outputs": [],
   "source": [
    "import numpy as np\n",
    "import pickle\n",
    "import matplotlib.pyplot as plt\n",
    "import seaborn as sns\n",
    "import tensorflow.keras\n",
    "\n",
    "from os import listdir\n",
    "from sklearn.model_selection import train_test_split\n",
    "from sklearn.preprocessing import LabelEncoder\n",
    "from sklearn.metrics import confusion_matrix\n",
    "\n",
    "from tensorflow.keras.models import Sequential\n",
    "from tensorflow.keras.layers import Dense, Flatten, GRU, Dropout, BatchNormalization, SimpleRNN, Bidirectional\n",
    "#from keras.layers import , LSTM, MaxPooling1D, MaxPool2D, Conv1D, Conv2D, \n",
    "from tensorflow.keras.callbacks import EarlyStopping\n",
    "from keras.utils import np_utils"
   ]
  },
  {
   "cell_type": "code",
   "execution_count": 3,
   "id": "engaged-sharing",
   "metadata": {},
   "outputs": [],
   "source": [
    "trainpath = '../data/training/'\n",
    "valpath = '../data/validation/'\n",
    "\n",
    "mfcc_files = [trainpath + f for f in listdir(trainpath) if 'mfcc.pkl' in f]\n",
    "target_files = [trainpath + f for f in listdir(trainpath) if 'target.pkl' in f]\n",
    "\n",
    "mfcc_val = [valpath + f for f in listdir(valpath) if 'mfcc.pkl' in f]\n",
    "target_val = [valpath + f for f in listdir(valpath) if 'target.pkl' in f]\n",
    "\n",
    "mfcc_files.sort()\n",
    "target_files.sort()\n",
    "mfcc_val.sort()\n",
    "target_val.sort()"
   ]
  },
  {
   "cell_type": "code",
   "execution_count": 4,
   "id": "compound-needle",
   "metadata": {},
   "outputs": [],
   "source": [
    "def reload(path):\n",
    "    with open(path, 'rb') as f:\n",
    "        return pickle.load(f)"
   ]
  },
  {
   "cell_type": "code",
   "execution_count": 5,
   "id": "seasonal-turner",
   "metadata": {},
   "outputs": [],
   "source": [
    "train_mfcc_reloaded = [reload(f) for f in mfcc_files]\n",
    "train_target_reloaded = [reload(f) for f in target_files]\n",
    "\n",
    "val_mfcc_reloaded = [reload(f) for f in mfcc_val]\n",
    "val_target_reloaded = [reload(f) for f in target_val]"
   ]
  },
  {
   "cell_type": "code",
   "execution_count": 6,
   "id": "identified-french",
   "metadata": {},
   "outputs": [],
   "source": [
    "X_train = np.concatenate(train_mfcc_reloaded)\n",
    "y_train = np.concatenate(train_target_reloaded)\n",
    "X_val = np.concatenate(val_mfcc_reloaded)\n",
    "y_val = np.concatenate(val_target_reloaded)"
   ]
  },
  {
   "cell_type": "code",
   "execution_count": 7,
   "id": "decreased-outdoors",
   "metadata": {},
   "outputs": [],
   "source": [
    "# https://machinelearningmastery.com/multi-class-classification-tutorial-keras-deep-learning-library/\n",
    "# encode class values as integers\n",
    "encoder = LabelEncoder()\n",
    "encoder.fit(y_train)\n",
    "encoded_y_train = encoder.transform(y_train)\n",
    "enocded_y_val = encoder.transform(y_val)\n",
    "\n",
    "# convert integers to dummy variables (i.e. one hot encoded)\n",
    "dummy_y_train = np_utils.to_categorical(encoded_y_train)\n",
    "dummy_y_val = np_utils.to_categorical(enocded_y_val)"
   ]
  },
  {
   "cell_type": "code",
   "execution_count": 8,
   "id": "correct-credits",
   "metadata": {},
   "outputs": [],
   "source": [
    "X_val = X_val.reshape(X_val.shape[0] // 157 // 10, 10, 157)"
   ]
  },
  {
   "cell_type": "code",
   "execution_count": 20,
   "id": "female-insertion",
   "metadata": {},
   "outputs": [],
   "source": [
    "X_vtrain, X_vtest, y_vtrain, y_vtest = train_test_split(X_val, dummy_y_val, random_state=552)"
   ]
  },
  {
   "cell_type": "code",
   "execution_count": 21,
   "id": "periodic-province",
   "metadata": {},
   "outputs": [],
   "source": [
    "X = np.concatenate([X_train, X_vtrain])\n",
    "y = np.concatenate([dummy_y_train, y_vtrain])"
   ]
  },
  {
   "cell_type": "code",
   "execution_count": 22,
   "id": "moving-antique",
   "metadata": {},
   "outputs": [
    {
     "data": {
      "text/plain": [
       "(84506, 10, 157)"
      ]
     },
     "execution_count": 22,
     "metadata": {},
     "output_type": "execute_result"
    }
   ],
   "source": [
    "X.shape"
   ]
  },
  {
   "cell_type": "code",
   "execution_count": 23,
   "id": "detected-tactics",
   "metadata": {},
   "outputs": [
    {
     "data": {
      "text/plain": [
       "(84506, 5)"
      ]
     },
     "execution_count": 23,
     "metadata": {},
     "output_type": "execute_result"
    }
   ],
   "source": [
    "y.shape"
   ]
  },
  {
   "cell_type": "code",
   "execution_count": 24,
   "id": "expected-bulgarian",
   "metadata": {},
   "outputs": [],
   "source": [
    "from tensorflow.keras.optimizers import Adam"
   ]
  },
  {
   "cell_type": "code",
   "execution_count": 25,
   "id": "verified-making",
   "metadata": {},
   "outputs": [],
   "source": [
    "model = Sequential()\n",
    "model.add(BatchNormalization())\n",
    "model.add(GRU(64, return_sequences=True))\n",
    "model.add(Dropout(.2))\n",
    "model.add(Bidirectional(GRU(64, return_sequences=True)))\n",
    "model.add(Dropout(.2))\n",
    "model.add(GRU(64))\n",
    "# model.add(GRU(64, return_sequences=True))\n",
    "# model.add(GRU(64))\n",
    "# model.add(GRU(64, return_sequences = True))\n",
    "# model.add(GRU(64, return_sequences = True))\n",
    "# model.add(GRU(64))\n",
    "# model.add(Flatten())\n",
    "# model.add(Dropout(.2))\n",
    "# model.add(Dense(128, activation = 'relu'))\n",
    "# model.add(Dropout(.2))\n",
    "# model.add(Dense(64, activation = 'relu'))\n",
    "# model.add(Dropout(.2))\n",
    "# model.add(Dense(32, activation = 'relu'))\n",
    "# model.add(Dropout(.2))\n",
    "model.add(Dense(5, activation = 'softmax'))\n",
    "model.compile(optimizer = Adam(), loss = 'categorical_crossentropy', metrics = ['acc'])"
   ]
  },
  {
   "cell_type": "code",
   "execution_count": 26,
   "id": "expressed-weather",
   "metadata": {},
   "outputs": [],
   "source": [
    "earlystop = EarlyStopping(patience=5)"
   ]
  },
  {
   "cell_type": "code",
   "execution_count": 27,
   "id": "ongoing-portfolio",
   "metadata": {},
   "outputs": [
    {
     "name": "stdout",
     "output_type": "stream",
     "text": [
      "Epoch 1/50\n",
      "2641/2641 [==============================] - 46s 16ms/step - loss: 1.4551 - acc: 0.3601 - val_loss: 1.4651 - val_acc: 0.4120\n",
      "Epoch 2/50\n",
      "2641/2641 [==============================] - 41s 15ms/step - loss: 1.1077 - acc: 0.5580 - val_loss: 1.3557 - val_acc: 0.4564\n",
      "Epoch 3/50\n",
      "2641/2641 [==============================] - 41s 16ms/step - loss: 0.9971 - acc: 0.6082 - val_loss: 1.2912 - val_acc: 0.4870\n",
      "Epoch 4/50\n",
      "2641/2641 [==============================] - 40s 15ms/step - loss: 0.9169 - acc: 0.6487 - val_loss: 1.2595 - val_acc: 0.5103\n",
      "Epoch 5/50\n",
      "2641/2641 [==============================] - 39s 15ms/step - loss: 0.8684 - acc: 0.6671 - val_loss: 1.2605 - val_acc: 0.5075\n",
      "Epoch 6/50\n",
      "2641/2641 [==============================] - 39s 15ms/step - loss: 0.8337 - acc: 0.6816 - val_loss: 1.2007 - val_acc: 0.5385\n",
      "Epoch 7/50\n",
      "2641/2641 [==============================] - 39s 15ms/step - loss: 0.8007 - acc: 0.6954 - val_loss: 1.1827 - val_acc: 0.5394\n",
      "Epoch 8/50\n",
      "2641/2641 [==============================] - 39s 15ms/step - loss: 0.7760 - acc: 0.7067 - val_loss: 1.1855 - val_acc: 0.5421\n",
      "Epoch 9/50\n",
      "2641/2641 [==============================] - 39s 15ms/step - loss: 0.7447 - acc: 0.7186 - val_loss: 1.1840 - val_acc: 0.5420\n",
      "Epoch 10/50\n",
      "2641/2641 [==============================] - 39s 15ms/step - loss: 0.7283 - acc: 0.7238 - val_loss: 1.1468 - val_acc: 0.5594\n",
      "Epoch 11/50\n",
      "2641/2641 [==============================] - 40s 15ms/step - loss: 0.7174 - acc: 0.7302 - val_loss: 1.1712 - val_acc: 0.5540\n",
      "Epoch 12/50\n",
      "2641/2641 [==============================] - 39s 15ms/step - loss: 0.7056 - acc: 0.7332 - val_loss: 1.1522 - val_acc: 0.5631\n",
      "Epoch 13/50\n",
      "2641/2641 [==============================] - 40s 15ms/step - loss: 0.6812 - acc: 0.7431 - val_loss: 1.1565 - val_acc: 0.5580\n",
      "Epoch 14/50\n",
      "2641/2641 [==============================] - 39s 15ms/step - loss: 0.6719 - acc: 0.7487 - val_loss: 1.1349 - val_acc: 0.5683\n",
      "Epoch 15/50\n",
      "2641/2641 [==============================] - 39s 15ms/step - loss: 0.6628 - acc: 0.7499 - val_loss: 1.1386 - val_acc: 0.5673\n",
      "Epoch 16/50\n",
      "2641/2641 [==============================] - 38s 15ms/step - loss: 0.6600 - acc: 0.7518 - val_loss: 1.1244 - val_acc: 0.5697\n",
      "Epoch 17/50\n",
      "2641/2641 [==============================] - 39s 15ms/step - loss: 0.6505 - acc: 0.7563 - val_loss: 1.1023 - val_acc: 0.5831\n",
      "Epoch 18/50\n",
      "2641/2641 [==============================] - 39s 15ms/step - loss: 0.6431 - acc: 0.7568 - val_loss: 1.1080 - val_acc: 0.5776\n",
      "Epoch 19/50\n",
      "2641/2641 [==============================] - 39s 15ms/step - loss: 0.6325 - acc: 0.7640 - val_loss: 1.1127 - val_acc: 0.5813\n",
      "Epoch 20/50\n",
      "2641/2641 [==============================] - 40s 15ms/step - loss: 0.6325 - acc: 0.7630 - val_loss: 1.1313 - val_acc: 0.5780\n",
      "Epoch 21/50\n",
      "2641/2641 [==============================] - 40s 15ms/step - loss: 0.6240 - acc: 0.7674 - val_loss: 1.1108 - val_acc: 0.5768\n",
      "Epoch 22/50\n",
      "2641/2641 [==============================] - 39s 15ms/step - loss: 0.6139 - acc: 0.7703 - val_loss: 1.1166 - val_acc: 0.5816\n"
     ]
    }
   ],
   "source": [
    "history = model.fit(\n",
    "    x=X,\n",
    "    y=y,\n",
    "    validation_data=(X_vtest, y_vtest),\n",
    "    callbacks=[earlystop],\n",
    "    epochs=50\n",
    ")"
   ]
  },
  {
   "cell_type": "code",
   "execution_count": 28,
   "id": "chronic-reverse",
   "metadata": {},
   "outputs": [
    {
     "data": {
      "image/png": "[encoded data removed]",
      "text/plain": [
       "<Figure size 432x288 with 1 Axes>"
      ]
     },
     "metadata": {
      "needs_background": "light"
     },
     "output_type": "display_data"
    }
   ],
   "source": [
    "# plot\n",
    "plt.plot(history.history['val_acc'], label = 'val acc')\n",
    "plt.plot(history.history['acc'], label = 'acc')\n",
    "plt.legend()\n",
    "plt.title('Results');"
   ]
  },
  {
   "cell_type": "code",
   "execution_count": 35,
   "id": "special-trigger",
   "metadata": {},
   "outputs": [],
   "source": [
    "model.save('../models/gru_random552_030221.h5', save_format='h5')"
   ]
  },
  {
   "cell_type": "code",
   "execution_count": 17,
   "id": "surface-elements",
   "metadata": {},
   "outputs": [],
   "source": [
    "# reloaded_model = tensorflow.keras.models.load_model('../models/cnn02252021.h5')"
   ]
  },
  {
   "cell_type": "code",
   "execution_count": 29,
   "id": "stuffed-portsmouth",
   "metadata": {},
   "outputs": [],
   "source": [
    "y_out = np.apply_along_axis(np.argmax, axis=1, arr=y_vtest)"
   ]
  },
  {
   "cell_type": "code",
   "execution_count": 30,
   "id": "technological-custom",
   "metadata": {},
   "outputs": [],
   "source": [
    "cm = confusion_matrix(y_out, model.predict_classes(X_vtest))"
   ]
  },
  {
   "cell_type": "code",
   "execution_count": 31,
   "id": "catholic-castle",
   "metadata": {},
   "outputs": [
    {
     "data": {
      "text/plain": [
       "array([[ 694,  222,  400,  209,  205],\n",
       "       [ 315,  965,  233,  136,   75],\n",
       "       [ 340,  138,  966,  213,  156],\n",
       "       [  99,   70,  103, 1377,   82],\n",
       "       [ 193,  132,  168,  171, 1085]])"
      ]
     },
     "execution_count": 31,
     "metadata": {},
     "output_type": "execute_result"
    }
   ],
   "source": [
    "cm"
   ]
  },
  {
   "cell_type": "code",
   "execution_count": 36,
   "id": "vocational-coral",
   "metadata": {},
   "outputs": [],
   "source": [
    "with open('../models/gru_random552_matrix.pkl', 'wb') as f:\n",
    "    pickle.dump(cm, f)"
   ]
  },
  {
   "cell_type": "code",
   "execution_count": 32,
   "id": "utility-brazilian",
   "metadata": {},
   "outputs": [
    {
     "data": {
      "text/plain": [
       "array([[1730],\n",
       "       [1724],\n",
       "       [1813],\n",
       "       [1731],\n",
       "       [1749]])"
      ]
     },
     "execution_count": 32,
     "metadata": {},
     "output_type": "execute_result"
    }
   ],
   "source": [
    "cm.sum(axis=1, keepdims=True)"
   ]
  },
  {
   "cell_type": "code",
   "execution_count": 33,
   "id": "spiritual-uganda",
   "metadata": {},
   "outputs": [],
   "source": [
    "cm_norm = np.true_divide(cm, cm.sum(axis=1, keepdims=True))"
   ]
  },
  {
   "cell_type": "code",
   "execution_count": 34,
   "id": "polyphonic-logistics",
   "metadata": {},
   "outputs": [
    {
     "data": {
      "image/png": "[encoded data removed]",
      "text/plain": [
       "<Figure size 720x576 with 2 Axes>"
      ]
     },
     "metadata": {
      "needs_background": "light"
     },
     "output_type": "display_data"
    }
   ],
   "source": [
    "plt.figure(figsize=(10, 8))\n",
    "sns.heatmap(cm_norm, annot=True, vmin=0, vmax=1, fmt='g', xticklabels=encoder.classes_, yticklabels=encoder.classes_)\n",
    "plt.xlabel(\"Predicted\")\n",
    "plt.ylabel(\"True\")\n",
    "plt.title(\"Language Classification Confusion Matrix\")\n",
    "plt.show()"
   ]
  }
 ],
 "metadata": {
  "kernelspec": {
   "display_name": "Python 3",
   "language": "python",
   "name": "python3"
  },
  "language_info": {
   "codemirror_mode": {
    "name": "ipython",
    "version": 3
   },
   "file_extension": ".py",
   "mimetype": "text/x-python",
   "name": "python",
   "nbconvert_exporter": "python",
   "pygments_lexer": "ipython3",
   "version": "3.8.5"
  }
 },
 "nbformat": 4,
 "nbformat_minor": 5
}
