{
 "cells": [
  {
   "cell_type": "markdown",
   "id": "blocked-anthony",
   "metadata": {},
   "source": [
    "#### Data Processing: Part 2"
   ]
  },
  {
   "cell_type": "markdown",
   "id": "blank-mixer",
   "metadata": {},
   "source": [
    "This notebook contains the functions used to transform saved timeseries data into full arrays of mfccs (Mel frequency cepstrum coefficients)"
   ]
  },
  {
   "cell_type": "code",
   "execution_count": 1,
   "id": "thick-savings",
   "metadata": {},
   "outputs": [],
   "source": [
    "import librosa\n",
    "import numpy as np\n",
    "import pickle\n",
    "from os import listdir"
   ]
  },
  {
   "cell_type": "code",
   "execution_count": 2,
   "id": "secondary-dublin",
   "metadata": {},
   "outputs": [],
   "source": [
    "def timeseries_file_listing(lang_abbr, folder=None):\n",
    "    \"\"\"\n",
    "    Lists the timeseries files for a given language\n",
    "    \n",
    "    Parameters:\n",
    "        lang_abbr (str) : the two letter abbreviation of the language to list timeseries of\n",
    "        folder (str) : the subfolder in language to list from, if any (default None)\n",
    "        \n",
    "    Returns:\n",
    "        file_listing (numpy array) : an array of file paths to the timeseries data\n",
    "    \"\"\"\n",
    "    \n",
    "    if folder == None:\n",
    "        base_path = '../data/timeseries/' + lang_abbr + '/'\n",
    "    else: \n",
    "        base_path = '../data/timeseries/' + lang_abbr + '/' + folder + '/' \n",
    "    return np.array([base_path + f for f in listdir(base_path) if '.pkl' in f])"
   ]
  },
  {
   "cell_type": "code",
   "execution_count": 3,
   "id": "interested-breathing",
   "metadata": {},
   "outputs": [],
   "source": [
    "def timeseries_to_mfcc(path, array, index, n_mfcc=20):\n",
    "    \"\"\"\n",
    "    Transforms a timeseries into mfcc form and sets it in the specified master array\n",
    "    \n",
    "    Parameters:\n",
    "        path (str) : the file path of the timeseries to transform\n",
    "        array (numpy array) : the master array to add the mfcc\n",
    "        index (int) : the index number of the sample in the master\n",
    "        n_mfcc (int) : the number of Mel frequency cepstrum coefficients to be calculated (default 20)\n",
    "    \n",
    "    Returns:\n",
    "        None\n",
    "    \"\"\"\n",
    "    with open(path, 'rb') as f:\n",
    "        reloaded = pickle.load(f)\n",
    "    array[index] = librosa.effects.feature.mfcc(reloaded, sr=16000, n_mfcc=n_mfcc)"
   ]
  },
  {
   "cell_type": "code",
   "execution_count": 4,
   "id": "legislative-simon",
   "metadata": {},
   "outputs": [],
   "source": [
    "def batch_mfcc_save(abbr, n_mfcc=20, folder=None):\n",
    "    \"\"\"\n",
    "    Transforms and saves all of the timeseries of a given language into a single master array\n",
    "    along with a corresponding array of language target values\n",
    "    \n",
    "    Parameters:\n",
    "        abbr (str) : the two letter abbreviation of the language to save\n",
    "        n_mfcc (int) : the number of Mel frequency cepstrum coefficients to be calculated (default 20)\n",
    "        folder (str) : the subfolder to save to, if any (default None)\n",
    "    \n",
    "    Returns:\n",
    "        mfcc_file_name (str) : the file path of the saved array of mfccs  \n",
    "        target_file_name (str) : the file path of the saved array of language target values\n",
    "    \"\"\"\n",
    "    # timeseries_file_listing creates array of path names\n",
    "    path_arr = timeseries_file_listing(abbr)\n",
    "    \n",
    "    # use length of array (and n_mfcc) to create array of zeros\n",
    "    size = len(path_arr)\n",
    "    mfcc_arr = np.zeros((size, n_mfcc, 157))\n",
    "    n_arr = np.array(range(size))\n",
    "    \n",
    "    # vectorize setting elements with timeseries_to_mfcc function\n",
    "    func = np.vectorize(lambda x: timeseries_to_mfcc(path_arr[x], mfcc_arr, x, n_mfcc=n_mfcc))\n",
    "    func(n_arr)\n",
    "    \n",
    "    # use length of array and lang abbr to create target array\n",
    "    target_arr = np.full(size, abbr)\n",
    "    \n",
    "    # save both using language name and number of elements (+ mfcc or + target)\n",
    "    if folder == None:\n",
    "        mfcc_file_name = '../data/mfcc/' + abbr + '_' + str(size) + 'n_' + str(n_mfcc) + 'mfcc.pkl'\n",
    "    else:\n",
    "        mfcc_file_name = '../data/' + folder + '/' + abbr + '_' + str(size) + 'n_' + str(n_mfcc) + 'mfcc.pkl'\n",
    "    with open(mfcc_file_name, 'wb') as f:\n",
    "        pickle.dump(mfcc_arr, f)\n",
    "    \n",
    "    if folder == None:\n",
    "        target_file_name = '../data/target/' + abbr + '_' + str(size) + 'n_target.pkl'\n",
    "    else:\n",
    "        target_file_name = '../data/' + folder + '/' + abbr + '_' + str(size) + 'n_target.pkl'\n",
    "    with open(target_file_name, 'wb') as g:\n",
    "        pickle.dump(target_arr, g)\n",
    "    \n",
    "    # will be able to load those, concat alphabetically to preserve matches\n",
    "    return mfcc_file_name, target_file_name"
   ]
  },
  {
   "cell_type": "code",
   "execution_count": 5,
   "id": "indie-father",
   "metadata": {},
   "outputs": [],
   "source": [
    "def save_all(abbr_arr, n_mfcc=20, folder=None):\n",
    "    \"\"\"\n",
    "    Runs batch_mfcc_save on all the language abbreviations given\n",
    "    \n",
    "    Parameters:\n",
    "        abbr_arr (numpy array of str) : an array of two letter language abbreviations to transform and save from\n",
    "        n_mfcc (int) : the number of Mel frequency cepstrum coefficients to be calculated (default 20)\n",
    "        folder (str) : the subfolder to save to, if any (default None)\n",
    "    \"\"\"\n",
    "    func = np.vectorize(lambda x: batch_mfcc_save(x, n_mfcc, folder))\n",
    "    func(abbr_arr)"
   ]
  },
  {
   "cell_type": "code",
   "execution_count": 6,
   "id": "rocky-mitchell",
   "metadata": {},
   "outputs": [],
   "source": [
    "save_all(np.array(['en', 'es', 'fr', 'ru', 'zh']), 10, 'training')"
   ]
  }
 ],
 "metadata": {
  "kernelspec": {
   "display_name": "Python 3",
   "language": "python",
   "name": "python3"
  },
  "language_info": {
   "codemirror_mode": {
    "name": "ipython",
    "version": 3
   },
   "file_extension": ".py",
   "mimetype": "text/x-python",
   "name": "python",
   "nbconvert_exporter": "python",
   "pygments_lexer": "ipython3",
   "version": "3.8.5"
  }
 },
 "nbformat": 4,
 "nbformat_minor": 5
}
