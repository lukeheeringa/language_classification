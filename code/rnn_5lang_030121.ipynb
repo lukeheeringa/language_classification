{
 "cells": [
  {
   "cell_type": "code",
   "execution_count": 1,
   "id": "plastic-patent",
   "metadata": {},
   "outputs": [],
   "source": [
    "import warnings\n",
    "warnings.filterwarnings('ignore')"
   ]
  },
  {
   "cell_type": "code",
   "execution_count": 26,
   "id": "sporting-maple",
   "metadata": {},
   "outputs": [],
   "source": [
    "import numpy as np\n",
    "import pickle\n",
    "import matplotlib.pyplot as plt\n",
    "import seaborn as sns\n",
    "import tensorflow.keras\n",
    "\n",
    "from os import listdir\n",
    "from sklearn.model_selection import train_test_split\n",
    "from sklearn.preprocessing import LabelEncoder\n",
    "from sklearn.metrics import confusion_matrix\n",
    "\n",
    "from tensorflow.keras.models import Sequential\n",
    "from tensorflow.keras.layers import Dense, Flatten, GRU, Dropout, BatchNormalization\n",
    "#from keras.layers import SimpleRNN, LSTM, MaxPooling1D, MaxPool2D, Conv1D, Conv2D, Bidirectional\n",
    "from tensorflow.keras.callbacks import EarlyStopping\n",
    "from keras.utils import np_utils"
   ]
  },
  {
   "cell_type": "code",
   "execution_count": 13,
   "id": "postal-opposition",
   "metadata": {},
   "outputs": [],
   "source": [
    "mfcc_files = ['../data/mfcc/5lang_10mfcc_022821/' + f for f in listdir('../data/mfcc/5lang_10mfcc_022821/') if 'mfcc.pkl' in f]\n",
    "target_files = ['../data/target/' + f for f in listdir('../data/target/') if 'target.pkl' in f]\n",
    "\n",
    "mfcc_files.sort()\n",
    "target_files.sort()"
   ]
  },
  {
   "cell_type": "code",
   "execution_count": 14,
   "id": "bibliographic-spouse",
   "metadata": {},
   "outputs": [],
   "source": [
    "mfcc_val = ['../data/mfcc/validation/' + f for f in listdir('../data/mfcc/validation/') if 'mfcc.pkl' in f]\n",
    "target_val = ['../data/target/validation/' + f for f in listdir('../data/target/validation/') if 'target.pkl' in f]    "
   ]
  },
  {
   "cell_type": "code",
   "execution_count": 15,
   "id": "discrete-focus",
   "metadata": {},
   "outputs": [],
   "source": [
    "for f in mfcc_val:\n",
    "    mfcc_files.append(f)\n",
    "    \n",
    "for f in target_val:\n",
    "    target_files.append(f)"
   ]
  },
  {
   "cell_type": "code",
   "execution_count": 16,
   "id": "transsexual-clear",
   "metadata": {
    "collapsed": true,
    "jupyter": {
     "outputs_hidden": true
    }
   },
   "outputs": [
    {
     "data": {
      "text/plain": [
       "['../data/mfcc/5lang_10mfcc_022821/en_12130n_10mfcc.pkl',\n",
       " '../data/mfcc/5lang_10mfcc_022821/es_11763n_10mfcc.pkl',\n",
       " '../data/mfcc/5lang_10mfcc_022821/fr_10894n_10mfcc.pkl',\n",
       " '../data/mfcc/5lang_10mfcc_022821/ru_11848n_10mfcc.pkl',\n",
       " '../data/mfcc/5lang_10mfcc_022821/zh_11067n_10mfcc.pkl',\n",
       " '../data/mfcc/validation/es_122n_10mfcc.pkl',\n",
       " '../data/mfcc/validation/zh_96n_10mfcc.pkl',\n",
       " '../data/mfcc/validation/en_150n_10mfcc.pkl',\n",
       " '../data/mfcc/validation/ru_71n_10mfcc.pkl',\n",
       " '../data/mfcc/validation/fr_127n_10mfcc.pkl']"
      ]
     },
     "execution_count": 16,
     "metadata": {},
     "output_type": "execute_result"
    }
   ],
   "source": [
    "mfcc_files"
   ]
  },
  {
   "cell_type": "code",
   "execution_count": 17,
   "id": "correct-thriller",
   "metadata": {
    "collapsed": true,
    "jupyter": {
     "outputs_hidden": true
    }
   },
   "outputs": [
    {
     "data": {
      "text/plain": [
       "['../data/target/en_12130n_target.pkl',\n",
       " '../data/target/es_11763n_target.pkl',\n",
       " '../data/target/fr_10894n_target.pkl',\n",
       " '../data/target/ru_11848n_target.pkl',\n",
       " '../data/target/zh_11067n_target.pkl',\n",
       " '../data/target/validation/es_122n_target.pkl',\n",
       " '../data/target/validation/zh_96n_target.pkl',\n",
       " '../data/target/validation/en_150n_target.pkl',\n",
       " '../data/target/validation/ru_71n_target.pkl',\n",
       " '../data/target/validation/fr_127n_target.pkl']"
      ]
     },
     "execution_count": 17,
     "metadata": {},
     "output_type": "execute_result"
    }
   ],
   "source": [
    "target_files"
   ]
  },
  {
   "cell_type": "code",
   "execution_count": 18,
   "id": "judicial-vessel",
   "metadata": {},
   "outputs": [],
   "source": [
    "def reload(path):\n",
    "    with open(path, 'rb') as f:\n",
    "        return pickle.load(f)"
   ]
  },
  {
   "cell_type": "code",
   "execution_count": 19,
   "id": "reflected-fashion",
   "metadata": {},
   "outputs": [],
   "source": [
    "mfcc_reloaded = [reload(f) for f in mfcc_files]\n",
    "target_reloaded = [reload(f) for f in target_files]"
   ]
  },
  {
   "cell_type": "code",
   "execution_count": 20,
   "id": "suffering-scientist",
   "metadata": {},
   "outputs": [],
   "source": [
    "X = np.concatenate(mfcc_reloaded)"
   ]
  },
  {
   "cell_type": "code",
   "execution_count": 21,
   "id": "changing-essex",
   "metadata": {},
   "outputs": [],
   "source": [
    "y = np.concatenate(target_reloaded)"
   ]
  },
  {
   "cell_type": "code",
   "execution_count": 22,
   "id": "selected-draft",
   "metadata": {},
   "outputs": [],
   "source": [
    "# https://machinelearningmastery.com/multi-class-classification-tutorial-keras-deep-learning-library/\n",
    "# encode class values as integers\n",
    "encoder = LabelEncoder()\n",
    "encoder.fit(y)\n",
    "encoded_y = encoder.transform(y)\n",
    "# convert integers to dummy variables (i.e. one hot encoded)\n",
    "dummy_y = np_utils.to_categorical(encoded_y)"
   ]
  },
  {
   "cell_type": "code",
   "execution_count": 194,
   "id": "developed-charge",
   "metadata": {},
   "outputs": [],
   "source": [
    "# X = X.reshape(X.shape[0], X.shape[1], X.shape[2], 1)"
   ]
  },
  {
   "cell_type": "code",
   "execution_count": 25,
   "id": "psychological-monday",
   "metadata": {},
   "outputs": [],
   "source": [
    "X_train, X_test, y_train, y_test = train_test_split(X, dummy_y)"
   ]
  },
  {
   "cell_type": "markdown",
   "id": "simplified-musician",
   "metadata": {},
   "source": [
    "Null performance"
   ]
  },
  {
   "cell_type": "code",
   "execution_count": 71,
   "id": "marine-phrase",
   "metadata": {},
   "outputs": [
    {
     "data": {
      "text/plain": [
       "array([0.2098579 , 0.20502964, 0.18875998, 0.20514405, 0.19120844],\n",
       "      dtype=float32)"
      ]
     },
     "execution_count": 71,
     "metadata": {},
     "output_type": "execute_result"
    }
   ],
   "source": [
    "y_train.sum(axis=0)/len(y_train)"
   ]
  },
  {
   "cell_type": "code",
   "execution_count": 72,
   "id": "responsible-westminster",
   "metadata": {},
   "outputs": [
    {
     "data": {
      "text/plain": [
       "array([0.2134276 , 0.20079632, 0.19029313, 0.20278712, 0.19269583],\n",
       "      dtype=float32)"
      ]
     },
     "execution_count": 72,
     "metadata": {},
     "output_type": "execute_result"
    }
   ],
   "source": [
    "y_test.sum(axis=0)/len(y_test)"
   ]
  },
  {
   "cell_type": "markdown",
   "id": "internal-adapter",
   "metadata": {},
   "source": [
    "Null accuracy = .213"
   ]
  },
  {
   "cell_type": "code",
   "execution_count": 27,
   "id": "based-italian",
   "metadata": {},
   "outputs": [],
   "source": [
    "model = Sequential()\n",
    "model.add(BatchNormalization())\n",
    "model.add(GRU(64, return_sequences = True))\n",
    "model.add(GRU(64, return_sequences = True))\n",
    "model.add(GRU(64))\n",
    "model.add(Flatten())\n",
    "model.add(Dropout(.2))\n",
    "model.add(Dense(128, activation = 'relu'))\n",
    "model.add(Dropout(.2))\n",
    "model.add(Dense(64, activation = 'relu'))\n",
    "model.add(Dropout(.2))\n",
    "model.add(Dense(32, activation = 'relu'))\n",
    "model.add(Dropout(.2))\n",
    "model.add(Dense(5, activation = 'softmax'))\n",
    "model.compile(optimizer = 'adam', loss = 'categorical_crossentropy', metrics = ['acc'])"
   ]
  },
  {
   "cell_type": "code",
   "execution_count": 28,
   "id": "specified-costa",
   "metadata": {},
   "outputs": [],
   "source": [
    "earlystop = EarlyStopping(patience=5)"
   ]
  },
  {
   "cell_type": "code",
   "execution_count": 29,
   "id": "entire-haiti",
   "metadata": {},
   "outputs": [
    {
     "name": "stdout",
     "output_type": "stream",
     "text": [
      "Epoch 1/50\n",
      "1366/1366 [==============================] - 34s 22ms/step - loss: 1.5347 - acc: 0.2801 - val_loss: 1.2131 - val_acc: 0.4954\n",
      "Epoch 2/50\n",
      "1366/1366 [==============================] - 27s 20ms/step - loss: 1.2021 - acc: 0.5042 - val_loss: 1.0107 - val_acc: 0.6025\n",
      "Epoch 3/50\n",
      "1366/1366 [==============================] - 26s 19ms/step - loss: 1.0009 - acc: 0.6107 - val_loss: 0.8795 - val_acc: 0.6666\n",
      "Epoch 4/50\n",
      "1366/1366 [==============================] - 27s 20ms/step - loss: 0.8996 - acc: 0.6605 - val_loss: 0.8162 - val_acc: 0.6926\n",
      "Epoch 5/50\n",
      "1366/1366 [==============================] - 28s 20ms/step - loss: 0.8249 - acc: 0.6945 - val_loss: 0.7845 - val_acc: 0.7054\n",
      "Epoch 6/50\n",
      "1366/1366 [==============================] - 27s 20ms/step - loss: 0.7664 - acc: 0.7203 - val_loss: 0.7197 - val_acc: 0.7299\n",
      "Epoch 7/50\n",
      "1366/1366 [==============================] - 27s 20ms/step - loss: 0.7125 - acc: 0.7349 - val_loss: 0.7088 - val_acc: 0.7339\n",
      "Epoch 8/50\n",
      "1366/1366 [==============================] - 27s 19ms/step - loss: 0.6699 - acc: 0.7589 - val_loss: 0.6672 - val_acc: 0.7536\n",
      "Epoch 9/50\n",
      "1366/1366 [==============================] - 27s 20ms/step - loss: 0.6418 - acc: 0.7647 - val_loss: 0.6460 - val_acc: 0.7676\n",
      "Epoch 10/50\n",
      "1366/1366 [==============================] - 27s 20ms/step - loss: 0.5993 - acc: 0.7845 - val_loss: 0.6310 - val_acc: 0.7719\n",
      "Epoch 11/50\n",
      "1366/1366 [==============================] - 26s 19ms/step - loss: 0.5626 - acc: 0.7970 - val_loss: 0.6249 - val_acc: 0.7791\n",
      "Epoch 12/50\n",
      "1366/1366 [==============================] - 27s 20ms/step - loss: 0.5312 - acc: 0.8098 - val_loss: 0.6284 - val_acc: 0.7816\n",
      "Epoch 13/50\n",
      "1366/1366 [==============================] - 27s 19ms/step - loss: 0.5155 - acc: 0.8180 - val_loss: 0.6384 - val_acc: 0.7733\n",
      "Epoch 14/50\n",
      "1366/1366 [==============================] - 27s 20ms/step - loss: 0.5057 - acc: 0.8215 - val_loss: 0.6248 - val_acc: 0.7781\n",
      "Epoch 15/50\n",
      "1366/1366 [==============================] - 28s 21ms/step - loss: 0.4757 - acc: 0.8309 - val_loss: 0.6358 - val_acc: 0.7810\n",
      "Epoch 16/50\n",
      "1366/1366 [==============================] - 27s 20ms/step - loss: 0.4506 - acc: 0.8376 - val_loss: 0.6269 - val_acc: 0.7913\n",
      "Epoch 17/50\n",
      "1366/1366 [==============================] - 28s 20ms/step - loss: 0.4369 - acc: 0.8473 - val_loss: 0.6352 - val_acc: 0.7884\n",
      "Epoch 18/50\n",
      "1366/1366 [==============================] - 27s 20ms/step - loss: 0.4309 - acc: 0.8498 - val_loss: 0.5761 - val_acc: 0.8015\n",
      "Epoch 19/50\n",
      "1366/1366 [==============================] - 27s 19ms/step - loss: 0.4064 - acc: 0.8582 - val_loss: 0.6018 - val_acc: 0.7943\n",
      "Epoch 20/50\n",
      "1366/1366 [==============================] - 26s 19ms/step - loss: 0.4066 - acc: 0.8584 - val_loss: 0.5813 - val_acc: 0.8047\n",
      "Epoch 21/50\n",
      "1366/1366 [==============================] - 27s 20ms/step - loss: 0.3867 - acc: 0.8647 - val_loss: 0.5810 - val_acc: 0.8061\n",
      "Epoch 22/50\n",
      "1366/1366 [==============================] - 28s 21ms/step - loss: 0.3725 - acc: 0.8681 - val_loss: 0.6011 - val_acc: 0.8035\n",
      "Epoch 23/50\n",
      "1366/1366 [==============================] - 26s 19ms/step - loss: 0.3718 - acc: 0.8695 - val_loss: 0.6466 - val_acc: 0.8046\n"
     ]
    }
   ],
   "source": [
    "history = model.fit(\n",
    "    x=X_train,\n",
    "    y=y_train,\n",
    "    validation_data=(X_test, y_test),\n",
    "    callbacks=[earlystop],\n",
    "    epochs=50\n",
    ")"
   ]
  },
  {
   "cell_type": "code",
   "execution_count": 30,
   "id": "written-litigation",
   "metadata": {},
   "outputs": [
    {
     "data": {
      "image/png": "[encoded data removed]",
      "text/plain": [
       "<Figure size 432x288 with 1 Axes>"
      ]
     },
     "metadata": {
      "needs_background": "light"
     },
     "output_type": "display_data"
    }
   ],
   "source": [
    "# plot\n",
    "plt.plot(history.history['val_acc'], label = 'val acc')\n",
    "plt.plot(history.history['acc'], label = 'acc')\n",
    "plt.legend()\n",
    "plt.title('Results');"
   ]
  },
  {
   "cell_type": "code",
   "execution_count": 59,
   "id": "ordered-devil",
   "metadata": {},
   "outputs": [],
   "source": [
    "model.save('../models/5lang_10mfcc_030121.h5', save_format='h5')"
   ]
  },
  {
   "cell_type": "code",
   "execution_count": 17,
   "id": "welsh-nirvana",
   "metadata": {},
   "outputs": [],
   "source": [
    "# reloaded_model = tensorflow.keras.models.load_model('../models/cnn02252021.h5')"
   ]
  },
  {
   "cell_type": "code",
   "execution_count": 31,
   "id": "public-reading",
   "metadata": {},
   "outputs": [],
   "source": [
    "y_out = np.apply_along_axis(np.argmax, axis=1, arr=y_test)"
   ]
  },
  {
   "cell_type": "code",
   "execution_count": 34,
   "id": "welsh-blind",
   "metadata": {},
   "outputs": [],
   "source": [
    "cm = confusion_matrix(y_out, model.predict_classes(X_test))"
   ]
  },
  {
   "cell_type": "code",
   "execution_count": 35,
   "id": "local-database",
   "metadata": {},
   "outputs": [
    {
     "data": {
      "text/plain": [
       "array([[2461,  196,  111,  194,  147],\n",
       "       [ 224, 2333,   60,  251,   57],\n",
       "       [ 146,   88, 2256,  176,  106],\n",
       "       [ 164,  245,  153, 2324,   68],\n",
       "       [ 175,  104,   65,  117, 2346]])"
      ]
     },
     "execution_count": 35,
     "metadata": {},
     "output_type": "execute_result"
    }
   ],
   "source": [
    "cm"
   ]
  },
  {
   "cell_type": "code",
   "execution_count": 42,
   "id": "reverse-gravity",
   "metadata": {},
   "outputs": [
    {
     "data": {
      "text/plain": [
       "array([[3109],\n",
       "       [2925],\n",
       "       [2772],\n",
       "       [2954],\n",
       "       [2807]])"
      ]
     },
     "execution_count": 42,
     "metadata": {},
     "output_type": "execute_result"
    }
   ],
   "source": [
    "cm.sum(axis=1, keepdims=True)"
   ]
  },
  {
   "cell_type": "code",
   "execution_count": 44,
   "id": "wrong-removal",
   "metadata": {},
   "outputs": [],
   "source": [
    "cm_norm = np.true_divide(cm, cm.sum(axis=1, keepdims=True))"
   ]
  },
  {
   "cell_type": "code",
   "execution_count": 75,
   "id": "critical-capitol",
   "metadata": {},
   "outputs": [
    {
     "data": {
      "image/png": "[encoded data removed]",
      "text/plain": [
       "<Figure size 720x576 with 2 Axes>"
      ]
     },
     "metadata": {
      "needs_background": "light"
     },
     "output_type": "display_data"
    }
   ],
   "source": [
    "plt.figure(figsize=(10, 8))\n",
    "sns.heatmap(cm_norm, annot=True, vmin=0, vmax=1, fmt='g', xticklabels=encoder.classes_, yticklabels=encoder.classes_)\n",
    "plt.xlabel(\"Predicted\")\n",
    "plt.ylabel(\"True\")\n",
    "plt.title(\"Language Classification Confusion Matrix\")\n",
    "plt.show()"
   ]
  }
 ],
 "metadata": {
  "kernelspec": {
   "display_name": "Python 3",
   "language": "python",
   "name": "python3"
  },
  "language_info": {
   "codemirror_mode": {
    "name": "ipython",
    "version": 3
   },
   "file_extension": ".py",
   "mimetype": "text/x-python",
   "name": "python",
   "nbconvert_exporter": "python",
   "pygments_lexer": "ipython3",
   "version": "3.8.5"
  }
 },
 "nbformat": 4,
 "nbformat_minor": 5
}
