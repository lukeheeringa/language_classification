{
 "cells": [
  {
   "cell_type": "code",
   "execution_count": 1,
   "id": "clear-multimedia",
   "metadata": {},
   "outputs": [],
   "source": [
    "import warnings\n",
    "warnings.filterwarnings('ignore')"
   ]
  },
  {
   "cell_type": "code",
   "execution_count": 58,
   "id": "optical-fraction",
   "metadata": {},
   "outputs": [],
   "source": [
    "import numpy as np\n",
    "import matplotlib.pyplot as plt\n",
    "import pickle\n",
    "\n",
    "from os import listdir\n",
    "from sklearn.model_selection import train_test_split\n",
    "\n",
    "import tensorflow.keras\n",
    "from tensorflow.keras.models import Sequential\n",
    "from tensorflow.keras.layers import Dense, Flatten, MaxPool2D, Conv1D, Conv2D, Dropout, BatchNormalization\n",
    "from keras.layers import SimpleRNN, LSTM, GRU, MaxPooling1D\n",
    "from tensorflow.keras.callbacks import EarlyStopping\n",
    "from keras.utils import np_utils\n",
    "\n",
    "from sklearn.preprocessing import LabelEncoder\n",
    "from sklearn.metrics import confusion_matrix\n",
    "import seaborn as sns\n",
    "import matplotlib.pyplot as plt"
   ]
  },
  {
   "cell_type": "code",
   "execution_count": 186,
   "id": "golden-tribe",
   "metadata": {},
   "outputs": [],
   "source": [
    "mfcc_files = ['../data/mfcc/5lang_10mfcc_022821/' + f for f in listdir('../data/mfcc/5lang_10mfcc_022821/') if 'mfcc.pkl' in f]\n",
    "target_files = ['../data/target/' + f for f in listdir('../data/target/') if 'target.pkl' in f]\n",
    "\n",
    "mfcc_files.sort()\n",
    "target_files.sort()"
   ]
  },
  {
   "cell_type": "code",
   "execution_count": 187,
   "id": "prescription-allergy",
   "metadata": {},
   "outputs": [],
   "source": [
    "def reload(path):\n",
    "    with open(path, 'rb') as f:\n",
    "        return pickle.load(f)"
   ]
  },
  {
   "cell_type": "code",
   "execution_count": 188,
   "id": "legendary-sitting",
   "metadata": {},
   "outputs": [],
   "source": [
    "mfcc_reloaded = [reload(f) for f in mfcc_files]\n",
    "target_reloaded = [reload(f) for f in target_files]"
   ]
  },
  {
   "cell_type": "code",
   "execution_count": 189,
   "id": "elementary-forum",
   "metadata": {},
   "outputs": [
    {
     "data": {
      "text/plain": [
       "['../data/mfcc/5lang_10mfcc_022821/en_12130n_10mfcc.pkl',\n",
       " '../data/mfcc/5lang_10mfcc_022821/es_11763n_10mfcc.pkl',\n",
       " '../data/mfcc/5lang_10mfcc_022821/fr_10894n_10mfcc.pkl',\n",
       " '../data/mfcc/5lang_10mfcc_022821/ru_11848n_10mfcc.pkl',\n",
       " '../data/mfcc/5lang_10mfcc_022821/zh_11067n_10mfcc.pkl']"
      ]
     },
     "execution_count": 189,
     "metadata": {},
     "output_type": "execute_result"
    }
   ],
   "source": [
    "mfcc_files"
   ]
  },
  {
   "cell_type": "code",
   "execution_count": 190,
   "id": "fatal-hacker",
   "metadata": {},
   "outputs": [
    {
     "data": {
      "text/plain": [
       "['../data/target/en_12130n_target.pkl',\n",
       " '../data/target/es_11763n_target.pkl',\n",
       " '../data/target/fr_10894n_target.pkl',\n",
       " '../data/target/ru_11848n_target.pkl',\n",
       " '../data/target/zh_11067n_target.pkl']"
      ]
     },
     "execution_count": 190,
     "metadata": {},
     "output_type": "execute_result"
    }
   ],
   "source": [
    "target_files"
   ]
  },
  {
   "cell_type": "code",
   "execution_count": 200,
   "id": "moral-sleeping",
   "metadata": {},
   "outputs": [],
   "source": [
    "X = np.concatenate(mfcc_reloaded)"
   ]
  },
  {
   "cell_type": "code",
   "execution_count": 192,
   "id": "nearby-catalog",
   "metadata": {},
   "outputs": [],
   "source": [
    "y = np.concatenate(target_reloaded)"
   ]
  },
  {
   "cell_type": "code",
   "execution_count": 193,
   "id": "rotary-world",
   "metadata": {},
   "outputs": [],
   "source": [
    "# https://machinelearningmastery.com/multi-class-classification-tutorial-keras-deep-learning-library/\n",
    "# encode class values as integers\n",
    "encoder = LabelEncoder()\n",
    "encoder.fit(y)\n",
    "encoded_y = encoder.transform(y)\n",
    "# convert integers to dummy variables (i.e. one hot encoded)\n",
    "dummy_y = np_utils.to_categorical(encoded_y)"
   ]
  },
  {
   "cell_type": "code",
   "execution_count": 194,
   "id": "honey-blake",
   "metadata": {},
   "outputs": [],
   "source": [
    "# X = X.reshape(X.shape[0], X.shape[1], X.shape[2], 1)"
   ]
  },
  {
   "cell_type": "code",
   "execution_count": 220,
   "id": "applied-stage",
   "metadata": {},
   "outputs": [],
   "source": [
    "X_train, X_test, y_train, y_test = train_test_split(X, dummy_y)"
   ]
  },
  {
   "cell_type": "code",
   "execution_count": 202,
   "id": "breathing-grill",
   "metadata": {},
   "outputs": [],
   "source": [
    "from tensorflow.keras.layers import Bidirectional"
   ]
  },
  {
   "cell_type": "code",
   "execution_count": 246,
   "id": "optimum-burst",
   "metadata": {},
   "outputs": [],
   "source": [
    "model = Sequential()\n",
    "model.add(BatchNormalization())\n",
    "# model.add(Bidirectional(GRU(16)))\n",
    "# model.add(Bidirectional(SimpleRNN(128, input_shape = (10, 157, 1))))\n",
    "model.add(GRU(64, return_sequences = True))\n",
    "model.add(GRU(64, return_sequences = True))\n",
    "model.add(GRU(64))\n",
    "model.add(Flatten())\n",
    "model.add(Dropout(.2))\n",
    "model.add(Dense(128, activation = 'relu'))\n",
    "model.add(Dropout(.2))\n",
    "model.add(Dense(64, activation = 'relu'))\n",
    "model.add(Dropout(.2))\n",
    "model.add(Dense(32, activation = 'relu'))\n",
    "model.add(Dropout(.2))\n",
    "model.add(Dense(5, activation = 'softmax'))\n",
    "model.compile(optimizer = 'adam', loss = 'categorical_crossentropy', metrics = ['acc'])"
   ]
  },
  {
   "cell_type": "code",
   "execution_count": 247,
   "id": "moral-insider",
   "metadata": {},
   "outputs": [],
   "source": [
    "earlystop = EarlyStopping(patience=5)"
   ]
  },
  {
   "cell_type": "code",
   "execution_count": 248,
   "id": "surgical-insight",
   "metadata": {},
   "outputs": [
    {
     "name": "stdout",
     "output_type": "stream",
     "text": [
      "Epoch 1/50\n",
      "1353/1353 [==============================] - 22s 14ms/step - loss: 1.5160 - acc: 0.3006 - val_loss: 1.1880 - val_acc: 0.5167\n",
      "Epoch 2/50\n",
      "1353/1353 [==============================] - 18s 14ms/step - loss: 1.1678 - acc: 0.5282 - val_loss: 0.9514 - val_acc: 0.6299\n",
      "Epoch 3/50\n",
      "1353/1353 [==============================] - 18s 13ms/step - loss: 1.0087 - acc: 0.6093 - val_loss: 0.8396 - val_acc: 0.6739\n",
      "Epoch 4/50\n",
      "1353/1353 [==============================] - 18s 14ms/step - loss: 0.8805 - acc: 0.6683 - val_loss: 0.7848 - val_acc: 0.7030\n",
      "Epoch 5/50\n",
      "1353/1353 [==============================] - 18s 14ms/step - loss: 0.8211 - acc: 0.6964 - val_loss: 0.7428 - val_acc: 0.7231\n",
      "Epoch 6/50\n",
      "1353/1353 [==============================] - 18s 13ms/step - loss: 0.7501 - acc: 0.7232 - val_loss: 0.7140 - val_acc: 0.7317\n",
      "Epoch 7/50\n",
      "1353/1353 [==============================] - 19s 14ms/step - loss: 0.6995 - acc: 0.7423 - val_loss: 0.6709 - val_acc: 0.7493\n",
      "Epoch 8/50\n",
      "1353/1353 [==============================] - 18s 13ms/step - loss: 0.6451 - acc: 0.7680 - val_loss: 0.6524 - val_acc: 0.7601\n",
      "Epoch 9/50\n",
      "1353/1353 [==============================] - 18s 13ms/step - loss: 0.6068 - acc: 0.7811 - val_loss: 0.6425 - val_acc: 0.7648\n",
      "Epoch 10/50\n",
      "1353/1353 [==============================] - 18s 13ms/step - loss: 0.5774 - acc: 0.7948 - val_loss: 0.6089 - val_acc: 0.7758\n",
      "Epoch 11/50\n",
      "1353/1353 [==============================] - 18s 13ms/step - loss: 0.5543 - acc: 0.8035 - val_loss: 0.6147 - val_acc: 0.7812\n",
      "Epoch 12/50\n",
      "1353/1353 [==============================] - 18s 14ms/step - loss: 0.5278 - acc: 0.8127 - val_loss: 0.6374 - val_acc: 0.7717\n",
      "Epoch 13/50\n",
      "1353/1353 [==============================] - 18s 13ms/step - loss: 0.5031 - acc: 0.8212 - val_loss: 0.6246 - val_acc: 0.7747\n",
      "Epoch 14/50\n",
      "1353/1353 [==============================] - 18s 13ms/step - loss: 0.4707 - acc: 0.8370 - val_loss: 0.6305 - val_acc: 0.7824\n",
      "Epoch 15/50\n",
      "1353/1353 [==============================] - 18s 13ms/step - loss: 0.4692 - acc: 0.8349 - val_loss: 0.5942 - val_acc: 0.7916\n",
      "Epoch 16/50\n",
      "1353/1353 [==============================] - 18s 13ms/step - loss: 0.4396 - acc: 0.8412 - val_loss: 0.5806 - val_acc: 0.7945\n",
      "Epoch 17/50\n",
      "1353/1353 [==============================] - 18s 13ms/step - loss: 0.4302 - acc: 0.8517 - val_loss: 0.5962 - val_acc: 0.7977\n",
      "Epoch 18/50\n",
      "1353/1353 [==============================] - 18s 13ms/step - loss: 0.4013 - acc: 0.8605 - val_loss: 0.6118 - val_acc: 0.7932\n",
      "Epoch 19/50\n",
      "1353/1353 [==============================] - 18s 13ms/step - loss: 0.3944 - acc: 0.8633 - val_loss: 0.6044 - val_acc: 0.8041\n",
      "Epoch 20/50\n",
      "1353/1353 [==============================] - 18s 13ms/step - loss: 0.3752 - acc: 0.8703 - val_loss: 0.5856 - val_acc: 0.8051\n",
      "Epoch 21/50\n",
      "1353/1353 [==============================] - 18s 14ms/step - loss: 0.3695 - acc: 0.8724 - val_loss: 0.6273 - val_acc: 0.7961\n"
     ]
    }
   ],
   "source": [
    "history = model.fit(\n",
    "    x=X_train,\n",
    "    y=y_train,\n",
    "    validation_data=(X_test, y_test),\n",
    "    callbacks=[earlystop],\n",
    "    epochs=50\n",
    ")"
   ]
  },
  {
   "cell_type": "code",
   "execution_count": 249,
   "id": "responsible-powder",
   "metadata": {},
   "outputs": [
    {
     "data": {
      "image/png": "[encoded data removed]",
      "text/plain": [
       "<Figure size 432x288 with 1 Axes>"
      ]
     },
     "metadata": {
      "needs_background": "light"
     },
     "output_type": "display_data"
    }
   ],
   "source": [
    "# plot\n",
    "plt.plot(history.history['val_acc'], label = 'val acc')\n",
    "plt.plot(history.history['acc'], label = 'acc')\n",
    "plt.legend()\n",
    "plt.title('Results');"
   ]
  },
  {
   "cell_type": "code",
   "execution_count": 257,
   "id": "answering-strap",
   "metadata": {},
   "outputs": [],
   "source": [
    "split = (X_train, X_test, y_train, y_test)\n",
    "with open('../models/5l10m_arrays.pkl', 'wb') as f:\n",
    "    pickle.dump(split, f)"
   ]
  },
  {
   "cell_type": "code",
   "execution_count": 255,
   "id": "closed-storage",
   "metadata": {},
   "outputs": [],
   "source": [
    "model.save('../models/5lang_10mfcc_022821.h5', save_format='h5')"
   ]
  },
  {
   "cell_type": "code",
   "execution_count": 17,
   "id": "global-watch",
   "metadata": {},
   "outputs": [],
   "source": [
    "# reloaded_model = tensorflow.keras.models.load_model('../models/cnn02252021.h5')"
   ]
  },
  {
   "cell_type": "code",
   "execution_count": 250,
   "id": "played-theta",
   "metadata": {},
   "outputs": [],
   "source": [
    "y_out = np.apply_along_axis(np.argmax, axis=1, arr=y_test)"
   ]
  },
  {
   "cell_type": "code",
   "execution_count": 251,
   "id": "fundamental-stopping",
   "metadata": {},
   "outputs": [],
   "source": [
    "cm = confusion_matrix(y_out, model.predict_classes(X_test))"
   ]
  },
  {
   "cell_type": "code",
   "execution_count": 252,
   "id": "enhanced-penetration",
   "metadata": {},
   "outputs": [
    {
     "data": {
      "text/plain": [
       "array([[2349,  194,  123,  178,  191],\n",
       "       [ 253, 2379,   61,  221,   88],\n",
       "       [ 185,   88, 2204,  182,  108],\n",
       "       [ 181,  268,  123, 2206,   96],\n",
       "       [ 169,  103,   49,   81, 2346]])"
      ]
     },
     "execution_count": 252,
     "metadata": {},
     "output_type": "execute_result"
    }
   ],
   "source": [
    "cm"
   ]
  },
  {
   "cell_type": "code",
   "execution_count": 301,
   "id": "verified-belize",
   "metadata": {},
   "outputs": [],
   "source": [
    "x = np.true_divide(cm.T, cm.T.sum(axis=0, keepdims=True))"
   ]
  },
  {
   "cell_type": "code",
   "execution_count": 302,
   "id": "blocked-survival",
   "metadata": {},
   "outputs": [
    {
     "data": {
      "text/plain": [
       "Text(69.0, 0.5, 'Predicted')"
      ]
     },
     "execution_count": 302,
     "metadata": {},
     "output_type": "execute_result"
    },
    {
     "data": {
      "image/png": "[encoded data removed]",
      "text/plain": [
       "<Figure size 720x576 with 2 Axes>"
      ]
     },
     "metadata": {
      "needs_background": "light"
     },
     "output_type": "display_data"
    }
   ],
   "source": [
    "plt.figure(figsize=(10, 8))\n",
    "sns.heatmap(x, annot=True, vmin=0, vmax=1, fmt='g', xticklabels=['en', 'es', 'fr', 'ru', 'zh'], yticklabels=['en', 'es', 'fr', 'ru', 'zh'])\n",
    "plt.xlabel(\"Actual\")\n",
    "plt.ylabel(\"Predicted\")"
   ]
  },
  {
   "cell_type": "code",
   "execution_count": 275,
   "id": "impressed-instrument",
   "metadata": {},
   "outputs": [],
   "source": [
    "mfcc_val = ['../data/mfcc/validation/' + f for f in listdir('../data/mfcc/validation/') if 'mfcc.pkl' in f]\n",
    "target_val = ['../data/target/validation/' + f for f in listdir('../data/target/validation/') if 'target.pkl' in f]\n",
    "\n",
    "mfcc_val.sort()\n",
    "target_val.sort()\n",
    "\n",
    "mfcc_val_reloaded = [reload(f) for f in mfcc_val]\n",
    "target_val_reloaded = [reload(f) for f in target_val]\n",
    "\n",
    "X_val = np.concatenate(mfcc_val_reloaded)\n",
    "y_val = np.concatenate(target_val_reloaded)\n",
    "\n",
    "# encode class values as integers\n",
    "encoded_y_val = encoder.transform(y_val)"
   ]
  },
  {
   "cell_type": "code",
   "execution_count": 285,
   "id": "decreased-neutral",
   "metadata": {},
   "outputs": [
    {
     "data": {
      "text/plain": [
       "['../data/target/validation/en_150n_target.pkl',\n",
       " '../data/target/validation/es_122n_target.pkl',\n",
       " '../data/target/validation/fr_127n_target.pkl',\n",
       " '../data/target/validation/ru_71n_target.pkl',\n",
       " '../data/target/validation/zh_96n_target.pkl']"
      ]
     },
     "execution_count": 285,
     "metadata": {},
     "output_type": "execute_result"
    }
   ],
   "source": [
    "target_val"
   ]
  },
  {
   "cell_type": "code",
   "execution_count": 286,
   "id": "smart-alliance",
   "metadata": {
    "collapsed": true,
    "jupyter": {
     "outputs_hidden": true
    }
   },
   "outputs": [
    {
     "data": {
      "text/plain": [
       "[array(['en', 'en', 'en', 'en', 'en', 'en', 'en', 'en', 'en', 'en', 'en',\n",
       "        'en', 'en', 'en', 'en', 'en', 'en', 'en', 'en', 'en', 'en', 'en',\n",
       "        'en', 'en', 'en', 'en', 'en', 'en', 'en', 'en', 'en', 'en', 'en',\n",
       "        'en', 'en', 'en', 'en', 'en', 'en', 'en', 'en', 'en', 'en', 'en',\n",
       "        'en', 'en', 'en', 'en', 'en', 'en', 'en', 'en', 'en', 'en', 'en',\n",
       "        'en', 'en', 'en', 'en', 'en', 'en', 'en', 'en', 'en', 'en', 'en',\n",
       "        'en', 'en', 'en', 'en', 'en', 'en', 'en', 'en', 'en', 'en', 'en',\n",
       "        'en', 'en', 'en', 'en', 'en', 'en', 'en', 'en', 'en', 'en', 'en',\n",
       "        'en', 'en', 'en', 'en', 'en', 'en', 'en', 'en', 'en', 'en', 'en',\n",
       "        'en', 'en', 'en', 'en', 'en', 'en', 'en', 'en', 'en', 'en', 'en',\n",
       "        'en', 'en', 'en', 'en', 'en', 'en', 'en', 'en', 'en', 'en', 'en',\n",
       "        'en', 'en', 'en', 'en', 'en', 'en', 'en', 'en', 'en', 'en', 'en',\n",
       "        'en', 'en', 'en', 'en', 'en', 'en', 'en', 'en', 'en', 'en', 'en',\n",
       "        'en', 'en', 'en', 'en', 'en', 'en', 'en'], dtype='<U2'),\n",
       " array(['es', 'es', 'es', 'es', 'es', 'es', 'es', 'es', 'es', 'es', 'es',\n",
       "        'es', 'es', 'es', 'es', 'es', 'es', 'es', 'es', 'es', 'es', 'es',\n",
       "        'es', 'es', 'es', 'es', 'es', 'es', 'es', 'es', 'es', 'es', 'es',\n",
       "        'es', 'es', 'es', 'es', 'es', 'es', 'es', 'es', 'es', 'es', 'es',\n",
       "        'es', 'es', 'es', 'es', 'es', 'es', 'es', 'es', 'es', 'es', 'es',\n",
       "        'es', 'es', 'es', 'es', 'es', 'es', 'es', 'es', 'es', 'es', 'es',\n",
       "        'es', 'es', 'es', 'es', 'es', 'es', 'es', 'es', 'es', 'es', 'es',\n",
       "        'es', 'es', 'es', 'es', 'es', 'es', 'es', 'es', 'es', 'es', 'es',\n",
       "        'es', 'es', 'es', 'es', 'es', 'es', 'es', 'es', 'es', 'es', 'es',\n",
       "        'es', 'es', 'es', 'es', 'es', 'es', 'es', 'es', 'es', 'es', 'es',\n",
       "        'es', 'es', 'es', 'es', 'es', 'es', 'es', 'es', 'es', 'es', 'es',\n",
       "        'es'], dtype='<U2'),\n",
       " array(['fr', 'fr', 'fr', 'fr', 'fr', 'fr', 'fr', 'fr', 'fr', 'fr', 'fr',\n",
       "        'fr', 'fr', 'fr', 'fr', 'fr', 'fr', 'fr', 'fr', 'fr', 'fr', 'fr',\n",
       "        'fr', 'fr', 'fr', 'fr', 'fr', 'fr', 'fr', 'fr', 'fr', 'fr', 'fr',\n",
       "        'fr', 'fr', 'fr', 'fr', 'fr', 'fr', 'fr', 'fr', 'fr', 'fr', 'fr',\n",
       "        'fr', 'fr', 'fr', 'fr', 'fr', 'fr', 'fr', 'fr', 'fr', 'fr', 'fr',\n",
       "        'fr', 'fr', 'fr', 'fr', 'fr', 'fr', 'fr', 'fr', 'fr', 'fr', 'fr',\n",
       "        'fr', 'fr', 'fr', 'fr', 'fr', 'fr', 'fr', 'fr', 'fr', 'fr', 'fr',\n",
       "        'fr', 'fr', 'fr', 'fr', 'fr', 'fr', 'fr', 'fr', 'fr', 'fr', 'fr',\n",
       "        'fr', 'fr', 'fr', 'fr', 'fr', 'fr', 'fr', 'fr', 'fr', 'fr', 'fr',\n",
       "        'fr', 'fr', 'fr', 'fr', 'fr', 'fr', 'fr', 'fr', 'fr', 'fr', 'fr',\n",
       "        'fr', 'fr', 'fr', 'fr', 'fr', 'fr', 'fr', 'fr', 'fr', 'fr', 'fr',\n",
       "        'fr', 'fr', 'fr', 'fr', 'fr', 'fr'], dtype='<U2'),\n",
       " array(['ru', 'ru', 'ru', 'ru', 'ru', 'ru', 'ru', 'ru', 'ru', 'ru', 'ru',\n",
       "        'ru', 'ru', 'ru', 'ru', 'ru', 'ru', 'ru', 'ru', 'ru', 'ru', 'ru',\n",
       "        'ru', 'ru', 'ru', 'ru', 'ru', 'ru', 'ru', 'ru', 'ru', 'ru', 'ru',\n",
       "        'ru', 'ru', 'ru', 'ru', 'ru', 'ru', 'ru', 'ru', 'ru', 'ru', 'ru',\n",
       "        'ru', 'ru', 'ru', 'ru', 'ru', 'ru', 'ru', 'ru', 'ru', 'ru', 'ru',\n",
       "        'ru', 'ru', 'ru', 'ru', 'ru', 'ru', 'ru', 'ru', 'ru', 'ru', 'ru',\n",
       "        'ru', 'ru', 'ru', 'ru', 'ru'], dtype='<U2'),\n",
       " array(['zh', 'zh', 'zh', 'zh', 'zh', 'zh', 'zh', 'zh', 'zh', 'zh', 'zh',\n",
       "        'zh', 'zh', 'zh', 'zh', 'zh', 'zh', 'zh', 'zh', 'zh', 'zh', 'zh',\n",
       "        'zh', 'zh', 'zh', 'zh', 'zh', 'zh', 'zh', 'zh', 'zh', 'zh', 'zh',\n",
       "        'zh', 'zh', 'zh', 'zh', 'zh', 'zh', 'zh', 'zh', 'zh', 'zh', 'zh',\n",
       "        'zh', 'zh', 'zh', 'zh', 'zh', 'zh', 'zh', 'zh', 'zh', 'zh', 'zh',\n",
       "        'zh', 'zh', 'zh', 'zh', 'zh', 'zh', 'zh', 'zh', 'zh', 'zh', 'zh',\n",
       "        'zh', 'zh', 'zh', 'zh', 'zh', 'zh', 'zh', 'zh', 'zh', 'zh', 'zh',\n",
       "        'zh', 'zh', 'zh', 'zh', 'zh', 'zh', 'zh', 'zh', 'zh', 'zh', 'zh',\n",
       "        'zh', 'zh', 'zh', 'zh', 'zh', 'zh', 'zh', 'zh'], dtype='<U2')]"
      ]
     },
     "execution_count": 286,
     "metadata": {},
     "output_type": "execute_result"
    }
   ],
   "source": [
    "target_val_reloaded"
   ]
  },
  {
   "cell_type": "code",
   "execution_count": 290,
   "id": "employed-april",
   "metadata": {},
   "outputs": [
    {
     "data": {
      "text/plain": [
       "array([[ 12,  22,  11,   4,   3],\n",
       "       [  0,   2,   2,   0,   0],\n",
       "       [  1,  10,   0,  20,   0],\n",
       "       [134,  66, 113,  27,  92],\n",
       "       [  3,  22,   1,  20,   1]])"
      ]
     },
     "execution_count": 290,
     "metadata": {},
     "output_type": "execute_result"
    }
   ],
   "source": [
    "cm_val.T"
   ]
  },
  {
   "cell_type": "code",
   "execution_count": null,
   "id": "nominated-paste",
   "metadata": {},
   "outputs": [],
   "source": []
  },
  {
   "cell_type": "code",
   "execution_count": 291,
   "id": "usual-omaha",
   "metadata": {},
   "outputs": [
    {
     "data": {
      "text/plain": [
       "Text(69.0, 0.5, 'Predicted')"
      ]
     },
     "execution_count": 291,
     "metadata": {},
     "output_type": "execute_result"
    },
    {
     "data": {
      "image/png": "[encoded data removed]",
      "text/plain": [
       "<Figure size 720x576 with 2 Axes>"
      ]
     },
     "metadata": {
      "needs_background": "light"
     },
     "output_type": "display_data"
    }
   ],
   "source": [
    "cm_val = confusion_matrix(encoded_y_val, model.predict_classes(X_val))\n",
    "cm_val_norm = np.true_divide(cm_val.T, cm_val.T.sum(axis=1, keepdims=True))\n",
    "plt.figure(figsize=(10, 8))\n",
    "sns.heatmap(cm_val_norm, annot=True, vmin=0, vmax=1, fmt='g', xticklabels=['en', 'es', 'fr', 'ru', 'zh'], yticklabels=['en', 'es', 'fr', 'ru', 'zh'])\n",
    "plt.xlabel(\"Actual\")\n",
    "plt.ylabel(\"Predicted\")"
   ]
  },
  {
   "cell_type": "code",
   "execution_count": 300,
   "id": "pressed-repeat",
   "metadata": {},
   "outputs": [
    {
     "data": {
      "text/plain": [
       "array(['en', 'es', 'fr', 'ru', 'zh'], dtype='<U2')"
      ]
     },
     "execution_count": 300,
     "metadata": {},
     "output_type": "execute_result"
    }
   ],
   "source": [
    "encoder.classes_"
   ]
  },
  {
   "cell_type": "code",
   "execution_count": 295,
   "id": "parliamentary-mustang",
   "metadata": {},
   "outputs": [
    {
     "data": {
      "text/plain": [
       "array([3, 3, 0, 0, 3, 3, 3, 3, 3, 3, 3, 3, 3, 3, 3, 3, 3, 3, 3, 3, 3, 3,\n",
       "       3, 3, 3, 3, 0, 3, 3, 3, 3, 3, 3, 3, 3, 3, 3, 3, 3, 3, 3, 3, 3, 3,\n",
       "       3, 3, 3, 3, 3, 3, 3, 3, 3, 3, 3, 3, 3, 3, 3, 3, 3, 3, 3, 3, 3, 3,\n",
       "       3, 4, 3, 3, 3, 3, 3, 3, 3, 0, 3, 3, 3, 3, 3, 3, 3, 3, 3, 3, 3, 3,\n",
       "       3, 2, 3, 3, 0, 3, 3, 3, 3, 3, 3, 3, 0, 3, 3, 0, 3, 3, 3, 3, 3, 3,\n",
       "       3, 3, 3, 4, 3, 3, 0, 3, 3, 3, 3, 3, 3, 3, 3, 3, 3, 3, 3, 3, 3, 3,\n",
       "       3, 3, 3, 3, 3, 0, 0, 3, 3, 3, 3, 3, 4, 0, 0, 3, 3, 3])"
      ]
     },
     "execution_count": 295,
     "metadata": {},
     "output_type": "execute_result"
    }
   ],
   "source": [
    "model.predict_classes(mfcc_val_reloaded[0])"
   ]
  },
  {
   "cell_type": "code",
   "execution_count": 296,
   "id": "voluntary-earth",
   "metadata": {},
   "outputs": [
    {
     "data": {
      "text/plain": [
       "array([3, 3, 3, 3, 3, 4, 3, 4, 3, 3, 3, 2, 3, 3, 4, 3, 0, 4, 4, 4, 4, 3,\n",
       "       1, 1, 3, 4, 4, 0, 4, 2, 3, 3, 2, 0, 3, 0, 4, 3, 3, 0, 2, 3, 3, 4,\n",
       "       3, 2, 3, 0, 0, 3, 3, 3, 0, 4, 3, 3, 4, 4, 3, 3, 4, 4, 3, 3, 3, 3,\n",
       "       3, 0, 3, 3, 3, 3, 0, 2, 3, 0, 4, 3, 3, 3, 0, 4, 3, 0, 3, 3, 3, 3,\n",
       "       2, 0, 3, 2, 2, 3, 3, 3, 3, 0, 0, 3, 2, 3, 3, 3, 4, 0, 3, 3, 3, 0,\n",
       "       0, 3, 3, 3, 0, 3, 0, 0, 4, 4, 3, 3])"
      ]
     },
     "execution_count": 296,
     "metadata": {},
     "output_type": "execute_result"
    }
   ],
   "source": [
    "model.predict_classes(mfcc_val_reloaded[1])"
   ]
  },
  {
   "cell_type": "code",
   "execution_count": 297,
   "id": "adopted-vacation",
   "metadata": {},
   "outputs": [
    {
     "data": {
      "text/plain": [
       "array([0, 3, 3, 3, 3, 3, 3, 3, 3, 3, 0, 0, 3, 3, 3, 3, 3, 3, 3, 3, 3, 3,\n",
       "       3, 3, 3, 3, 3, 3, 3, 3, 3, 3, 3, 3, 3, 0, 3, 3, 3, 3, 3, 3, 3, 3,\n",
       "       3, 1, 3, 3, 3, 3, 0, 3, 3, 1, 3, 3, 3, 3, 3, 3, 3, 3, 3, 3, 3, 3,\n",
       "       3, 3, 3, 3, 3, 3, 3, 3, 3, 3, 3, 3, 3, 3, 3, 3, 3, 3, 3, 3, 3, 3,\n",
       "       3, 3, 3, 3, 3, 3, 3, 3, 3, 0, 0, 3, 3, 3, 3, 0, 3, 0, 3, 3, 3, 3,\n",
       "       3, 3, 3, 4, 3, 3, 3, 3, 0, 3, 3, 0, 3, 3, 3, 3, 3])"
      ]
     },
     "execution_count": 297,
     "metadata": {},
     "output_type": "execute_result"
    }
   ],
   "source": [
    "model.predict_classes(mfcc_val_reloaded[2])"
   ]
  },
  {
   "cell_type": "code",
   "execution_count": 298,
   "id": "equivalent-freedom",
   "metadata": {},
   "outputs": [
    {
     "data": {
      "text/plain": [
       "array([4, 2, 2, 4, 3, 4, 3, 4, 3, 2, 0, 3, 2, 3, 2, 2, 3, 2, 4, 4, 4, 2,\n",
       "       2, 3, 3, 4, 2, 0, 3, 2, 2, 3, 3, 3, 3, 2, 2, 3, 3, 4, 2, 3, 4, 0,\n",
       "       4, 3, 4, 4, 3, 2, 2, 0, 4, 2, 3, 3, 3, 4, 3, 4, 2, 2, 4, 3, 3, 4,\n",
       "       4, 4, 3, 3, 3])"
      ]
     },
     "execution_count": 298,
     "metadata": {},
     "output_type": "execute_result"
    }
   ],
   "source": [
    "model.predict_classes(mfcc_val_reloaded[3])"
   ]
  },
  {
   "cell_type": "code",
   "execution_count": 299,
   "id": "printable-cooking",
   "metadata": {},
   "outputs": [
    {
     "data": {
      "text/plain": [
       "array([3, 3, 3, 3, 3, 0, 3, 3, 3, 3, 3, 3, 3, 3, 3, 3, 3, 3, 3, 3, 3, 3,\n",
       "       3, 3, 3, 3, 3, 3, 3, 3, 3, 3, 3, 3, 3, 3, 3, 3, 3, 3, 3, 3, 3, 3,\n",
       "       3, 3, 3, 3, 3, 0, 3, 3, 3, 3, 3, 3, 3, 3, 3, 3, 3, 3, 3, 3, 3, 3,\n",
       "       3, 3, 3, 3, 3, 3, 3, 3, 3, 3, 3, 3, 3, 3, 3, 3, 3, 3, 3, 3, 3, 3,\n",
       "       4, 3, 0, 3, 3, 3, 3, 3])"
      ]
     },
     "execution_count": 299,
     "metadata": {},
     "output_type": "execute_result"
    }
   ],
   "source": [
    "model.predict_classes(mfcc_val_reloaded[4])"
   ]
  },
  {
   "cell_type": "code",
   "execution_count": null,
   "id": "conscious-orange",
   "metadata": {},
   "outputs": [],
   "source": []
  }
 ],
 "metadata": {
  "kernelspec": {
   "display_name": "Python 3",
   "language": "python",
   "name": "python3"
  },
  "language_info": {
   "codemirror_mode": {
    "name": "ipython",
    "version": 3
   },
   "file_extension": ".py",
   "mimetype": "text/x-python",
   "name": "python",
   "nbconvert_exporter": "python",
   "pygments_lexer": "ipython3",
   "version": "3.8.5"
  }
 },
 "nbformat": 4,
 "nbformat_minor": 5
}
