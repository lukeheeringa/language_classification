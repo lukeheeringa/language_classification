{
 "cells": [
  {
   "cell_type": "code",
   "execution_count": 1,
   "id": "latest-immunology",
   "metadata": {},
   "outputs": [],
   "source": [
    "import warnings\n",
    "warnings.filterwarnings('ignore')"
   ]
  },
  {
   "cell_type": "code",
   "execution_count": 2,
   "id": "upper-cedar",
   "metadata": {},
   "outputs": [],
   "source": [
    "import numpy as np\n",
    "import pickle\n",
    "import matplotlib.pyplot as plt\n",
    "import seaborn as sns\n",
    "import tensorflow.keras\n",
    "\n",
    "from os import listdir\n",
    "from sklearn.model_selection import train_test_split\n",
    "from sklearn.preprocessing import LabelEncoder\n",
    "from sklearn.metrics import confusion_matrix\n",
    "\n",
    "from tensorflow.keras.models import Sequential\n",
    "from tensorflow.keras.layers import Dense, Flatten, GRU, Dropout, BatchNormalization, SimpleRNN, Bidirectional\n",
    "#from keras.layers import , LSTM, MaxPooling1D, MaxPool2D, Conv1D, Conv2D, \n",
    "from tensorflow.keras.callbacks import EarlyStopping\n",
    "from keras.utils import np_utils"
   ]
  },
  {
   "cell_type": "code",
   "execution_count": 3,
   "id": "ranging-department",
   "metadata": {},
   "outputs": [],
   "source": [
    "trainpath = '../data/training/'\n",
    "valpath = '../data/validation/'\n",
    "\n",
    "mfcc_files = [trainpath + f for f in listdir(trainpath) if 'mfcc.pkl' in f]\n",
    "target_files = [trainpath + f for f in listdir(trainpath) if 'target.pkl' in f]\n",
    "\n",
    "mfcc_val = [valpath + f for f in listdir(valpath) if 'mfcc.pkl' in f]\n",
    "target_val = [valpath + f for f in listdir(valpath) if 'target.pkl' in f]\n",
    "\n",
    "mfcc_files.sort()\n",
    "target_files.sort()\n",
    "mfcc_val.sort()\n",
    "target_val.sort()"
   ]
  },
  {
   "cell_type": "code",
   "execution_count": 4,
   "id": "established-tuesday",
   "metadata": {},
   "outputs": [],
   "source": [
    "def reload(path):\n",
    "    with open(path, 'rb') as f:\n",
    "        return pickle.load(f)"
   ]
  },
  {
   "cell_type": "code",
   "execution_count": 5,
   "id": "automotive-billion",
   "metadata": {},
   "outputs": [],
   "source": [
    "train_mfcc_reloaded = [reload(f) for f in mfcc_files]\n",
    "train_target_reloaded = [reload(f) for f in target_files]\n",
    "\n",
    "val_mfcc_reloaded = [reload(f) for f in mfcc_val]\n",
    "val_target_reloaded = [reload(f) for f in target_val]"
   ]
  },
  {
   "cell_type": "code",
   "execution_count": 6,
   "id": "mental-penny",
   "metadata": {},
   "outputs": [],
   "source": [
    "X_train = np.concatenate(train_mfcc_reloaded)\n",
    "y_train = np.concatenate(train_target_reloaded)\n",
    "X_val = np.concatenate(val_mfcc_reloaded)\n",
    "y_val = np.concatenate(val_target_reloaded)"
   ]
  },
  {
   "cell_type": "code",
   "execution_count": 7,
   "id": "registered-lloyd",
   "metadata": {},
   "outputs": [],
   "source": [
    "# https://machinelearningmastery.com/multi-class-classification-tutorial-keras-deep-learning-library/\n",
    "# encode class values as integers\n",
    "encoder = LabelEncoder()\n",
    "encoder.fit(y_train)\n",
    "encoded_y_train = encoder.transform(y_train)\n",
    "enocded_y_val = encoder.transform(y_val)\n",
    "\n",
    "# convert integers to dummy variables (i.e. one hot encoded)\n",
    "dummy_y_train = np_utils.to_categorical(encoded_y_train)\n",
    "dummy_y_val = np_utils.to_categorical(enocded_y_val)"
   ]
  },
  {
   "cell_type": "code",
   "execution_count": 8,
   "id": "statistical-broad",
   "metadata": {},
   "outputs": [],
   "source": [
    "X_val = X_val.reshape(X_val.shape[0] // 157 // 10, 10, 157)"
   ]
  },
  {
   "cell_type": "code",
   "execution_count": 9,
   "id": "infectious-flour",
   "metadata": {},
   "outputs": [],
   "source": [
    "X_vtrain, X_vtest, y_vtrain, y_vtest = train_test_split(X_val, dummy_y_val, random_state=552)"
   ]
  },
  {
   "cell_type": "code",
   "execution_count": 10,
   "id": "nearby-behalf",
   "metadata": {},
   "outputs": [],
   "source": [
    "X = np.concatenate([X_train, X_vtrain])\n",
    "y = np.concatenate([dummy_y_train, y_vtrain])"
   ]
  },
  {
   "cell_type": "code",
   "execution_count": 16,
   "id": "comic-egypt",
   "metadata": {},
   "outputs": [],
   "source": [
    "X = X.reshape(X.shape[0], 10, 157, 1)\n",
    "X_vtest = X_vtest.reshape(X_vtest.shape[0], 10, 157, 1)"
   ]
  },
  {
   "cell_type": "code",
   "execution_count": 12,
   "id": "muslim-billion",
   "metadata": {},
   "outputs": [
    {
     "data": {
      "text/plain": [
       "(84506, 5)"
      ]
     },
     "execution_count": 12,
     "metadata": {},
     "output_type": "execute_result"
    }
   ],
   "source": [
    "y.shape"
   ]
  },
  {
   "cell_type": "code",
   "execution_count": 20,
   "id": "unable-wedding",
   "metadata": {},
   "outputs": [],
   "source": [
    "model = Sequential()\n",
    "model.add(BatchNormalization())\n",
    "model.add(Flatten())\n",
    "model.add(Dense(64, activation = 'relu'))\n",
    "model.add(Dropout(.2))\n",
    "model.add(Dense(64, activation = 'relu'))\n",
    "model.add(Dropout(.2))\n",
    "model.add(Dense(64, activation = 'relu'))\n",
    "model.add(Dense(5, activation = 'softmax'))\n",
    "model.compile(optimizer = 'adam', loss = 'categorical_crossentropy', metrics = ['acc'])"
   ]
  },
  {
   "cell_type": "code",
   "execution_count": 21,
   "id": "stunning-bishop",
   "metadata": {},
   "outputs": [],
   "source": [
    "earlystop = EarlyStopping(patience=5)"
   ]
  },
  {
   "cell_type": "code",
   "execution_count": 22,
   "id": "sunset-tucson",
   "metadata": {},
   "outputs": [
    {
     "name": "stdout",
     "output_type": "stream",
     "text": [
      "Epoch 1/50\n",
      "2641/2641 [==============================] - 9s 3ms/step - loss: 1.5423 - acc: 0.2899 - val_loss: 1.5325 - val_acc: 0.3304\n",
      "Epoch 2/50\n",
      "2641/2641 [==============================] - 8s 3ms/step - loss: 1.4313 - acc: 0.3749 - val_loss: 1.5092 - val_acc: 0.3279\n",
      "Epoch 3/50\n",
      "2641/2641 [==============================] - 7s 3ms/step - loss: 1.3923 - acc: 0.4078 - val_loss: 1.4876 - val_acc: 0.3485\n",
      "Epoch 4/50\n",
      "2641/2641 [==============================] - 7s 3ms/step - loss: 1.3628 - acc: 0.4260 - val_loss: 1.4981 - val_acc: 0.3383\n",
      "Epoch 5/50\n",
      "2641/2641 [==============================] - 7s 3ms/step - loss: 1.3456 - acc: 0.4346 - val_loss: 1.5228 - val_acc: 0.3126\n",
      "Epoch 6/50\n",
      "2641/2641 [==============================] - 7s 3ms/step - loss: 1.3337 - acc: 0.4399 - val_loss: 1.4734 - val_acc: 0.3487\n",
      "Epoch 7/50\n",
      "2641/2641 [==============================] - 7s 3ms/step - loss: 1.3200 - acc: 0.4484 - val_loss: 1.4781 - val_acc: 0.3618\n",
      "Epoch 8/50\n",
      "2641/2641 [==============================] - 7s 3ms/step - loss: 1.3092 - acc: 0.4509 - val_loss: 1.4658 - val_acc: 0.3681\n",
      "Epoch 9/50\n",
      "2641/2641 [==============================] - 7s 3ms/step - loss: 1.3018 - acc: 0.4571 - val_loss: 1.4476 - val_acc: 0.3620\n",
      "Epoch 10/50\n",
      "2641/2641 [==============================] - 7s 3ms/step - loss: 1.2908 - acc: 0.4611 - val_loss: 1.4611 - val_acc: 0.3580\n",
      "Epoch 11/50\n",
      "2641/2641 [==============================] - 7s 3ms/step - loss: 1.2854 - acc: 0.4627 - val_loss: 1.4571 - val_acc: 0.3684\n",
      "Epoch 12/50\n",
      "2641/2641 [==============================] - 7s 3ms/step - loss: 1.2797 - acc: 0.4680 - val_loss: 1.4458 - val_acc: 0.3660\n",
      "Epoch 13/50\n",
      "2641/2641 [==============================] - 7s 3ms/step - loss: 1.2731 - acc: 0.4711 - val_loss: 1.4442 - val_acc: 0.3777\n",
      "Epoch 14/50\n",
      "2641/2641 [==============================] - 7s 3ms/step - loss: 1.2692 - acc: 0.4742 - val_loss: 1.4221 - val_acc: 0.3864\n",
      "Epoch 15/50\n",
      "2641/2641 [==============================] - 7s 3ms/step - loss: 1.2630 - acc: 0.4764 - val_loss: 1.4351 - val_acc: 0.3868\n",
      "Epoch 16/50\n",
      "2641/2641 [==============================] - 7s 3ms/step - loss: 1.2581 - acc: 0.4767 - val_loss: 1.4500 - val_acc: 0.3858\n",
      "Epoch 17/50\n",
      "2641/2641 [==============================] - 7s 3ms/step - loss: 1.2530 - acc: 0.4806 - val_loss: 1.4316 - val_acc: 0.3977\n",
      "Epoch 18/50\n",
      "2641/2641 [==============================] - 7s 3ms/step - loss: 1.2462 - acc: 0.4871 - val_loss: 1.4240 - val_acc: 0.3930\n",
      "Epoch 19/50\n",
      "2641/2641 [==============================] - 7s 3ms/step - loss: 1.2441 - acc: 0.4851 - val_loss: 1.4363 - val_acc: 0.3745\n"
     ]
    }
   ],
   "source": [
    "history = model.fit(\n",
    "    x=X,\n",
    "    y=y,\n",
    "    validation_data=(X_vtest, y_vtest),\n",
    "    callbacks=[earlystop],\n",
    "    epochs=50\n",
    ")"
   ]
  },
  {
   "cell_type": "code",
   "execution_count": 23,
   "id": "isolated-aircraft",
   "metadata": {},
   "outputs": [
    {
     "data": {
      "image/png": "[encoded data removed]",
      "text/plain": [
       "<Figure size 432x288 with 1 Axes>"
      ]
     },
     "metadata": {
      "needs_background": "light"
     },
     "output_type": "display_data"
    }
   ],
   "source": [
    "# plot\n",
    "plt.plot(history.history['val_acc'], label = 'val acc')\n",
    "plt.plot(history.history['acc'], label = 'acc')\n",
    "plt.legend()\n",
    "plt.title('Results');"
   ]
  },
  {
   "cell_type": "code",
   "execution_count": 24,
   "id": "expensive-equality",
   "metadata": {},
   "outputs": [],
   "source": [
    "y_out = np.apply_along_axis(np.argmax, axis=1, arr=y_vtest)"
   ]
  },
  {
   "cell_type": "code",
   "execution_count": 25,
   "id": "consolidated-tradition",
   "metadata": {},
   "outputs": [],
   "source": [
    "cm = confusion_matrix(y_out, model.predict_classes(X_vtest))"
   ]
  },
  {
   "cell_type": "code",
   "execution_count": 26,
   "id": "moderate-thought",
   "metadata": {},
   "outputs": [
    {
     "data": {
      "text/plain": [
       "array([[ 553,  109,  361,  614,   93],\n",
       "       [ 582,  368,  197,  530,   47],\n",
       "       [ 331,   97,  594,  713,   78],\n",
       "       [ 100,   86,   89, 1401,   55],\n",
       "       [ 284,  147,  131,  827,  360]])"
      ]
     },
     "execution_count": 26,
     "metadata": {},
     "output_type": "execute_result"
    }
   ],
   "source": [
    "cm"
   ]
  },
  {
   "cell_type": "code",
   "execution_count": 27,
   "id": "prostate-muslim",
   "metadata": {},
   "outputs": [
    {
     "data": {
      "text/plain": [
       "array([[1730],\n",
       "       [1724],\n",
       "       [1813],\n",
       "       [1731],\n",
       "       [1749]])"
      ]
     },
     "execution_count": 27,
     "metadata": {},
     "output_type": "execute_result"
    }
   ],
   "source": [
    "cm.sum(axis=1, keepdims=True)"
   ]
  },
  {
   "cell_type": "code",
   "execution_count": 28,
   "id": "interim-state",
   "metadata": {},
   "outputs": [],
   "source": [
    "cm_norm = np.true_divide(cm, cm.sum(axis=1, keepdims=True))"
   ]
  },
  {
   "cell_type": "code",
   "execution_count": 29,
   "id": "brave-baghdad",
   "metadata": {},
   "outputs": [
    {
     "data": {
      "image/png": "[encoded data removed]",
      "text/plain": [
       "<Figure size 720x576 with 2 Axes>"
      ]
     },
     "metadata": {
      "needs_background": "light"
     },
     "output_type": "display_data"
    }
   ],
   "source": [
    "plt.figure(figsize=(10, 8))\n",
    "sns.heatmap(cm_norm, annot=True, vmin=0, vmax=1, fmt='g', xticklabels=encoder.classes_, yticklabels=encoder.classes_)\n",
    "plt.xlabel(\"Predicted\")\n",
    "plt.ylabel(\"True\")\n",
    "plt.title(\"Language Classification Confusion Matrix\")\n",
    "plt.show()"
   ]
  }
 ],
 "metadata": {
  "kernelspec": {
   "display_name": "Python 3",
   "language": "python",
   "name": "python3"
  },
  "language_info": {
   "codemirror_mode": {
    "name": "ipython",
    "version": 3
   },
   "file_extension": ".py",
   "mimetype": "text/x-python",
   "name": "python",
   "nbconvert_exporter": "python",
   "pygments_lexer": "ipython3",
   "version": "3.8.5"
  }
 },
 "nbformat": 4,
 "nbformat_minor": 5
}
