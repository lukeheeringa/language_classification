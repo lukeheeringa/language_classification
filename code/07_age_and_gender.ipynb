{
 "cells": [
  {
   "cell_type": "markdown",
   "id": "isolated-pregnancy",
   "metadata": {},
   "source": [
    "#### Exploratory Data Analysis: Part 1"
   ]
  },
  {
   "cell_type": "markdown",
   "id": "extreme-brown",
   "metadata": {},
   "source": [
    "This notebook contains analysis of the gender and age labels collected from two of the sources."
   ]
  },
  {
   "cell_type": "code",
   "execution_count": 108,
   "id": "consolidated-holocaust",
   "metadata": {},
   "outputs": [],
   "source": [
    "import numpy as np\n",
    "import pandas as pd"
   ]
  },
  {
   "cell_type": "markdown",
   "id": "attached-rings",
   "metadata": {},
   "source": [
    "The audiolingua files"
   ]
  },
  {
   "cell_type": "code",
   "execution_count": 2,
   "id": "ambient-gathering",
   "metadata": {},
   "outputs": [],
   "source": [
    "df_1 = pd.read_csv('../audio/1_audiolingua/file_listing.csv')"
   ]
  },
  {
   "cell_type": "markdown",
   "id": "downtown-penetration",
   "metadata": {},
   "source": [
    "The voxforge files"
   ]
  },
  {
   "cell_type": "code",
   "execution_count": 4,
   "id": "contemporary-chile",
   "metadata": {},
   "outputs": [],
   "source": [
    "df_4 = pd.read_csv('../audio/4_voxforge/filelisting.csv')"
   ]
  },
  {
   "cell_type": "markdown",
   "id": "gothic-haven",
   "metadata": {},
   "source": [
    "Examine"
   ]
  },
  {
   "cell_type": "code",
   "execution_count": 7,
   "id": "returning-coating",
   "metadata": {},
   "outputs": [
    {
     "data": {
      "text/html": [
       "<div>\n",
       "<style scoped>\n",
       "    .dataframe tbody tr th:only-of-type {\n",
       "        vertical-align: middle;\n",
       "    }\n",
       "\n",
       "    .dataframe tbody tr th {\n",
       "        vertical-align: top;\n",
       "    }\n",
       "\n",
       "    .dataframe thead th {\n",
       "        text-align: right;\n",
       "    }\n",
       "</style>\n",
       "<table border=\"1\" class=\"dataframe\">\n",
       "  <thead>\n",
       "    <tr style=\"text-align: right;\">\n",
       "      <th></th>\n",
       "      <th>file_name</th>\n",
       "      <th>language</th>\n",
       "      <th>labels</th>\n",
       "    </tr>\n",
       "  </thead>\n",
       "  <tbody>\n",
       "    <tr>\n",
       "      <th>0</th>\n",
       "      <td>hanna_pancakes</td>\n",
       "      <td>en</td>\n",
       "      <td>['A1', 'female', 'adult', '30-60 seconds', 'fo...</td>\n",
       "    </tr>\n",
       "    <tr>\n",
       "      <th>1</th>\n",
       "      <td>sport_australia_matt</td>\n",
       "      <td>en</td>\n",
       "      <td>['B1', 'male', 'adult', '120-180 seconds', 'my...</td>\n",
       "    </tr>\n",
       "    <tr>\n",
       "      <th>2</th>\n",
       "      <td>guess_who_melissa</td>\n",
       "      <td>en</td>\n",
       "      <td>['A2', 'female', 'adult', '30-60 seconds', 'ce...</td>\n",
       "    </tr>\n",
       "    <tr>\n",
       "      <th>3</th>\n",
       "      <td>who_was_he_lisa</td>\n",
       "      <td>en</td>\n",
       "      <td>['A2', 'female', 'adult', '30-60 seconds', 'ce...</td>\n",
       "    </tr>\n",
       "    <tr>\n",
       "      <th>4</th>\n",
       "      <td>gettysburg_address</td>\n",
       "      <td>en</td>\n",
       "      <td>['B1', 'male', 'adult', '120-180 seconds', 'hi...</td>\n",
       "    </tr>\n",
       "  </tbody>\n",
       "</table>\n",
       "</div>"
      ],
      "text/plain": [
       "              file_name language  \\\n",
       "0        hanna_pancakes       en   \n",
       "1  sport_australia_matt       en   \n",
       "2     guess_who_melissa       en   \n",
       "3       who_was_he_lisa       en   \n",
       "4    gettysburg_address       en   \n",
       "\n",
       "                                              labels  \n",
       "0  ['A1', 'female', 'adult', '30-60 seconds', 'fo...  \n",
       "1  ['B1', 'male', 'adult', '120-180 seconds', 'my...  \n",
       "2  ['A2', 'female', 'adult', '30-60 seconds', 'ce...  \n",
       "3  ['A2', 'female', 'adult', '30-60 seconds', 'ce...  \n",
       "4  ['B1', 'male', 'adult', '120-180 seconds', 'hi...  "
      ]
     },
     "execution_count": 7,
     "metadata": {},
     "output_type": "execute_result"
    }
   ],
   "source": [
    "df_1.head()"
   ]
  },
  {
   "cell_type": "markdown",
   "id": "suspected-grove",
   "metadata": {},
   "source": [
    "The labels were originally lists but were saved as strings"
   ]
  },
  {
   "cell_type": "code",
   "execution_count": 8,
   "id": "liked-window",
   "metadata": {},
   "outputs": [
    {
     "data": {
      "text/plain": [
       "\"['A1', 'female', 'adult', '30-60 seconds', 'food', 'recipe']\""
      ]
     },
     "execution_count": 8,
     "metadata": {},
     "output_type": "execute_result"
    }
   ],
   "source": [
    "df_1.loc[0, 'labels']"
   ]
  },
  {
   "cell_type": "code",
   "execution_count": 47,
   "id": "enabling-artwork",
   "metadata": {},
   "outputs": [],
   "source": [
    "def grab_gender_1(x):\n",
    "    \"\"\"\n",
    "    Returns the gender from an entry's list of labels\n",
    "    \n",
    "    Parameters:\n",
    "        x (str) : list of labels\n",
    "    \n",
    "    Returns:\n",
    "        gender (str) : one of 'female', 'male', 'mixed', or 'unknown'\n",
    "    \"\"\"\n",
    "    if \"'female'\" in x and \"'male'\" in x:\n",
    "        return 'mixed'\n",
    "    elif \"'female'\" in x:\n",
    "        return 'female'\n",
    "    elif \"'male'\" in x:\n",
    "        return 'male'\n",
    "    else:\n",
    "        return 'unknown'\n",
    "    \n",
    "v_gender_1 = np.vectorize(grab_gender_1)"
   ]
  },
  {
   "cell_type": "code",
   "execution_count": 80,
   "id": "informational-proportion",
   "metadata": {},
   "outputs": [],
   "source": [
    "def grab_age_1(x):\n",
    "    \"\"\"\n",
    "    Returns the age group from an entry's list of labels\n",
    "    \n",
    "    Parameters:\n",
    "        x (str) : list of labels\n",
    "    \n",
    "    Returns:\n",
    "        age (str) : one of 'adult', 'teenager', 'child', 'senior', or 'unknown'\n",
    "    \"\"\"\n",
    "    if \"'adult'\" in x:\n",
    "        return 'adult'\n",
    "    elif \"'teenager'\" in x:\n",
    "        return 'teenager'\n",
    "    elif \"'child'\" in x:\n",
    "        return 'child'\n",
    "    elif \"'senior citizens'\" in x:\n",
    "        return 'senior'\n",
    "    else:\n",
    "        return 'unknown'\n",
    "\n",
    "v_age_1 = np.vectorize(grab_age_1)"
   ]
  },
  {
   "cell_type": "code",
   "execution_count": 81,
   "id": "functional-environment",
   "metadata": {},
   "outputs": [],
   "source": [
    "df_1['gender'] = v_gender_1(df_1['labels'])"
   ]
  },
  {
   "cell_type": "code",
   "execution_count": 82,
   "id": "hired-clearance",
   "metadata": {},
   "outputs": [],
   "source": [
    "df_1['age'] = v_age_1(df_1['labels'])"
   ]
  },
  {
   "cell_type": "code",
   "execution_count": 83,
   "id": "generic-encounter",
   "metadata": {},
   "outputs": [
    {
     "data": {
      "text/html": [
       "<div>\n",
       "<style scoped>\n",
       "    .dataframe tbody tr th:only-of-type {\n",
       "        vertical-align: middle;\n",
       "    }\n",
       "\n",
       "    .dataframe tbody tr th {\n",
       "        vertical-align: top;\n",
       "    }\n",
       "\n",
       "    .dataframe thead th {\n",
       "        text-align: right;\n",
       "    }\n",
       "</style>\n",
       "<table border=\"1\" class=\"dataframe\">\n",
       "  <thead>\n",
       "    <tr style=\"text-align: right;\">\n",
       "      <th></th>\n",
       "      <th>file_name</th>\n",
       "      <th>language</th>\n",
       "      <th>labels</th>\n",
       "      <th>gender</th>\n",
       "      <th>age</th>\n",
       "    </tr>\n",
       "  </thead>\n",
       "  <tbody>\n",
       "    <tr>\n",
       "      <th>0</th>\n",
       "      <td>hanna_pancakes</td>\n",
       "      <td>en</td>\n",
       "      <td>['A1', 'female', 'adult', '30-60 seconds', 'fo...</td>\n",
       "      <td>female</td>\n",
       "      <td>adult</td>\n",
       "    </tr>\n",
       "    <tr>\n",
       "      <th>1</th>\n",
       "      <td>sport_australia_matt</td>\n",
       "      <td>en</td>\n",
       "      <td>['B1', 'male', 'adult', '120-180 seconds', 'my...</td>\n",
       "      <td>male</td>\n",
       "      <td>adult</td>\n",
       "    </tr>\n",
       "    <tr>\n",
       "      <th>2</th>\n",
       "      <td>guess_who_melissa</td>\n",
       "      <td>en</td>\n",
       "      <td>['A2', 'female', 'adult', '30-60 seconds', 'ce...</td>\n",
       "      <td>female</td>\n",
       "      <td>adult</td>\n",
       "    </tr>\n",
       "    <tr>\n",
       "      <th>3</th>\n",
       "      <td>who_was_he_lisa</td>\n",
       "      <td>en</td>\n",
       "      <td>['A2', 'female', 'adult', '30-60 seconds', 'ce...</td>\n",
       "      <td>female</td>\n",
       "      <td>adult</td>\n",
       "    </tr>\n",
       "    <tr>\n",
       "      <th>4</th>\n",
       "      <td>gettysburg_address</td>\n",
       "      <td>en</td>\n",
       "      <td>['B1', 'male', 'adult', '120-180 seconds', 'hi...</td>\n",
       "      <td>male</td>\n",
       "      <td>adult</td>\n",
       "    </tr>\n",
       "  </tbody>\n",
       "</table>\n",
       "</div>"
      ],
      "text/plain": [
       "              file_name language  \\\n",
       "0        hanna_pancakes       en   \n",
       "1  sport_australia_matt       en   \n",
       "2     guess_who_melissa       en   \n",
       "3       who_was_he_lisa       en   \n",
       "4    gettysburg_address       en   \n",
       "\n",
       "                                              labels  gender    age  \n",
       "0  ['A1', 'female', 'adult', '30-60 seconds', 'fo...  female  adult  \n",
       "1  ['B1', 'male', 'adult', '120-180 seconds', 'my...    male  adult  \n",
       "2  ['A2', 'female', 'adult', '30-60 seconds', 'ce...  female  adult  \n",
       "3  ['A2', 'female', 'adult', '30-60 seconds', 'ce...  female  adult  \n",
       "4  ['B1', 'male', 'adult', '120-180 seconds', 'hi...    male  adult  "
      ]
     },
     "execution_count": 83,
     "metadata": {},
     "output_type": "execute_result"
    }
   ],
   "source": [
    "df_1.head()"
   ]
  },
  {
   "cell_type": "markdown",
   "id": "accepted-overhead",
   "metadata": {},
   "source": [
    "Examination of the gender distribution of audiolingua samples:"
   ]
  },
  {
   "cell_type": "code",
   "execution_count": 84,
   "id": "effective-processor",
   "metadata": {},
   "outputs": [
    {
     "data": {
      "text/plain": [
       "female     444\n",
       "male       158\n",
       "mixed       21\n",
       "unknown      5\n",
       "Name: gender, dtype: int64"
      ]
     },
     "execution_count": 84,
     "metadata": {},
     "output_type": "execute_result"
    }
   ],
   "source": [
    "df_1['gender'].value_counts()"
   ]
  },
  {
   "cell_type": "markdown",
   "id": "periodic-amendment",
   "metadata": {},
   "source": [
    "Although the majority of samples are from female speakers, there is a mix of some male speakers and some audio files with speakers of varying genders"
   ]
  },
  {
   "cell_type": "markdown",
   "id": "precise-london",
   "metadata": {},
   "source": [
    "Inspection of samples without gender labels:"
   ]
  },
  {
   "cell_type": "code",
   "execution_count": 85,
   "id": "emotional-colony",
   "metadata": {},
   "outputs": [
    {
     "data": {
      "text/html": [
       "<div>\n",
       "<style scoped>\n",
       "    .dataframe tbody tr th:only-of-type {\n",
       "        vertical-align: middle;\n",
       "    }\n",
       "\n",
       "    .dataframe tbody tr th {\n",
       "        vertical-align: top;\n",
       "    }\n",
       "\n",
       "    .dataframe thead th {\n",
       "        text-align: right;\n",
       "    }\n",
       "</style>\n",
       "<table border=\"1\" class=\"dataframe\">\n",
       "  <thead>\n",
       "    <tr style=\"text-align: right;\">\n",
       "      <th></th>\n",
       "      <th>file_name</th>\n",
       "      <th>language</th>\n",
       "      <th>labels</th>\n",
       "      <th>gender</th>\n",
       "      <th>age</th>\n",
       "    </tr>\n",
       "  </thead>\n",
       "  <tbody>\n",
       "    <tr>\n",
       "      <th>153</th>\n",
       "      <td>miss_awesome_-ailsa</td>\n",
       "      <td>en</td>\n",
       "      <td>['A2', '30-60 seconds', 'cinema', 'physical de...</td>\n",
       "      <td>unknown</td>\n",
       "      <td>unknown</td>\n",
       "    </tr>\n",
       "    <tr>\n",
       "      <th>354</th>\n",
       "      <td>sophia_-_queen-2</td>\n",
       "      <td>en</td>\n",
       "      <td>[]</td>\n",
       "      <td>unknown</td>\n",
       "      <td>unknown</td>\n",
       "    </tr>\n",
       "    <tr>\n",
       "      <th>403</th>\n",
       "      <td>_2_-3</td>\n",
       "      <td>zh</td>\n",
       "      <td>['celebrities', 'environmentalism', 'my roots'...</td>\n",
       "      <td>unknown</td>\n",
       "      <td>unknown</td>\n",
       "    </tr>\n",
       "    <tr>\n",
       "      <th>404</th>\n",
       "      <td>_partie1</td>\n",
       "      <td>zh</td>\n",
       "      <td>['celebrities', 'environmentalism', 'my roots'...</td>\n",
       "      <td>unknown</td>\n",
       "      <td>unknown</td>\n",
       "    </tr>\n",
       "    <tr>\n",
       "      <th>411</th>\n",
       "      <td>-38</td>\n",
       "      <td>zh</td>\n",
       "      <td>['A2', 'B1', 'school', 'high school', 'daily']</td>\n",
       "      <td>unknown</td>\n",
       "      <td>unknown</td>\n",
       "    </tr>\n",
       "  </tbody>\n",
       "</table>\n",
       "</div>"
      ],
      "text/plain": [
       "               file_name language  \\\n",
       "153  miss_awesome_-ailsa       en   \n",
       "354     sophia_-_queen-2       en   \n",
       "403                _2_-3       zh   \n",
       "404             _partie1       zh   \n",
       "411                  -38       zh   \n",
       "\n",
       "                                                labels   gender      age  \n",
       "153  ['A2', '30-60 seconds', 'cinema', 'physical de...  unknown  unknown  \n",
       "354                                                 []  unknown  unknown  \n",
       "403  ['celebrities', 'environmentalism', 'my roots'...  unknown  unknown  \n",
       "404  ['celebrities', 'environmentalism', 'my roots'...  unknown  unknown  \n",
       "411     ['A2', 'B1', 'school', 'high school', 'daily']  unknown  unknown  "
      ]
     },
     "execution_count": 85,
     "metadata": {},
     "output_type": "execute_result"
    }
   ],
   "source": [
    "df_1[df_1['gender'] == 'unknown']"
   ]
  },
  {
   "cell_type": "markdown",
   "id": "developed-gazette",
   "metadata": {},
   "source": [
    "Examination of the age labels of audiolingua samples:"
   ]
  },
  {
   "cell_type": "code",
   "execution_count": 86,
   "id": "seventh-integrity",
   "metadata": {},
   "outputs": [
    {
     "data": {
      "text/plain": [
       "adult       498\n",
       "teenager     81\n",
       "senior       21\n",
       "child        16\n",
       "unknown      12\n",
       "Name: age, dtype: int64"
      ]
     },
     "execution_count": 86,
     "metadata": {},
     "output_type": "execute_result"
    }
   ],
   "source": [
    "df_1['age'].value_counts()"
   ]
  },
  {
   "cell_type": "markdown",
   "id": "pharmaceutical-taylor",
   "metadata": {},
   "source": [
    "Although the majority of samples are from adult speakers, there is a mix of age groups represented"
   ]
  },
  {
   "cell_type": "markdown",
   "id": "varied-upset",
   "metadata": {},
   "source": [
    "Inspection of samples without age labels:"
   ]
  },
  {
   "cell_type": "code",
   "execution_count": 87,
   "id": "forward-humor",
   "metadata": {},
   "outputs": [
    {
     "data": {
      "text/html": [
       "<div>\n",
       "<style scoped>\n",
       "    .dataframe tbody tr th:only-of-type {\n",
       "        vertical-align: middle;\n",
       "    }\n",
       "\n",
       "    .dataframe tbody tr th {\n",
       "        vertical-align: top;\n",
       "    }\n",
       "\n",
       "    .dataframe thead th {\n",
       "        text-align: right;\n",
       "    }\n",
       "</style>\n",
       "<table border=\"1\" class=\"dataframe\">\n",
       "  <thead>\n",
       "    <tr style=\"text-align: right;\">\n",
       "      <th></th>\n",
       "      <th>file_name</th>\n",
       "      <th>language</th>\n",
       "      <th>labels</th>\n",
       "      <th>gender</th>\n",
       "      <th>age</th>\n",
       "    </tr>\n",
       "  </thead>\n",
       "  <tbody>\n",
       "    <tr>\n",
       "      <th>57</th>\n",
       "      <td>shambles_3</td>\n",
       "      <td>en</td>\n",
       "      <td>['B1', 'female', 'male', '30-60 seconds', 'cin...</td>\n",
       "      <td>mixed</td>\n",
       "      <td>unknown</td>\n",
       "    </tr>\n",
       "    <tr>\n",
       "      <th>153</th>\n",
       "      <td>miss_awesome_-ailsa</td>\n",
       "      <td>en</td>\n",
       "      <td>['A2', '30-60 seconds', 'cinema', 'physical de...</td>\n",
       "      <td>unknown</td>\n",
       "      <td>unknown</td>\n",
       "    </tr>\n",
       "    <tr>\n",
       "      <th>171</th>\n",
       "      <td>painting_3</td>\n",
       "      <td>en</td>\n",
       "      <td>['A2', 'male', '0-30 seconds', 'art']</td>\n",
       "      <td>male</td>\n",
       "      <td>unknown</td>\n",
       "    </tr>\n",
       "    <tr>\n",
       "      <th>203</th>\n",
       "      <td>grinch</td>\n",
       "      <td>en</td>\n",
       "      <td>['A1', 'female', 'male', '0-30 seconds', 'read...</td>\n",
       "      <td>mixed</td>\n",
       "      <td>unknown</td>\n",
       "    </tr>\n",
       "    <tr>\n",
       "      <th>352</th>\n",
       "      <td>thje_stinky_cheese_man_-_kathleen_andrew</td>\n",
       "      <td>en</td>\n",
       "      <td>['A2', 'female', 'male', '30-60 seconds', 'rea...</td>\n",
       "      <td>mixed</td>\n",
       "      <td>unknown</td>\n",
       "    </tr>\n",
       "    <tr>\n",
       "      <th>354</th>\n",
       "      <td>sophia_-_queen-2</td>\n",
       "      <td>en</td>\n",
       "      <td>[]</td>\n",
       "      <td>unknown</td>\n",
       "      <td>unknown</td>\n",
       "    </tr>\n",
       "    <tr>\n",
       "      <th>403</th>\n",
       "      <td>_2_-3</td>\n",
       "      <td>zh</td>\n",
       "      <td>['celebrities', 'environmentalism', 'my roots'...</td>\n",
       "      <td>unknown</td>\n",
       "      <td>unknown</td>\n",
       "    </tr>\n",
       "    <tr>\n",
       "      <th>404</th>\n",
       "      <td>_partie1</td>\n",
       "      <td>zh</td>\n",
       "      <td>['celebrities', 'environmentalism', 'my roots'...</td>\n",
       "      <td>unknown</td>\n",
       "      <td>unknown</td>\n",
       "    </tr>\n",
       "    <tr>\n",
       "      <th>411</th>\n",
       "      <td>-38</td>\n",
       "      <td>zh</td>\n",
       "      <td>['A2', 'B1', 'school', 'high school', 'daily']</td>\n",
       "      <td>unknown</td>\n",
       "      <td>unknown</td>\n",
       "    </tr>\n",
       "    <tr>\n",
       "      <th>467</th>\n",
       "      <td>duihua_diergehaizi</td>\n",
       "      <td>zh</td>\n",
       "      <td>['B1', 'female', 'male', '60-90 seconds', 'fam...</td>\n",
       "      <td>mixed</td>\n",
       "      <td>unknown</td>\n",
       "    </tr>\n",
       "    <tr>\n",
       "      <th>468</th>\n",
       "      <td>liu_xue</td>\n",
       "      <td>zh</td>\n",
       "      <td>['A2', 'female', '30-60 seconds', 'education',...</td>\n",
       "      <td>female</td>\n",
       "      <td>unknown</td>\n",
       "    </tr>\n",
       "    <tr>\n",
       "      <th>478</th>\n",
       "      <td>kongchaolaoren</td>\n",
       "      <td>zh</td>\n",
       "      <td>['B1', 'female', 'male', '60-90 seconds', 'fam...</td>\n",
       "      <td>mixed</td>\n",
       "      <td>unknown</td>\n",
       "    </tr>\n",
       "  </tbody>\n",
       "</table>\n",
       "</div>"
      ],
      "text/plain": [
       "                                    file_name language  \\\n",
       "57                                 shambles_3       en   \n",
       "153                       miss_awesome_-ailsa       en   \n",
       "171                                painting_3       en   \n",
       "203                                    grinch       en   \n",
       "352  thje_stinky_cheese_man_-_kathleen_andrew       en   \n",
       "354                          sophia_-_queen-2       en   \n",
       "403                                     _2_-3       zh   \n",
       "404                                  _partie1       zh   \n",
       "411                                       -38       zh   \n",
       "467                        duihua_diergehaizi       zh   \n",
       "468                                   liu_xue       zh   \n",
       "478                            kongchaolaoren       zh   \n",
       "\n",
       "                                                labels   gender      age  \n",
       "57   ['B1', 'female', 'male', '30-60 seconds', 'cin...    mixed  unknown  \n",
       "153  ['A2', '30-60 seconds', 'cinema', 'physical de...  unknown  unknown  \n",
       "171              ['A2', 'male', '0-30 seconds', 'art']     male  unknown  \n",
       "203  ['A1', 'female', 'male', '0-30 seconds', 'read...    mixed  unknown  \n",
       "352  ['A2', 'female', 'male', '30-60 seconds', 'rea...    mixed  unknown  \n",
       "354                                                 []  unknown  unknown  \n",
       "403  ['celebrities', 'environmentalism', 'my roots'...  unknown  unknown  \n",
       "404  ['celebrities', 'environmentalism', 'my roots'...  unknown  unknown  \n",
       "411     ['A2', 'B1', 'school', 'high school', 'daily']  unknown  unknown  \n",
       "467  ['B1', 'female', 'male', '60-90 seconds', 'fam...    mixed  unknown  \n",
       "468  ['A2', 'female', '30-60 seconds', 'education',...   female  unknown  \n",
       "478  ['B1', 'female', 'male', '60-90 seconds', 'fam...    mixed  unknown  "
      ]
     },
     "execution_count": 87,
     "metadata": {},
     "output_type": "execute_result"
    }
   ],
   "source": [
    "df_1[df_1['age'] == 'unknown']"
   ]
  },
  {
   "cell_type": "markdown",
   "id": "great-database",
   "metadata": {},
   "source": [
    "Inspection of gender labels by language:"
   ]
  },
  {
   "cell_type": "code",
   "execution_count": 89,
   "id": "appreciated-recovery",
   "metadata": {},
   "outputs": [
    {
     "data": {
      "text/plain": [
       "language  gender \n",
       "en        female     269\n",
       "          male       120\n",
       "          mixed        8\n",
       "          unknown      2\n",
       "zh        female     175\n",
       "          male        38\n",
       "          mixed       13\n",
       "          unknown      3\n",
       "Name: file_name, dtype: int64"
      ]
     },
     "execution_count": 89,
     "metadata": {},
     "output_type": "execute_result"
    }
   ],
   "source": [
    "df_1.groupby(by=['language', 'gender']).count()['file_name']"
   ]
  },
  {
   "cell_type": "markdown",
   "id": "useful-regulation",
   "metadata": {},
   "source": [
    "Distribution is similar across languages."
   ]
  },
  {
   "cell_type": "markdown",
   "id": "formed-integrity",
   "metadata": {},
   "source": [
    "Inspection of age group labels by language:"
   ]
  },
  {
   "cell_type": "code",
   "execution_count": 90,
   "id": "retired-insertion",
   "metadata": {},
   "outputs": [
    {
     "data": {
      "text/plain": [
       "language  age     \n",
       "en        adult       299\n",
       "          child        14\n",
       "          senior       21\n",
       "          teenager     59\n",
       "          unknown       6\n",
       "zh        adult       199\n",
       "          child         2\n",
       "          teenager     22\n",
       "          unknown       6\n",
       "Name: file_name, dtype: int64"
      ]
     },
     "execution_count": 90,
     "metadata": {},
     "output_type": "execute_result"
    }
   ],
   "source": [
    "df_1.groupby(by=['language', 'age']).count()['file_name']"
   ]
  },
  {
   "cell_type": "markdown",
   "id": "angry-transcription",
   "metadata": {},
   "source": [
    "Distribution is similar across languages, though there aren't any Mandarin samples labeled as being from seniors."
   ]
  },
  {
   "cell_type": "markdown",
   "id": "worse-glance",
   "metadata": {},
   "source": [
    "Examination of samples from voxforge:"
   ]
  },
  {
   "cell_type": "code",
   "execution_count": 78,
   "id": "forty-pride",
   "metadata": {},
   "outputs": [
    {
     "data": {
      "text/html": [
       "<div>\n",
       "<style scoped>\n",
       "    .dataframe tbody tr th:only-of-type {\n",
       "        vertical-align: middle;\n",
       "    }\n",
       "\n",
       "    .dataframe tbody tr th {\n",
       "        vertical-align: top;\n",
       "    }\n",
       "\n",
       "    .dataframe thead th {\n",
       "        text-align: right;\n",
       "    }\n",
       "</style>\n",
       "<table border=\"1\" class=\"dataframe\">\n",
       "  <thead>\n",
       "    <tr style=\"text-align: right;\">\n",
       "      <th></th>\n",
       "      <th>sample_number</th>\n",
       "      <th>age</th>\n",
       "      <th>dialect</th>\n",
       "      <th>gender</th>\n",
       "      <th>language</th>\n",
       "      <th>samples</th>\n",
       "    </tr>\n",
       "  </thead>\n",
       "  <tbody>\n",
       "    <tr>\n",
       "      <th>0</th>\n",
       "      <td>es0000</td>\n",
       "      <td>Age Range: Adulto</td>\n",
       "      <td>Pronunciation dialect: Español España</td>\n",
       "      <td>Gender: Masculino</td>\n",
       "      <td>es</td>\n",
       "      <td>['es0000-000', 'es0000-001', 'es0000-002', 'es...</td>\n",
       "    </tr>\n",
       "    <tr>\n",
       "      <th>1</th>\n",
       "      <td>es0001</td>\n",
       "      <td>Age Range: Adulto</td>\n",
       "      <td>Pronunciation dialect: Español España</td>\n",
       "      <td>Gender: Masculino</td>\n",
       "      <td>es</td>\n",
       "      <td>['es0001-000', 'es0001-001', 'es0001-002', 'es...</td>\n",
       "    </tr>\n",
       "    <tr>\n",
       "      <th>2</th>\n",
       "      <td>es0002</td>\n",
       "      <td>Age Range: Adulto</td>\n",
       "      <td>Pronunciation dialect: Español Argentina</td>\n",
       "      <td>Gender: Masculino</td>\n",
       "      <td>es</td>\n",
       "      <td>['es0002-000', 'es0002-001', 'es0002-002', 'es...</td>\n",
       "    </tr>\n",
       "    <tr>\n",
       "      <th>3</th>\n",
       "      <td>es0003</td>\n",
       "      <td>Age Range: Adulto</td>\n",
       "      <td>Pronunciation dialect: Español Mexicano</td>\n",
       "      <td>Gender: Masculino</td>\n",
       "      <td>es</td>\n",
       "      <td>['es0003-000', 'es0003-001', 'es0003-002', 'es...</td>\n",
       "    </tr>\n",
       "    <tr>\n",
       "      <th>4</th>\n",
       "      <td>es0004</td>\n",
       "      <td>Age Range: Adulto</td>\n",
       "      <td>Pronunciation dialect: Español Argentina</td>\n",
       "      <td>Gender: Masculino</td>\n",
       "      <td>es</td>\n",
       "      <td>['es0004-000', 'es0004-001', 'es0004-002', 'es...</td>\n",
       "    </tr>\n",
       "  </tbody>\n",
       "</table>\n",
       "</div>"
      ],
      "text/plain": [
       "  sample_number                age                                   dialect  \\\n",
       "0        es0000  Age Range: Adulto     Pronunciation dialect: Español España   \n",
       "1        es0001  Age Range: Adulto     Pronunciation dialect: Español España   \n",
       "2        es0002  Age Range: Adulto  Pronunciation dialect: Español Argentina   \n",
       "3        es0003  Age Range: Adulto   Pronunciation dialect: Español Mexicano   \n",
       "4        es0004  Age Range: Adulto  Pronunciation dialect: Español Argentina   \n",
       "\n",
       "              gender language  \\\n",
       "0  Gender: Masculino       es   \n",
       "1  Gender: Masculino       es   \n",
       "2  Gender: Masculino       es   \n",
       "3  Gender: Masculino       es   \n",
       "4  Gender: Masculino       es   \n",
       "\n",
       "                                             samples  \n",
       "0  ['es0000-000', 'es0000-001', 'es0000-002', 'es...  \n",
       "1  ['es0001-000', 'es0001-001', 'es0001-002', 'es...  \n",
       "2  ['es0002-000', 'es0002-001', 'es0002-002', 'es...  \n",
       "3  ['es0003-000', 'es0003-001', 'es0003-002', 'es...  \n",
       "4  ['es0004-000', 'es0004-001', 'es0004-002', 'es...  "
      ]
     },
     "execution_count": 78,
     "metadata": {},
     "output_type": "execute_result"
    }
   ],
   "source": [
    "df_4.head()"
   ]
  },
  {
   "cell_type": "markdown",
   "id": "proper-swimming",
   "metadata": {},
   "source": [
    "Listing of age value types:"
   ]
  },
  {
   "cell_type": "code",
   "execution_count": 79,
   "id": "varied-customs",
   "metadata": {},
   "outputs": [
    {
     "data": {
      "text/plain": [
       "Age Range: Adulto                  571\n",
       "Age Range: Adulte                  498\n",
       "Age Range: Adult                   480\n",
       "Age Range: Jeune                    92\n",
       "Age Range: Senior                   58\n",
       "Age Range: Youth                    47\n",
       "Age Range: Please Select            16\n",
       "Age Range: Niño                     13\n",
       "Age Range: desconocido               7\n",
       "Age range: adult;                    6\n",
       "User Name:BlueAgent                  2\n",
       "Age range: adult                     2\n",
       "Age Range: inconnu                   1\n",
       "Age range: youth;                    1\n",
       "Age Range: adult                     1\n",
       "Age Range: Tercera Edad              1\n",
       "Age Range: Por favor Seleccione      1\n",
       "Age Range: Sélectionnez              1\n",
       "Name: age, dtype: int64"
      ]
     },
     "execution_count": 79,
     "metadata": {},
     "output_type": "execute_result"
    }
   ],
   "source": [
    "df_4['age'].value_counts()"
   ]
  },
  {
   "cell_type": "markdown",
   "id": "gentle-surveillance",
   "metadata": {},
   "source": [
    "Translation and replacement of values:"
   ]
  },
  {
   "cell_type": "code",
   "execution_count": 97,
   "id": "blind-pixel",
   "metadata": {},
   "outputs": [],
   "source": [
    "df_4['age'].replace({\n",
    "    'Age Range: Adult' : 'adult',\n",
    "    'Age Range: Adulto' : 'adult',\n",
    "    'Age Range: Adulte' : 'adult',\n",
    "    'Age Range: Jeune' : 'child',\n",
    "    'Age Range: Senior' : 'senior',\n",
    "    'Age Range: Youth' : 'child',\n",
    "    'Age Range: Please Select' : 'unknown',\n",
    "    'Age Range: Niño' : 'child',\n",
    "    'Age Range: desconocido' : 'unknown',\n",
    "    'Age range: adult;' : 'adult',\n",
    "    'User Name:BlueAgent' : 'unknown',\n",
    "    'Age Range: adult' : 'adult',\n",
    "    'Age Range: inconnu' : 'unknown',\n",
    "    'Age range: youth;' : 'child',\n",
    "    'Age Range: Tercera Edad' : 'senior',\n",
    "    'Age Range: Por favor Seleccione' : 'unknown',\n",
    "    'Age Range: Sélectionnez' : 'unknown'\n",
    "}, inplace=True)"
   ]
  },
  {
   "cell_type": "markdown",
   "id": "subtle-jesus",
   "metadata": {},
   "source": [
    "Post-replacement distribution of age labels:"
   ]
  },
  {
   "cell_type": "code",
   "execution_count": 100,
   "id": "supported-destruction",
   "metadata": {},
   "outputs": [
    {
     "data": {
      "text/plain": [
       "adult      1558\n",
       "child       153\n",
       "senior       59\n",
       "unknown      28\n",
       "Name: age, dtype: int64"
      ]
     },
     "execution_count": 100,
     "metadata": {},
     "output_type": "execute_result"
    }
   ],
   "source": [
    "df_4['age'].value_counts()"
   ]
  },
  {
   "cell_type": "markdown",
   "id": "stretch-township",
   "metadata": {},
   "source": [
    "Voxforge similarly has mainly adult speakers, and does not seem to distinguish teenage speakers as a separate category."
   ]
  },
  {
   "cell_type": "markdown",
   "id": "closed-conspiracy",
   "metadata": {},
   "source": [
    "Listing of age group values from voxforge:"
   ]
  },
  {
   "cell_type": "code",
   "execution_count": 103,
   "id": "leading-beaver",
   "metadata": {},
   "outputs": [
    {
     "data": {
      "text/plain": [
       "Gender: Masculin                584\n",
       "Gender: Masculino               546\n",
       "Gender: Male                    543\n",
       "Gender: Female                   52\n",
       "Gender: Femenino                 37\n",
       "Gender: Féminin                  14\n",
       "Gender: desconocido               8\n",
       "Gender: male;                     6\n",
       "Gender: male                      2\n",
       "Gender: Por favor Seleccione      2\n",
       "Gender: female;                   1\n",
       "Gender: female                    1\n",
       "Gender: Sélectionnez              1\n",
       "Gender: inconnu                   1\n",
       "Name: gender, dtype: int64"
      ]
     },
     "execution_count": 103,
     "metadata": {},
     "output_type": "execute_result"
    }
   ],
   "source": [
    "df_4['gender'].value_counts()"
   ]
  },
  {
   "cell_type": "markdown",
   "id": "dress-hollow",
   "metadata": {},
   "source": [
    "Translation and replacement of gender labels:"
   ]
  },
  {
   "cell_type": "code",
   "execution_count": 104,
   "id": "desirable-orange",
   "metadata": {},
   "outputs": [],
   "source": [
    "df_4['gender'].replace({\n",
    "    'Gender: Female' : 'female',\n",
    "    'Gender: Femenino' : 'female',\n",
    "    'Gender: Féminin' : 'female',\n",
    "    'Gender: Male' : 'male',\n",
    "    'Gender: Masculin' : 'male',\n",
    "    'Gender: Masculino' : 'male',\n",
    "    'Gender: Por favor Seleccione' : 'unknown',\n",
    "    'Gender: Sélectionnez' : 'unknown',\n",
    "    'Gender: desconocido' : 'unknown',\n",
    "    'Gender: female' : 'female',\n",
    "    'Gender: female;' : 'female',\n",
    "    'Gender: inconnu' : 'unknown',\n",
    "    'Gender: male' : 'male',\n",
    "    'Gender: male;' : 'male'\n",
    "}, inplace=True)"
   ]
  },
  {
   "cell_type": "markdown",
   "id": "cordless-conviction",
   "metadata": {},
   "source": [
    "Post-replacement distribution of age group labels:"
   ]
  },
  {
   "cell_type": "code",
   "execution_count": 105,
   "id": "regular-exhaust",
   "metadata": {},
   "outputs": [
    {
     "data": {
      "text/plain": [
       "male       1681\n",
       "female      105\n",
       "unknown      12\n",
       "Name: gender, dtype: int64"
      ]
     },
     "execution_count": 105,
     "metadata": {},
     "output_type": "execute_result"
    }
   ],
   "source": [
    "df_4['gender'].value_counts()"
   ]
  },
  {
   "cell_type": "markdown",
   "id": "super-device",
   "metadata": {},
   "source": [
    "Opposite to the samples obtained from audiolingua, these samples are a vast majority male speakers. There also only seem to be single gender (and single speaker) samples. "
   ]
  },
  {
   "cell_type": "markdown",
   "id": "valuable-ceramic",
   "metadata": {},
   "source": [
    "Distribution of gender labels by language:"
   ]
  },
  {
   "cell_type": "code",
   "execution_count": 106,
   "id": "laughing-sewing",
   "metadata": {},
   "outputs": [
    {
     "data": {
      "text/plain": [
       "language  gender \n",
       "en        female      53\n",
       "          male       545\n",
       "es        female      38\n",
       "          male       552\n",
       "          unknown     10\n",
       "fr        female      14\n",
       "          male       584\n",
       "          unknown      2\n",
       "Name: sample_number, dtype: int64"
      ]
     },
     "execution_count": 106,
     "metadata": {},
     "output_type": "execute_result"
    }
   ],
   "source": [
    "df_4.groupby(by=['language', 'gender']).count()['sample_number']"
   ]
  },
  {
   "cell_type": "markdown",
   "id": "later-marble",
   "metadata": {},
   "source": [
    "Distribution is similarly skewed across languages."
   ]
  },
  {
   "cell_type": "markdown",
   "id": "developmental-adobe",
   "metadata": {},
   "source": [
    "Distribution of age group labels across languages:"
   ]
  },
  {
   "cell_type": "code",
   "execution_count": 107,
   "id": "handmade-chosen",
   "metadata": {},
   "outputs": [
    {
     "data": {
      "text/plain": [
       "language  age    \n",
       "en        adult      483\n",
       "          child       47\n",
       "          senior      50\n",
       "          unknown     18\n",
       "es        adult      577\n",
       "          child       14\n",
       "          senior       1\n",
       "          unknown      8\n",
       "fr        adult      498\n",
       "          child       92\n",
       "          senior       8\n",
       "          unknown      2\n",
       "Name: sample_number, dtype: int64"
      ]
     },
     "execution_count": 107,
     "metadata": {},
     "output_type": "execute_result"
    }
   ],
   "source": [
    "df_4.groupby(by=['language', 'age']).count()['sample_number']"
   ]
  },
  {
   "cell_type": "markdown",
   "id": "connected-marshall",
   "metadata": {},
   "source": [
    "Distribution is similarly skewed across languages."
   ]
  },
  {
   "cell_type": "markdown",
   "id": "scheduled-pharmacology",
   "metadata": {},
   "source": [
    "Although the examined samples only represent a fraction of the sources and languages used, it can be seen that there is at least some amount of variance among the audio files, and there shouldn't be any accumulating cleavages that will prevent a machine learning model from identifying speech from a variety of different speakers."
   ]
  }
 ],
 "metadata": {
  "kernelspec": {
   "display_name": "Python 3",
   "language": "python",
   "name": "python3"
  },
  "language_info": {
   "codemirror_mode": {
    "name": "ipython",
    "version": 3
   },
   "file_extension": ".py",
   "mimetype": "text/x-python",
   "name": "python",
   "nbconvert_exporter": "python",
   "pygments_lexer": "ipython3",
   "version": "3.8.5"
  }
 },
 "nbformat": 4,
 "nbformat_minor": 5
}
